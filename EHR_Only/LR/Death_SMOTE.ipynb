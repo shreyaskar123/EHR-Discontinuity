{
 "cells": [
  {
   "cell_type": "code",
   "execution_count": 3,
   "id": "a8be2994",
   "metadata": {},
   "outputs": [],
   "source": [
    "import pandas as pd\n",
    "medicare = pd.read_csv(\"/netapp2/home/se197/RPDR/Josh Lin/3_EHR_V2/CMS/Data/final_medicare.csv\")"
   ]
  },
  {
   "cell_type": "code",
   "execution_count": 41,
   "id": "b48521f7",
   "metadata": {},
   "outputs": [],
   "source": [
    "train_set = medicare[medicare.Hospital != 'BWH'] # MGH; n = 204014\n",
    "validation_set = medicare[medicare.Hospital == 'BWH'] # BWH and Neither; n = 115726\n",
    "import numpy as np\n",
    "\n",
    "fifty_perc_EHR_cont = np.percentile(medicare['Cal_MPEC_R0'],50)\n",
    "train_set_high = train_set[train_set.Cal_MPEC_R0 >= fifty_perc_EHR_cont]\n",
    "train_set_low= train_set[train_set.Cal_MPEC_R0 < fifty_perc_EHR_cont]\n",
    "\n",
    "validation_set_high = validation_set[validation_set.Cal_MPEC_R0 >= fifty_perc_EHR_cont]\n",
    "validation_set_low = validation_set[validation_set.Cal_MPEC_R0 < fifty_perc_EHR_cont]\n"
   ]
  },
  {
   "cell_type": "code",
   "execution_count": 42,
   "id": "6b95c87e",
   "metadata": {},
   "outputs": [
    {
     "name": "stdout",
     "output_type": "stream",
     "text": [
      "4012\n"
     ]
    }
   ],
   "source": [
    "predictor_variable = [\n",
    "        'Co_CAD_R0', 'Co_Embolism_R0', 'Co_DVT_R0', 'Co_PE_R0', 'Co_AFib_R0',\n",
    "        'Co_Hypertension_R0', 'Co_Hyperlipidemia_R0', 'Co_Atherosclerosis_R0',\n",
    "        'Co_HF_R0', 'Co_HemoStroke_R0', 'Co_IscheStroke_R0', 'Co_OthStroke_R0',\n",
    "        'Co_TIA_R0', 'Co_COPD_R0', 'Co_Asthma_R0', 'Co_Pneumonia_R0', 'Co_Alcoholabuse_R0',\n",
    "        'Co_Drugabuse_R0', 'Co_Epilepsy_R0', 'Co_Cancer_R0', 'Co_MorbidObesity_R0',\n",
    "        'Co_Dementia_R0', 'Co_Depression_R0', 'Co_Bipolar_R0', 'Co_Psychosis_R0',\n",
    "        'Co_Personalitydisorder_R0', 'Co_Adjustmentdisorder_R0', 'Co_Anxiety_R0',\n",
    "        'Co_Generalizedanxiety_R0', 'Co_OldMI_R0', 'Co_AcuteMI_R0', 'Co_PUD_R0',\n",
    "        'Co_UpperGIbleed_R0', 'Co_LowerGIbleed_R0', 'Co_Urogenitalbleed_R0',\n",
    "        'Co_Othbleed_R0', 'Co_PVD_R0', 'Co_LiverDisease_R0', 'Co_MRI_R0',\n",
    "        'Co_ESRD_R0', 'Co_Obesity_R0', 'Co_Sepsis_R0', 'Co_Osteoarthritis_R0',\n",
    "        'Co_RA_R0', 'Co_NeuroPain_R0', 'Co_NeckPain_R0', 'Co_OthArthritis_R0',\n",
    "        'Co_Osteoporosis_R0', 'Co_Fibromyalgia_R0', 'Co_Migraine_R0', 'Co_Headache_R0',\n",
    "        'Co_OthPain_R0', 'Co_GeneralizedPain_R0', 'Co_PainDisorder_R0',\n",
    "        'Co_Falls_R0', 'Co_CoagulationDisorder_R0', 'Co_WhiteBloodCell_R0', 'Co_Parkinson_R0',\n",
    "        'Co_Anemia_R0', 'Co_UrinaryIncontinence_R0', 'Co_DecubitusUlcer_R0',\n",
    "        'Co_Oxygen_R0', 'Co_Mammography_R0', 'Co_PapTest_R0', 'Co_PSATest_R0',\n",
    "        'Co_Colonoscopy_R0', 'Co_FecalOccultTest_R0', 'Co_FluShot_R0', 'Co_PneumococcalVaccine_R0', 'Co_RenalDysfunction_R0', 'Co_Valvular_R0', 'Co_Hosp_Prior30Days_R0',\n",
    "        'Co_RX_Antibiotic_R0', 'Co_RX_Corticosteroid_R0', 'Co_RX_Aspirin_R0', 'Co_RX_Dipyridamole_R0',\n",
    "        'Co_RX_Clopidogrel_R0', 'Co_RX_Prasugrel_R0', 'Co_RX_Cilostazol_R0', 'Co_RX_Ticlopidine_R0',\n",
    "        'Co_RX_Ticagrelor_R0', 'Co_RX_OthAntiplatelet_R0', 'Co_RX_NSAIDs_R0',\n",
    "        'Co_RX_Opioid_R0', 'Co_RX_Antidepressant_R0', 'Co_RX_AAntipsychotic_R0', 'Co_RX_TAntipsychotic_R0',\n",
    "        'Co_RX_Anticonvulsant_R0', 'Co_RX_PPI_R0', 'Co_RX_H2Receptor_R0', 'Co_RX_OthGastro_R0',\n",
    "        'Co_RX_ACE_R0', 'Co_RX_ARB_R0', 'Co_RX_BBlocker_R0', 'Co_RX_CCB_R0', 'Co_RX_Thiazide_R0',\n",
    "        'Co_RX_Loop_R0', 'Co_RX_Potassium_R0', 'Co_RX_Nitrates_R0', 'Co_RX_Aliskiren_R0',\n",
    "        'Co_RX_OthAntihypertensive_R0', 'Co_RX_Antiarrhythmic_R0', 'Co_RX_OthAnticoagulant_R0',\n",
    "        'Co_RX_Insulin_R0', 'Co_RX_Noninsulin_R0', 'Co_RX_Digoxin_R0', 'Co_RX_Statin_R0',\n",
    "        'Co_RX_Lipid_R0', 'Co_RX_Lithium_R0', 'Co_RX_Benzo_R0', 'Co_RX_ZDrugs_R0',\n",
    "        'Co_RX_OthAnxiolytic_R0', 'Co_RX_Dementia_R0', 'Co_RX_Hormone_R0',\n",
    "        'Co_RX_Osteoporosis_R0', 'Co_N_Drugs_R0', 'Co_N_Hosp_R0', 'Co_Total_HospLOS_R0',\n",
    "        'Co_N_MDVisit_R0', 'Co_RX_AnyAspirin_R0', 'Co_RX_AspirinMono_R0', 'Co_RX_ClopidogrelMono_R0',\n",
    "        'Co_RX_AspirinClopidogrel_R0', 'Co_RX_DM_R0', 'Co_RX_Antipsychotic_R0'\n",
    "]\n",
    "\n",
    "co_train_gpop = train_set[predictor_variable]\n",
    "    \n",
    "co_train_high = train_set_high[predictor_variable]\n",
    "\n",
    "co_train_low = train_set_low[predictor_variable]\n",
    "\n",
    "co_validation_gpop = validation_set[predictor_variable]\n",
    "co_validation_gpop_split = np.array_split(co_validation_gpop, 5)  \n",
    "\n",
    "co_validation_high = validation_set_high[predictor_variable]\n",
    "co_validation_high_split = np.array_split(co_validation_high, 5)  \n",
    "\n",
    "co_validation_low = validation_set_low[predictor_variable]\n",
    "co_validation_low_split = np.array_split(co_validation_low, 5)  \n"
   ]
  },
  {
   "cell_type": "code",
   "execution_count": 43,
   "id": "be05ecf8",
   "metadata": {},
   "outputs": [
    {
     "name": "stdout",
     "output_type": "stream",
     "text": [
      "4012\n",
      "\n",
      "\n",
      "\n",
      "\n",
      "\n"
     ]
    }
   ],
   "source": [
    "out_train_death_gpop = train_set['ehr_claims_death']\n",
    "\n",
    "out_train_death_high = train_set_high['ehr_claims_death']\n",
    "out_train_death_low = train_set_low['ehr_claims_death']\n",
    "\n",
    "out_validation_death_gpop_split = [] \n",
    "out_validation_death_gpop = validation_set['ehr_claims_death']\n",
    "for parts in co_validation_gpop_split:\n",
    "    out_validation_death_gpop_split.append(out_validation_death_gpop[parts.index])\n",
    "print(len(out_validation_death_gpop_split[0]))\n",
    "\n",
    "out_validation_death_high_split = []\n",
    "out_validation_death_high = validation_set_high['ehr_claims_death']\n",
    "for parts in co_validation_high_split:\n",
    "    print()\n",
    "    out_validation_death_high_split.append(out_validation_death_high[parts.index])\n",
    "#print(out_validation_death_high_split[0])\n",
    "out_validation_death_low_split = []\n",
    "out_validation_death_low = validation_set_low['ehr_claims_death']\n",
    "for parts in co_validation_low_split:\n",
    "    out_validation_death_low_split.append(out_validation_death_low[parts.index])"
   ]
  },
  {
   "cell_type": "code",
   "execution_count": 44,
   "id": "b34df4d7",
   "metadata": {},
   "outputs": [],
   "source": [
    "def lr(X_train, y_train):\n",
    "    from sklearn.linear_model import Lasso\n",
    "    from sklearn.decomposition import PCA\n",
    "    from sklearn.linear_model import LogisticRegression\n",
    "    from sklearn.model_selection import GridSearchCV\n",
    "    from imblearn.over_sampling import SMOTE\n",
    "    from sklearn.preprocessing import StandardScaler \n",
    "\n",
    "    model = LogisticRegression()\n",
    "    param_grid = [\n",
    "        {'C' : np.logspace(-4, 4, 20)}\n",
    "        ]\n",
    "    clf = GridSearchCV(model, param_grid, cv = 5, verbose = True, n_jobs = -1)\n",
    "    best_clf = clf.fit(X_train, y_train)\n",
    "    return best_clf"
   ]
  },
  {
   "cell_type": "code",
   "execution_count": 45,
   "id": "24037d8b",
   "metadata": {},
   "outputs": [],
   "source": [
    "def scores(X_train,y_train):\n",
    "    from sklearn.metrics import accuracy_score\n",
    "    from sklearn.metrics import f1_score\n",
    "    from sklearn.metrics import fbeta_score\n",
    "    from sklearn.metrics import roc_auc_score \n",
    "    from sklearn.metrics import log_loss\n",
    "\n",
    "    pred = best_clf.predict(X_train)\n",
    "    actual = y_train\n",
    "    print(accuracy_score(actual,pred))\n",
    "    print(f1_score(actual,pred))\n",
    "    print(fbeta_score(actual,pred, average = 'macro', beta = 2))\n",
    "    print(roc_auc_score(actual, best_clf.predict_proba(X_train)[:,1]))\n",
    "    print(log_loss(actual,best_clf.predict_proba(X_train)[:,1]))\n",
    "    \n",
    "    \n"
   ]
  },
  {
   "cell_type": "code",
   "execution_count": 46,
   "id": "209f936c",
   "metadata": {},
   "outputs": [],
   "source": [
    "def cross_val(X,y,Or_X, Or_y):\n",
    "    from sklearn.model_selection import KFold\n",
    "    from sklearn.model_selection import cross_validate\n",
    "    from sklearn.metrics import log_loss\n",
    "    from sklearn.metrics import roc_auc_score\n",
    "    from sklearn.metrics import fbeta_score\n",
    "    import sklearn\n",
    "    import numpy as np\n",
    "    cv = KFold(n_splits=5, random_state=1, shuffle=True)\n",
    "    log_loss = [] \n",
    "    auc = [] \n",
    "    accuracy = [] \n",
    "    f1 = [] \n",
    "    f2 = [] \n",
    "    print(cv.split(X))\n",
    "    iter = 0\n",
    "    for train_index, test_index in cv.split(X):\n",
    "        \n",
    "        X_train, X_test, y_train, y_test = X.iloc[train_index], Or_X[iter], y.iloc[train_index], Or_y[iter]\n",
    "        model = lr(X_train, y_train)\n",
    "        prob = model.predict_proba(X_test)[:,1] # prob is a vector of probabilities \n",
    "        print(prob)\n",
    "        pred = np.round(prob) # pred is the rounded predictions \n",
    "        \n",
    "        log_loss.append(sklearn.metrics.log_loss(y_test, prob))\n",
    "        auc.append(sklearn.metrics.roc_auc_score(y_test, prob))\n",
    "        accuracy.append(sklearn.metrics.accuracy_score(y_test, pred))\n",
    "        f1.append(sklearn.metrics.f1_score(y_test, pred, average = 'macro'))\n",
    "        f2.append(fbeta_score(y_test,pred, average = 'macro', beta = 2))\n",
    "    print(np.mean(accuracy))\n",
    "    print(np.mean(f1))\n",
    "    print(np.mean(f2))\n",
    "    print(np.mean(auc))\n",
    "    print(np.mean(log_loss))"
   ]
  },
  {
   "cell_type": "markdown",
   "id": "acf1c508",
   "metadata": {},
   "source": [
    "# General Population "
   ]
  },
  {
   "cell_type": "code",
   "execution_count": 47,
   "id": "a28cd789",
   "metadata": {},
   "outputs": [
    {
     "name": "stdout",
     "output_type": "stream",
     "text": [
      "Fitting 5 folds for each of 20 candidates, totalling 100 fits\n"
     ]
    },
    {
     "name": "stderr",
     "output_type": "stream",
     "text": [
      "/PHShome/se197/anaconda3/lib/python3.8/site-packages/sklearn/linear_model/_logistic.py:763: ConvergenceWarning: lbfgs failed to converge (status=1):\n",
      "STOP: TOTAL NO. of ITERATIONS REACHED LIMIT.\n",
      "\n",
      "Increase the number of iterations (max_iter) or scale the data as shown in:\n",
      "    https://scikit-learn.org/stable/modules/preprocessing.html\n",
      "Please also refer to the documentation for alternative solver options:\n",
      "    https://scikit-learn.org/stable/modules/linear_model.html#logistic-regression\n",
      "  n_iter_i = _check_optimize_result(\n"
     ]
    },
    {
     "name": "stdout",
     "output_type": "stream",
     "text": [
      "<generator object _BaseKFold.split at 0x7f2fa0853b30>\n",
      "Fitting 5 folds for each of 20 candidates, totalling 100 fits\n"
     ]
    },
    {
     "name": "stderr",
     "output_type": "stream",
     "text": [
      "/PHShome/se197/anaconda3/lib/python3.8/site-packages/sklearn/linear_model/_logistic.py:763: ConvergenceWarning: lbfgs failed to converge (status=1):\n",
      "STOP: TOTAL NO. of ITERATIONS REACHED LIMIT.\n",
      "\n",
      "Increase the number of iterations (max_iter) or scale the data as shown in:\n",
      "    https://scikit-learn.org/stable/modules/preprocessing.html\n",
      "Please also refer to the documentation for alternative solver options:\n",
      "    https://scikit-learn.org/stable/modules/linear_model.html#logistic-regression\n",
      "  n_iter_i = _check_optimize_result(\n"
     ]
    },
    {
     "name": "stdout",
     "output_type": "stream",
     "text": [
      "[0.43206481 0.21797313 0.19950953 ... 0.63843233 0.65522106 0.40518759]\n",
      "Fitting 5 folds for each of 20 candidates, totalling 100 fits\n"
     ]
    },
    {
     "name": "stderr",
     "output_type": "stream",
     "text": [
      "/PHShome/se197/anaconda3/lib/python3.8/site-packages/sklearn/linear_model/_logistic.py:763: ConvergenceWarning: lbfgs failed to converge (status=1):\n",
      "STOP: TOTAL NO. of ITERATIONS REACHED LIMIT.\n",
      "\n",
      "Increase the number of iterations (max_iter) or scale the data as shown in:\n",
      "    https://scikit-learn.org/stable/modules/preprocessing.html\n",
      "Please also refer to the documentation for alternative solver options:\n",
      "    https://scikit-learn.org/stable/modules/linear_model.html#logistic-regression\n",
      "  n_iter_i = _check_optimize_result(\n"
     ]
    },
    {
     "name": "stdout",
     "output_type": "stream",
     "text": [
      "[0.42016056 0.23054226 0.19163699 ... 0.63657236 0.68268391 0.43477156]\n",
      "Fitting 5 folds for each of 20 candidates, totalling 100 fits\n"
     ]
    },
    {
     "name": "stderr",
     "output_type": "stream",
     "text": [
      "/PHShome/se197/anaconda3/lib/python3.8/site-packages/sklearn/linear_model/_logistic.py:763: ConvergenceWarning: lbfgs failed to converge (status=1):\n",
      "STOP: TOTAL NO. of ITERATIONS REACHED LIMIT.\n",
      "\n",
      "Increase the number of iterations (max_iter) or scale the data as shown in:\n",
      "    https://scikit-learn.org/stable/modules/preprocessing.html\n",
      "Please also refer to the documentation for alternative solver options:\n",
      "    https://scikit-learn.org/stable/modules/linear_model.html#logistic-regression\n",
      "  n_iter_i = _check_optimize_result(\n"
     ]
    },
    {
     "name": "stdout",
     "output_type": "stream",
     "text": [
      "[0.43605655 0.23122203 0.19531898 ... 0.62481107 0.64691016 0.37601543]\n",
      "Fitting 5 folds for each of 20 candidates, totalling 100 fits\n"
     ]
    },
    {
     "name": "stderr",
     "output_type": "stream",
     "text": [
      "/PHShome/se197/anaconda3/lib/python3.8/site-packages/sklearn/linear_model/_logistic.py:763: ConvergenceWarning: lbfgs failed to converge (status=1):\n",
      "STOP: TOTAL NO. of ITERATIONS REACHED LIMIT.\n",
      "\n",
      "Increase the number of iterations (max_iter) or scale the data as shown in:\n",
      "    https://scikit-learn.org/stable/modules/preprocessing.html\n",
      "Please also refer to the documentation for alternative solver options:\n",
      "    https://scikit-learn.org/stable/modules/linear_model.html#logistic-regression\n",
      "  n_iter_i = _check_optimize_result(\n"
     ]
    },
    {
     "name": "stdout",
     "output_type": "stream",
     "text": [
      "[0.38616545 0.21281909 0.18710002 ... 0.65025873 0.64735861 0.37917046]\n",
      "Fitting 5 folds for each of 20 candidates, totalling 100 fits\n"
     ]
    },
    {
     "name": "stderr",
     "output_type": "stream",
     "text": [
      "/PHShome/se197/anaconda3/lib/python3.8/site-packages/sklearn/linear_model/_logistic.py:763: ConvergenceWarning: lbfgs failed to converge (status=1):\n",
      "STOP: TOTAL NO. of ITERATIONS REACHED LIMIT.\n",
      "\n",
      "Increase the number of iterations (max_iter) or scale the data as shown in:\n",
      "    https://scikit-learn.org/stable/modules/preprocessing.html\n",
      "Please also refer to the documentation for alternative solver options:\n",
      "    https://scikit-learn.org/stable/modules/linear_model.html#logistic-regression\n",
      "  n_iter_i = _check_optimize_result(\n"
     ]
    },
    {
     "name": "stdout",
     "output_type": "stream",
     "text": [
      "[0.48626957 0.19819598 0.19547656 ... 0.65390788 0.65579715 0.39325942]\n",
      "0.7415752741774677\n",
      "0.5934733006767731\n",
      "0.6427191139362458\n",
      "0.8008278025736146\n",
      "0.5808241935388894\n",
      "\n",
      "0.7726327550355359\n",
      "0.37234407128169983\n",
      "0.6668235410054781\n",
      "0.8232139937794526\n",
      "0.5214141860634781\n",
      "\n",
      "0.7245213402473075\n",
      "0.34992352041416636\n",
      "0.6336328100743743\n",
      "0.7910405293941463\n",
      "0.5997223354166593\n"
     ]
    },
    {
     "data": {
      "text/plain": [
       "['Co_CAD_R0[[0.14237405]]',\n",
       " 'Co_Embolism_R0[[0.09668354]]',\n",
       " 'Co_DVT_R0[[-0.20214606]]',\n",
       " 'Co_PE_R0[[0.17017016]]',\n",
       " 'Co_AFib_R0[[0.34470762]]',\n",
       " 'Co_Hypertension_R0[[-0.11448948]]',\n",
       " 'Co_Hyperlipidemia_R0[[-0.60299526]]',\n",
       " 'Co_Atherosclerosis_R0[[0.03818935]]',\n",
       " 'Co_HF_R0[[0.63917681]]',\n",
       " 'Co_HemoStroke_R0[[0.37826402]]',\n",
       " 'Co_IscheStroke_R0[[0.03083912]]',\n",
       " 'Co_OthStroke_R0[[-0.10826909]]',\n",
       " 'Co_TIA_R0[[-0.40075244]]',\n",
       " 'Co_COPD_R0[[0.63282166]]',\n",
       " 'Co_Asthma_R0[[-0.76946601]]',\n",
       " 'Co_Pneumonia_R0[[0.41494503]]',\n",
       " 'Co_Alcoholabuse_R0[[-0.4001381]]',\n",
       " 'Co_Drugabuse_R0[[-0.33662067]]',\n",
       " 'Co_Epilepsy_R0[[-0.08956885]]',\n",
       " 'Co_Cancer_R0[[0.64143706]]',\n",
       " 'Co_MorbidObesity_R0[[-0.259645]]',\n",
       " 'Co_Dementia_R0[[1.19686811]]',\n",
       " 'Co_Depression_R0[[-0.22095081]]',\n",
       " 'Co_Bipolar_R0[[-0.24481832]]',\n",
       " 'Co_Psychosis_R0[[-0.33355743]]',\n",
       " 'Co_Personalitydisorder_R0[[0.01383259]]',\n",
       " 'Co_Adjustmentdisorder_R0[[-0.04660632]]',\n",
       " 'Co_Anxiety_R0[[-0.29753508]]',\n",
       " 'Co_Generalizedanxiety_R0[[-0.08723289]]',\n",
       " 'Co_OldMI_R0[[-0.10924675]]',\n",
       " 'Co_AcuteMI_R0[[0.09943847]]',\n",
       " 'Co_PUD_R0[[-0.36350244]]',\n",
       " 'Co_UpperGIbleed_R0[[-0.00461157]]',\n",
       " 'Co_LowerGIbleed_R0[[0.07116326]]',\n",
       " 'Co_Urogenitalbleed_R0[[0.00430737]]',\n",
       " 'Co_Othbleed_R0[[-0.37676161]]',\n",
       " 'Co_PVD_R0[[0.19900678]]',\n",
       " 'Co_LiverDisease_R0[[0.40829089]]',\n",
       " 'Co_MRI_R0[[-0.08186559]]',\n",
       " 'Co_ESRD_R0[[0.27255847]]',\n",
       " 'Co_Obesity_R0[[-0.89008919]]',\n",
       " 'Co_Sepsis_R0[[0.16293206]]',\n",
       " 'Co_Osteoarthritis_R0[[-0.49377249]]',\n",
       " 'Co_RA_R0[[-0.24085189]]',\n",
       " 'Co_NeuroPain_R0[[-0.08126637]]',\n",
       " 'Co_NeckPain_R0[[-0.19052297]]',\n",
       " 'Co_OthArthritis_R0[[-0.14198523]]',\n",
       " 'Co_Osteoporosis_R0[[-0.13226494]]',\n",
       " 'Co_Fibromyalgia_R0[[-0.38163295]]',\n",
       " 'Co_Migraine_R0[[-0.25332725]]',\n",
       " 'Co_Headache_R0[[-0.29860284]]',\n",
       " 'Co_OthPain_R0[[0.23751101]]',\n",
       " 'Co_GeneralizedPain_R0[[0.14686124]]',\n",
       " 'Co_PainDisorder_R0[[-0.01955672]]',\n",
       " 'Co_Falls_R0[[0.41924776]]',\n",
       " 'Co_CoagulationDisorder_R0[[-0.22235013]]',\n",
       " 'Co_WhiteBloodCell_R0[[0.4099121]]',\n",
       " 'Co_Parkinson_R0[[0.02906767]]',\n",
       " 'Co_Anemia_R0[[0.30479306]]',\n",
       " 'Co_UrinaryIncontinence_R0[[-0.07146403]]',\n",
       " 'Co_DecubitusUlcer_R0[[0.60688054]]',\n",
       " 'Co_Oxygen_R0[[0.34697637]]',\n",
       " 'Co_Mammography_R0[[-1.11746504]]',\n",
       " 'Co_PapTest_R0[[-0.52865864]]',\n",
       " 'Co_PSATest_R0[[-0.64935727]]',\n",
       " 'Co_Colonoscopy_R0[[-0.55767705]]',\n",
       " 'Co_FecalOccultTest_R0[[-0.12193765]]',\n",
       " 'Co_FluShot_R0[[-0.33376811]]',\n",
       " 'Co_PneumococcalVaccine_R0[[-0.57980641]]',\n",
       " 'Co_RenalDysfunction_R0[[0.45044681]]',\n",
       " 'Co_Valvular_R0[[-0.08385751]]',\n",
       " 'Co_Hosp_Prior30Days_R0[[1.32759216]]',\n",
       " 'Co_RX_Antibiotic_R0[[-0.22710089]]',\n",
       " 'Co_RX_Corticosteroid_R0[[0.28009373]]',\n",
       " 'Co_RX_Aspirin_R0[[-0.05685823]]',\n",
       " 'Co_RX_Dipyridamole_R0[[-0.02842189]]',\n",
       " 'Co_RX_Clopidogrel_R0[[-0.05776248]]',\n",
       " 'Co_RX_Prasugrel_R0[[-0.0641057]]',\n",
       " 'Co_RX_Cilostazol_R0[[0.06894468]]',\n",
       " 'Co_RX_Ticlopidine_R0[[0.00595161]]',\n",
       " 'Co_RX_Ticagrelor_R0[[-0.06984359]]',\n",
       " 'Co_RX_OthAntiplatelet_R0[[0.07489629]]',\n",
       " 'Co_RX_NSAIDs_R0[[-0.08126599]]',\n",
       " 'Co_RX_Opioid_R0[[0.1411241]]',\n",
       " 'Co_RX_Antidepressant_R0[[0.24928894]]',\n",
       " 'Co_RX_AAntipsychotic_R0[[0.09128079]]',\n",
       " 'Co_RX_TAntipsychotic_R0[[-0.16737457]]',\n",
       " 'Co_RX_Anticonvulsant_R0[[0.10563344]]',\n",
       " 'Co_RX_PPI_R0[[0.28431969]]',\n",
       " 'Co_RX_H2Receptor_R0[[0.00766338]]',\n",
       " 'Co_RX_OthGastro_R0[[-0.50255842]]',\n",
       " 'Co_RX_ACE_R0[[-0.15158565]]',\n",
       " 'Co_RX_ARB_R0[[-0.41544042]]',\n",
       " 'Co_RX_BBlocker_R0[[0.06914955]]',\n",
       " 'Co_RX_CCB_R0[[-0.01784232]]',\n",
       " 'Co_RX_Thiazide_R0[[-0.26677453]]',\n",
       " 'Co_RX_Loop_R0[[0.35611067]]',\n",
       " 'Co_RX_Potassium_R0[[0.1547713]]',\n",
       " 'Co_RX_Nitrates_R0[[-0.04879283]]',\n",
       " 'Co_RX_Aliskiren_R0[[0.01002759]]',\n",
       " 'Co_RX_OthAntihypertensive_R0[[-0.14941539]]',\n",
       " 'Co_RX_Antiarrhythmic_R0[[-0.10414444]]',\n",
       " 'Co_RX_OthAnticoagulant_R0[[-0.05536628]]',\n",
       " 'Co_RX_Insulin_R0[[0.13142968]]',\n",
       " 'Co_RX_Noninsulin_R0[[-0.2085063]]',\n",
       " 'Co_RX_Digoxin_R0[[0.03576084]]',\n",
       " 'Co_RX_Statin_R0[[-0.34099264]]',\n",
       " 'Co_RX_Lipid_R0[[-0.50703439]]',\n",
       " 'Co_RX_Lithium_R0[[-0.07303955]]',\n",
       " 'Co_RX_Benzo_R0[[-0.01681631]]',\n",
       " 'Co_RX_ZDrugs_R0[[-0.12738639]]',\n",
       " 'Co_RX_OthAnxiolytic_R0[[0.16287864]]',\n",
       " 'Co_RX_Dementia_R0[[0.15710114]]',\n",
       " 'Co_RX_Hormone_R0[[-0.46724127]]',\n",
       " 'Co_RX_Osteoporosis_R0[[-0.0330049]]',\n",
       " 'Co_N_Drugs_R0[[0.00898561]]',\n",
       " 'Co_N_Hosp_R0[[-0.13931393]]',\n",
       " 'Co_Total_HospLOS_R0[[-0.00014047]]',\n",
       " 'Co_N_MDVisit_R0[[0.0188242]]',\n",
       " 'Co_RX_AnyAspirin_R0[[-0.05970466]]',\n",
       " 'Co_RX_AspirinMono_R0[[-0.00417827]]',\n",
       " 'Co_RX_ClopidogrelMono_R0[[-0.06881394]]',\n",
       " 'Co_RX_AspirinClopidogrel_R0[[0.0210533]]',\n",
       " 'Co_RX_DM_R0[[0.02025586]]',\n",
       " 'Co_RX_Antipsychotic_R0[[0.02736464]]']"
      ]
     },
     "execution_count": 47,
     "metadata": {},
     "output_type": "execute_result"
    }
   ],
   "source": [
    "from imblearn.over_sampling import SMOTE\n",
    "sm = SMOTE(random_state = 42)\n",
    "co_train_gpop_sm,out_train_death_gpop_sm = sm.fit_resample(co_train_gpop,out_train_death_gpop)\n",
    "\n",
    "best_clf = lr(co_train_gpop_sm, out_train_death_gpop_sm)\n",
    "\n",
    "cross_val(co_train_gpop_sm, out_train_death_gpop_sm, co_validation_gpop_split, out_validation_death_gpop_split)\n",
    "\n",
    "print()\n",
    "\n",
    "scores(co_train_gpop, out_train_death_gpop)\n",
    "\n",
    "print()\n",
    "\n",
    "scores(co_validation_gpop, out_validation_death_gpop)\n",
    "\n",
    "comb = [] \n",
    "for i in range(len(predictor_variable)):\n",
    "    comb.append(predictor_variable[i] + str(best_clf.best_estimator_.coef_[:,i:i+1]))\n",
    "comb"
   ]
  },
  {
   "cell_type": "markdown",
   "id": "5a54a99a",
   "metadata": {},
   "source": [
    "# High Continuity"
   ]
  },
  {
   "cell_type": "code",
   "execution_count": 48,
   "id": "fb23e67a",
   "metadata": {},
   "outputs": [
    {
     "name": "stdout",
     "output_type": "stream",
     "text": [
      "Fitting 5 folds for each of 20 candidates, totalling 100 fits\n"
     ]
    },
    {
     "name": "stderr",
     "output_type": "stream",
     "text": [
      "/PHShome/se197/anaconda3/lib/python3.8/site-packages/sklearn/linear_model/_logistic.py:763: ConvergenceWarning: lbfgs failed to converge (status=1):\n",
      "STOP: TOTAL NO. of ITERATIONS REACHED LIMIT.\n",
      "\n",
      "Increase the number of iterations (max_iter) or scale the data as shown in:\n",
      "    https://scikit-learn.org/stable/modules/preprocessing.html\n",
      "Please also refer to the documentation for alternative solver options:\n",
      "    https://scikit-learn.org/stable/modules/linear_model.html#logistic-regression\n",
      "  n_iter_i = _check_optimize_result(\n"
     ]
    },
    {
     "name": "stdout",
     "output_type": "stream",
     "text": [
      "<generator object _BaseKFold.split at 0x7f2fa08574a0>\n",
      "Fitting 5 folds for each of 20 candidates, totalling 100 fits\n"
     ]
    },
    {
     "name": "stderr",
     "output_type": "stream",
     "text": [
      "/PHShome/se197/anaconda3/lib/python3.8/site-packages/sklearn/linear_model/_logistic.py:763: ConvergenceWarning: lbfgs failed to converge (status=1):\n",
      "STOP: TOTAL NO. of ITERATIONS REACHED LIMIT.\n",
      "\n",
      "Increase the number of iterations (max_iter) or scale the data as shown in:\n",
      "    https://scikit-learn.org/stable/modules/preprocessing.html\n",
      "Please also refer to the documentation for alternative solver options:\n",
      "    https://scikit-learn.org/stable/modules/linear_model.html#logistic-regression\n",
      "  n_iter_i = _check_optimize_result(\n"
     ]
    },
    {
     "name": "stdout",
     "output_type": "stream",
     "text": [
      "[0.18639324 0.30158073 0.12760649 ... 0.36060721 0.93190497 0.7084054 ]\n",
      "Fitting 5 folds for each of 20 candidates, totalling 100 fits\n"
     ]
    },
    {
     "name": "stderr",
     "output_type": "stream",
     "text": [
      "/PHShome/se197/anaconda3/lib/python3.8/site-packages/sklearn/linear_model/_logistic.py:763: ConvergenceWarning: lbfgs failed to converge (status=1):\n",
      "STOP: TOTAL NO. of ITERATIONS REACHED LIMIT.\n",
      "\n",
      "Increase the number of iterations (max_iter) or scale the data as shown in:\n",
      "    https://scikit-learn.org/stable/modules/preprocessing.html\n",
      "Please also refer to the documentation for alternative solver options:\n",
      "    https://scikit-learn.org/stable/modules/linear_model.html#logistic-regression\n",
      "  n_iter_i = _check_optimize_result(\n"
     ]
    },
    {
     "name": "stdout",
     "output_type": "stream",
     "text": [
      "[0.20596051 0.26038571 0.16895168 ... 0.49778219 0.93299875 0.70616531]\n",
      "Fitting 5 folds for each of 20 candidates, totalling 100 fits\n"
     ]
    },
    {
     "name": "stderr",
     "output_type": "stream",
     "text": [
      "/PHShome/se197/anaconda3/lib/python3.8/site-packages/sklearn/linear_model/_logistic.py:763: ConvergenceWarning: lbfgs failed to converge (status=1):\n",
      "STOP: TOTAL NO. of ITERATIONS REACHED LIMIT.\n",
      "\n",
      "Increase the number of iterations (max_iter) or scale the data as shown in:\n",
      "    https://scikit-learn.org/stable/modules/preprocessing.html\n",
      "Please also refer to the documentation for alternative solver options:\n",
      "    https://scikit-learn.org/stable/modules/linear_model.html#logistic-regression\n",
      "  n_iter_i = _check_optimize_result(\n"
     ]
    },
    {
     "name": "stdout",
     "output_type": "stream",
     "text": [
      "[0.17051056 0.31427288 0.16278918 ... 0.46379546 0.93096292 0.65516933]\n",
      "Fitting 5 folds for each of 20 candidates, totalling 100 fits\n"
     ]
    },
    {
     "name": "stderr",
     "output_type": "stream",
     "text": [
      "/PHShome/se197/anaconda3/lib/python3.8/site-packages/sklearn/linear_model/_logistic.py:763: ConvergenceWarning: lbfgs failed to converge (status=1):\n",
      "STOP: TOTAL NO. of ITERATIONS REACHED LIMIT.\n",
      "\n",
      "Increase the number of iterations (max_iter) or scale the data as shown in:\n",
      "    https://scikit-learn.org/stable/modules/preprocessing.html\n",
      "Please also refer to the documentation for alternative solver options:\n",
      "    https://scikit-learn.org/stable/modules/linear_model.html#logistic-regression\n",
      "  n_iter_i = _check_optimize_result(\n"
     ]
    },
    {
     "name": "stdout",
     "output_type": "stream",
     "text": [
      "[0.17232192 0.30119062 0.10870268 ... 0.42750316 0.93653197 0.67378961]\n",
      "Fitting 5 folds for each of 20 candidates, totalling 100 fits\n"
     ]
    },
    {
     "name": "stderr",
     "output_type": "stream",
     "text": [
      "/PHShome/se197/anaconda3/lib/python3.8/site-packages/sklearn/linear_model/_logistic.py:763: ConvergenceWarning: lbfgs failed to converge (status=1):\n",
      "STOP: TOTAL NO. of ITERATIONS REACHED LIMIT.\n",
      "\n",
      "Increase the number of iterations (max_iter) or scale the data as shown in:\n",
      "    https://scikit-learn.org/stable/modules/preprocessing.html\n",
      "Please also refer to the documentation for alternative solver options:\n",
      "    https://scikit-learn.org/stable/modules/linear_model.html#logistic-regression\n",
      "  n_iter_i = _check_optimize_result(\n"
     ]
    },
    {
     "name": "stdout",
     "output_type": "stream",
     "text": [
      "[0.1770939  0.32191979 0.14111003 ... 0.40629021 0.9426585  0.71361602]\n",
      "0.7613778705636743\n",
      "0.5817807777049782\n",
      "0.6343014240387111\n",
      "0.8143243243243242\n",
      "0.5263136857636991\n",
      "\n",
      "0.7808995466475781\n",
      "0.3239462543714338\n",
      "0.6547707347594924\n",
      "0.8506980149817308\n",
      "0.4877634964007227\n",
      "\n",
      "0.7510962622676968\n",
      "0.28149487643158533\n",
      "0.6146381012047788\n",
      "0.806288615815097\n",
      "0.5336081282672017\n"
     ]
    },
    {
     "data": {
      "text/plain": [
       "['Co_CAD_R0[[-0.0728388]]',\n",
       " 'Co_Embolism_R0[[-0.08262925]]',\n",
       " 'Co_DVT_R0[[-0.11118969]]',\n",
       " 'Co_PE_R0[[0.01966909]]',\n",
       " 'Co_AFib_R0[[0.18637906]]',\n",
       " 'Co_Hypertension_R0[[-0.05061673]]',\n",
       " 'Co_Hyperlipidemia_R0[[-0.60308967]]',\n",
       " 'Co_Atherosclerosis_R0[[0.04792115]]',\n",
       " 'Co_HF_R0[[0.73694057]]',\n",
       " 'Co_HemoStroke_R0[[-0.14337673]]',\n",
       " 'Co_IscheStroke_R0[[-0.12881967]]',\n",
       " 'Co_OthStroke_R0[[-0.29719309]]',\n",
       " 'Co_TIA_R0[[0.1542318]]',\n",
       " 'Co_COPD_R0[[0.54413189]]',\n",
       " 'Co_Asthma_R0[[-0.77216098]]',\n",
       " 'Co_Pneumonia_R0[[0.28675089]]',\n",
       " 'Co_Alcoholabuse_R0[[-0.23744109]]',\n",
       " 'Co_Drugabuse_R0[[-0.43973192]]',\n",
       " 'Co_Epilepsy_R0[[-0.16160867]]',\n",
       " 'Co_Cancer_R0[[0.83495389]]',\n",
       " 'Co_MorbidObesity_R0[[-0.33305993]]',\n",
       " 'Co_Dementia_R0[[0.97598979]]',\n",
       " 'Co_Depression_R0[[-0.11380729]]',\n",
       " 'Co_Bipolar_R0[[-0.27533752]]',\n",
       " 'Co_Psychosis_R0[[-0.31227704]]',\n",
       " 'Co_Personalitydisorder_R0[[0.08125114]]',\n",
       " 'Co_Adjustmentdisorder_R0[[-0.00428972]]',\n",
       " 'Co_Anxiety_R0[[-0.18529936]]',\n",
       " 'Co_Generalizedanxiety_R0[[-0.10152721]]',\n",
       " 'Co_OldMI_R0[[0.31077689]]',\n",
       " 'Co_AcuteMI_R0[[0.06257964]]',\n",
       " 'Co_PUD_R0[[-0.11905636]]',\n",
       " 'Co_UpperGIbleed_R0[[0.16084481]]',\n",
       " 'Co_LowerGIbleed_R0[[0.09597866]]',\n",
       " 'Co_Urogenitalbleed_R0[[0.00579085]]',\n",
       " 'Co_Othbleed_R0[[-0.36293987]]',\n",
       " 'Co_PVD_R0[[0.24438165]]',\n",
       " 'Co_LiverDisease_R0[[0.35195759]]',\n",
       " 'Co_MRI_R0[[-0.0493255]]',\n",
       " 'Co_ESRD_R0[[0.26510569]]',\n",
       " 'Co_Obesity_R0[[-0.92133319]]',\n",
       " 'Co_Sepsis_R0[[-0.11556497]]',\n",
       " 'Co_Osteoarthritis_R0[[-0.4428392]]',\n",
       " 'Co_RA_R0[[-0.45831549]]',\n",
       " 'Co_NeuroPain_R0[[-0.06665889]]',\n",
       " 'Co_NeckPain_R0[[-0.17320442]]',\n",
       " 'Co_OthArthritis_R0[[-0.23800092]]',\n",
       " 'Co_Osteoporosis_R0[[-0.34734536]]',\n",
       " 'Co_Fibromyalgia_R0[[-0.64348952]]',\n",
       " 'Co_Migraine_R0[[-0.33312573]]',\n",
       " 'Co_Headache_R0[[-0.24781101]]',\n",
       " 'Co_OthPain_R0[[0.4224499]]',\n",
       " 'Co_GeneralizedPain_R0[[0.1621675]]',\n",
       " 'Co_PainDisorder_R0[[-0.0313861]]',\n",
       " 'Co_Falls_R0[[0.41532363]]',\n",
       " 'Co_CoagulationDisorder_R0[[-0.24600255]]',\n",
       " 'Co_WhiteBloodCell_R0[[0.37134267]]',\n",
       " 'Co_Parkinson_R0[[0.20674436]]',\n",
       " 'Co_Anemia_R0[[0.48488343]]',\n",
       " 'Co_UrinaryIncontinence_R0[[-0.0528485]]',\n",
       " 'Co_DecubitusUlcer_R0[[0.7312617]]',\n",
       " 'Co_Oxygen_R0[[0.47505022]]',\n",
       " 'Co_Mammography_R0[[-1.09939531]]',\n",
       " 'Co_PapTest_R0[[-0.7853046]]',\n",
       " 'Co_PSATest_R0[[-0.60961909]]',\n",
       " 'Co_Colonoscopy_R0[[-0.55058242]]',\n",
       " 'Co_FecalOccultTest_R0[[-0.21295507]]',\n",
       " 'Co_FluShot_R0[[-0.34271318]]',\n",
       " 'Co_PneumococcalVaccine_R0[[-0.50757479]]',\n",
       " 'Co_RenalDysfunction_R0[[0.54806462]]',\n",
       " 'Co_Valvular_R0[[-0.03366024]]',\n",
       " 'Co_Hosp_Prior30Days_R0[[0.88725815]]',\n",
       " 'Co_RX_Antibiotic_R0[[-0.11790628]]',\n",
       " 'Co_RX_Corticosteroid_R0[[0.32375222]]',\n",
       " 'Co_RX_Aspirin_R0[[-0.08842586]]',\n",
       " 'Co_RX_Dipyridamole_R0[[-0.07277154]]',\n",
       " 'Co_RX_Clopidogrel_R0[[0.04697317]]',\n",
       " 'Co_RX_Prasugrel_R0[[-0.06308401]]',\n",
       " 'Co_RX_Cilostazol_R0[[0.22171802]]',\n",
       " 'Co_RX_Ticlopidine_R0[[-0.0170016]]',\n",
       " 'Co_RX_Ticagrelor_R0[[-0.13912887]]',\n",
       " 'Co_RX_OthAntiplatelet_R0[[0.20471642]]',\n",
       " 'Co_RX_NSAIDs_R0[[-0.06354494]]',\n",
       " 'Co_RX_Opioid_R0[[0.00123579]]',\n",
       " 'Co_RX_Antidepressant_R0[[0.48825282]]',\n",
       " 'Co_RX_AAntipsychotic_R0[[0.22076314]]',\n",
       " 'Co_RX_TAntipsychotic_R0[[-0.054176]]',\n",
       " 'Co_RX_Anticonvulsant_R0[[0.21070229]]',\n",
       " 'Co_RX_PPI_R0[[0.14505856]]',\n",
       " 'Co_RX_H2Receptor_R0[[-0.07187521]]',\n",
       " 'Co_RX_OthGastro_R0[[-0.48481914]]',\n",
       " 'Co_RX_ACE_R0[[-0.24169009]]',\n",
       " 'Co_RX_ARB_R0[[-0.2567557]]',\n",
       " 'Co_RX_BBlocker_R0[[0.04991674]]',\n",
       " 'Co_RX_CCB_R0[[-0.14413297]]',\n",
       " 'Co_RX_Thiazide_R0[[-0.06043366]]',\n",
       " 'Co_RX_Loop_R0[[0.36248931]]',\n",
       " 'Co_RX_Potassium_R0[[0.32485039]]',\n",
       " 'Co_RX_Nitrates_R0[[0.13791007]]',\n",
       " 'Co_RX_Aliskiren_R0[[0.06055217]]',\n",
       " 'Co_RX_OthAntihypertensive_R0[[0.1044973]]',\n",
       " 'Co_RX_Antiarrhythmic_R0[[0.18585132]]',\n",
       " 'Co_RX_OthAnticoagulant_R0[[-0.00975203]]',\n",
       " 'Co_RX_Insulin_R0[[0.09002051]]',\n",
       " 'Co_RX_Noninsulin_R0[[-0.26921862]]',\n",
       " 'Co_RX_Digoxin_R0[[0.16894192]]',\n",
       " 'Co_RX_Statin_R0[[-0.1853792]]',\n",
       " 'Co_RX_Lipid_R0[[-0.56593046]]',\n",
       " 'Co_RX_Lithium_R0[[-0.11671458]]',\n",
       " 'Co_RX_Benzo_R0[[-0.00091745]]',\n",
       " 'Co_RX_ZDrugs_R0[[-0.15746966]]',\n",
       " 'Co_RX_OthAnxiolytic_R0[[0.34921538]]',\n",
       " 'Co_RX_Dementia_R0[[0.33839963]]',\n",
       " 'Co_RX_Hormone_R0[[-0.70145949]]',\n",
       " 'Co_RX_Osteoporosis_R0[[0.17224675]]',\n",
       " 'Co_N_Drugs_R0[[0.00321246]]',\n",
       " 'Co_N_Hosp_R0[[-0.04025874]]',\n",
       " 'Co_Total_HospLOS_R0[[0.00116147]]',\n",
       " 'Co_N_MDVisit_R0[[0.02862392]]',\n",
       " 'Co_RX_AnyAspirin_R0[[-0.09091298]]',\n",
       " 'Co_RX_AspirinMono_R0[[0.07199307]]',\n",
       " 'Co_RX_ClopidogrelMono_R0[[0.17024309]]',\n",
       " 'Co_RX_AspirinClopidogrel_R0[[-0.11503568]]',\n",
       " 'Co_RX_DM_R0[[0.11353403]]',\n",
       " 'Co_RX_Antipsychotic_R0[[0.21468032]]']"
      ]
     },
     "execution_count": 48,
     "metadata": {},
     "output_type": "execute_result"
    }
   ],
   "source": [
    "from imblearn.over_sampling import SMOTE\n",
    "sm = SMOTE(random_state = 42)\n",
    "co_train_high_sm,out_train_death_high_sm = sm.fit_resample(co_train_high,out_train_death_high)\n",
    "\n",
    "best_clf = lr(co_train_high_sm, out_train_death_high_sm)\n",
    "\n",
    "cross_val(co_train_high_sm, out_train_death_high_sm, co_validation_high_split, out_validation_death_high_split)\n",
    "\n",
    "print()\n",
    "\n",
    "scores(co_train_high, out_train_death_high)\n",
    "\n",
    "print()\n",
    "\n",
    "scores(co_validation_high, out_validation_death_high)\n",
    "\n",
    "comb = [] \n",
    "for i in range(len(predictor_variable)):\n",
    "    comb.append(predictor_variable[i] + str(best_clf.best_estimator_.coef_[:,i:i+1]))\n",
    "comb"
   ]
  },
  {
   "cell_type": "markdown",
   "id": "4d3b44a3",
   "metadata": {},
   "source": [
    "# Low Continuity"
   ]
  },
  {
   "cell_type": "code",
   "execution_count": 49,
   "id": "fe5025f9",
   "metadata": {},
   "outputs": [
    {
     "name": "stdout",
     "output_type": "stream",
     "text": [
      "Fitting 5 folds for each of 20 candidates, totalling 100 fits\n"
     ]
    },
    {
     "name": "stderr",
     "output_type": "stream",
     "text": [
      "/PHShome/se197/anaconda3/lib/python3.8/site-packages/sklearn/linear_model/_logistic.py:763: ConvergenceWarning: lbfgs failed to converge (status=1):\n",
      "STOP: TOTAL NO. of ITERATIONS REACHED LIMIT.\n",
      "\n",
      "Increase the number of iterations (max_iter) or scale the data as shown in:\n",
      "    https://scikit-learn.org/stable/modules/preprocessing.html\n",
      "Please also refer to the documentation for alternative solver options:\n",
      "    https://scikit-learn.org/stable/modules/linear_model.html#logistic-regression\n",
      "  n_iter_i = _check_optimize_result(\n"
     ]
    },
    {
     "name": "stdout",
     "output_type": "stream",
     "text": [
      "<generator object _BaseKFold.split at 0x7f2fa09fa900>\n",
      "Fitting 5 folds for each of 20 candidates, totalling 100 fits\n"
     ]
    },
    {
     "name": "stderr",
     "output_type": "stream",
     "text": [
      "/PHShome/se197/anaconda3/lib/python3.8/site-packages/sklearn/linear_model/_logistic.py:763: ConvergenceWarning: lbfgs failed to converge (status=1):\n",
      "STOP: TOTAL NO. of ITERATIONS REACHED LIMIT.\n",
      "\n",
      "Increase the number of iterations (max_iter) or scale the data as shown in:\n",
      "    https://scikit-learn.org/stable/modules/preprocessing.html\n",
      "Please also refer to the documentation for alternative solver options:\n",
      "    https://scikit-learn.org/stable/modules/linear_model.html#logistic-regression\n",
      "  n_iter_i = _check_optimize_result(\n"
     ]
    },
    {
     "name": "stdout",
     "output_type": "stream",
     "text": [
      "[0.28053629 0.14109334 0.36716451 ... 0.59912302 0.46680965 0.37303094]\n",
      "Fitting 5 folds for each of 20 candidates, totalling 100 fits\n"
     ]
    },
    {
     "name": "stderr",
     "output_type": "stream",
     "text": [
      "/PHShome/se197/anaconda3/lib/python3.8/site-packages/sklearn/linear_model/_logistic.py:763: ConvergenceWarning: lbfgs failed to converge (status=1):\n",
      "STOP: TOTAL NO. of ITERATIONS REACHED LIMIT.\n",
      "\n",
      "Increase the number of iterations (max_iter) or scale the data as shown in:\n",
      "    https://scikit-learn.org/stable/modules/preprocessing.html\n",
      "Please also refer to the documentation for alternative solver options:\n",
      "    https://scikit-learn.org/stable/modules/linear_model.html#logistic-regression\n",
      "  n_iter_i = _check_optimize_result(\n"
     ]
    },
    {
     "name": "stdout",
     "output_type": "stream",
     "text": [
      "[0.27036398 0.13971633 0.3892721  ... 0.55578412 0.44979585 0.36240077]\n",
      "Fitting 5 folds for each of 20 candidates, totalling 100 fits\n"
     ]
    },
    {
     "name": "stderr",
     "output_type": "stream",
     "text": [
      "/PHShome/se197/anaconda3/lib/python3.8/site-packages/sklearn/linear_model/_logistic.py:763: ConvergenceWarning: lbfgs failed to converge (status=1):\n",
      "STOP: TOTAL NO. of ITERATIONS REACHED LIMIT.\n",
      "\n",
      "Increase the number of iterations (max_iter) or scale the data as shown in:\n",
      "    https://scikit-learn.org/stable/modules/preprocessing.html\n",
      "Please also refer to the documentation for alternative solver options:\n",
      "    https://scikit-learn.org/stable/modules/linear_model.html#logistic-regression\n",
      "  n_iter_i = _check_optimize_result(\n"
     ]
    },
    {
     "name": "stdout",
     "output_type": "stream",
     "text": [
      "[0.2588017  0.13217435 0.40992498 ... 0.54805495 0.45099202 0.35480658]\n",
      "Fitting 5 folds for each of 20 candidates, totalling 100 fits\n"
     ]
    },
    {
     "name": "stderr",
     "output_type": "stream",
     "text": [
      "/PHShome/se197/anaconda3/lib/python3.8/site-packages/sklearn/linear_model/_logistic.py:763: ConvergenceWarning: lbfgs failed to converge (status=1):\n",
      "STOP: TOTAL NO. of ITERATIONS REACHED LIMIT.\n",
      "\n",
      "Increase the number of iterations (max_iter) or scale the data as shown in:\n",
      "    https://scikit-learn.org/stable/modules/preprocessing.html\n",
      "Please also refer to the documentation for alternative solver options:\n",
      "    https://scikit-learn.org/stable/modules/linear_model.html#logistic-regression\n",
      "  n_iter_i = _check_optimize_result(\n"
     ]
    },
    {
     "name": "stdout",
     "output_type": "stream",
     "text": [
      "[0.2906993  0.14605157 0.37721452 ... 0.58809912 0.45514434 0.36742304]\n",
      "Fitting 5 folds for each of 20 candidates, totalling 100 fits\n"
     ]
    },
    {
     "name": "stderr",
     "output_type": "stream",
     "text": [
      "/PHShome/se197/anaconda3/lib/python3.8/site-packages/sklearn/linear_model/_logistic.py:763: ConvergenceWarning: lbfgs failed to converge (status=1):\n",
      "STOP: TOTAL NO. of ITERATIONS REACHED LIMIT.\n",
      "\n",
      "Increase the number of iterations (max_iter) or scale the data as shown in:\n",
      "    https://scikit-learn.org/stable/modules/preprocessing.html\n",
      "Please also refer to the documentation for alternative solver options:\n",
      "    https://scikit-learn.org/stable/modules/linear_model.html#logistic-regression\n",
      "  n_iter_i = _check_optimize_result(\n"
     ]
    },
    {
     "name": "stdout",
     "output_type": "stream",
     "text": [
      "[0.24165139 0.14962855 0.36046051 ... 0.57511345 0.44992708 0.36183133]\n",
      "0.7248091603053435\n",
      "0.6016092017034663\n",
      "0.6427356081097304\n",
      "0.7753318209413044\n",
      "0.6053885911559064\n",
      "\n",
      "0.7746652002329042\n",
      "0.4292970670162215\n",
      "0.6866051662485904\n",
      "0.8113278520211631\n",
      "0.526311509213785\n",
      "\n",
      "0.7141630082076732\n",
      "0.3928643827285627\n",
      "0.6411710567119914\n",
      "0.7663214621190227\n",
      "0.6115311115235376\n"
     ]
    },
    {
     "data": {
      "text/plain": [
       "['Co_CAD_R0[[0.05280799]]',\n",
       " 'Co_Embolism_R0[[0.28390082]]',\n",
       " 'Co_DVT_R0[[-0.23269932]]',\n",
       " 'Co_PE_R0[[0.43796427]]',\n",
       " 'Co_AFib_R0[[0.28316225]]',\n",
       " 'Co_Hypertension_R0[[-0.04507299]]',\n",
       " 'Co_Hyperlipidemia_R0[[-0.56835623]]',\n",
       " 'Co_Atherosclerosis_R0[[0.08845226]]',\n",
       " 'Co_HF_R0[[0.66645881]]',\n",
       " 'Co_HemoStroke_R0[[0.64714299]]',\n",
       " 'Co_IscheStroke_R0[[0.27690419]]',\n",
       " 'Co_OthStroke_R0[[0.09896894]]',\n",
       " 'Co_TIA_R0[[-0.73916395]]',\n",
       " 'Co_COPD_R0[[0.57887166]]',\n",
       " 'Co_Asthma_R0[[-0.42153891]]',\n",
       " 'Co_Pneumonia_R0[[0.44007295]]',\n",
       " 'Co_Alcoholabuse_R0[[-0.58216119]]',\n",
       " 'Co_Drugabuse_R0[[-0.29377584]]',\n",
       " 'Co_Epilepsy_R0[[-0.03824424]]',\n",
       " 'Co_Cancer_R0[[0.72866027]]',\n",
       " 'Co_MorbidObesity_R0[[0.10146437]]',\n",
       " 'Co_Dementia_R0[[1.16534531]]',\n",
       " 'Co_Depression_R0[[-0.3216846]]',\n",
       " 'Co_Bipolar_R0[[-0.17755741]]',\n",
       " 'Co_Psychosis_R0[[-0.48097074]]',\n",
       " 'Co_Personalitydisorder_R0[[0.04213957]]',\n",
       " 'Co_Adjustmentdisorder_R0[[-0.10416197]]',\n",
       " 'Co_Anxiety_R0[[-0.24574676]]',\n",
       " 'Co_Generalizedanxiety_R0[[-0.17911355]]',\n",
       " 'Co_OldMI_R0[[-0.36784314]]',\n",
       " 'Co_AcuteMI_R0[[0.03958754]]',\n",
       " 'Co_PUD_R0[[-0.50428098]]',\n",
       " 'Co_UpperGIbleed_R0[[-0.01929832]]',\n",
       " 'Co_LowerGIbleed_R0[[0.24309891]]',\n",
       " 'Co_Urogenitalbleed_R0[[-0.20538785]]',\n",
       " 'Co_Othbleed_R0[[-0.29784636]]',\n",
       " 'Co_PVD_R0[[0.30720139]]',\n",
       " 'Co_LiverDisease_R0[[0.4068086]]',\n",
       " 'Co_MRI_R0[[-0.21956445]]',\n",
       " 'Co_ESRD_R0[[0.435066]]',\n",
       " 'Co_Obesity_R0[[-0.59754671]]',\n",
       " 'Co_Sepsis_R0[[0.41347687]]',\n",
       " 'Co_Osteoarthritis_R0[[-0.24490737]]',\n",
       " 'Co_RA_R0[[0.00108684]]',\n",
       " 'Co_NeuroPain_R0[[0.09762889]]',\n",
       " 'Co_NeckPain_R0[[-0.085197]]',\n",
       " 'Co_OthArthritis_R0[[-0.10837306]]',\n",
       " 'Co_Osteoporosis_R0[[-0.01065398]]',\n",
       " 'Co_Fibromyalgia_R0[[-0.1522263]]',\n",
       " 'Co_Migraine_R0[[-0.28251303]]',\n",
       " 'Co_Headache_R0[[-0.41821434]]',\n",
       " 'Co_OthPain_R0[[-0.22066392]]',\n",
       " 'Co_GeneralizedPain_R0[[0.04434254]]',\n",
       " 'Co_PainDisorder_R0[[-0.01157717]]',\n",
       " 'Co_Falls_R0[[0.36609639]]',\n",
       " 'Co_CoagulationDisorder_R0[[-0.0646681]]',\n",
       " 'Co_WhiteBloodCell_R0[[0.33259]]',\n",
       " 'Co_Parkinson_R0[[-0.02594111]]',\n",
       " 'Co_Anemia_R0[[0.0598805]]',\n",
       " 'Co_UrinaryIncontinence_R0[[-0.41155333]]',\n",
       " 'Co_DecubitusUlcer_R0[[0.52500994]]',\n",
       " 'Co_Oxygen_R0[[0.2457794]]',\n",
       " 'Co_Mammography_R0[[-0.35858998]]',\n",
       " 'Co_PapTest_R0[[-0.17078224]]',\n",
       " 'Co_PSATest_R0[[-0.28221755]]',\n",
       " 'Co_Colonoscopy_R0[[-0.26302974]]',\n",
       " 'Co_FecalOccultTest_R0[[0.01329816]]',\n",
       " 'Co_FluShot_R0[[-0.33818535]]',\n",
       " 'Co_PneumococcalVaccine_R0[[-0.25149031]]',\n",
       " 'Co_RenalDysfunction_R0[[0.40969156]]',\n",
       " 'Co_Valvular_R0[[0.10641491]]',\n",
       " 'Co_Hosp_Prior30Days_R0[[1.15612987]]',\n",
       " 'Co_RX_Antibiotic_R0[[-0.1213639]]',\n",
       " 'Co_RX_Corticosteroid_R0[[0.24960242]]',\n",
       " 'Co_RX_Aspirin_R0[[-0.00985697]]',\n",
       " 'Co_RX_Dipyridamole_R0[[0.12434098]]',\n",
       " 'Co_RX_Clopidogrel_R0[[-0.12379883]]',\n",
       " 'Co_RX_Prasugrel_R0[[-0.06827952]]',\n",
       " 'Co_RX_Cilostazol_R0[[-0.03271813]]',\n",
       " 'Co_RX_Ticlopidine_R0[[0.05593951]]',\n",
       " 'Co_RX_Ticagrelor_R0[[-0.04761343]]',\n",
       " 'Co_RX_OthAntiplatelet_R0[[0.02322138]]',\n",
       " 'Co_RX_NSAIDs_R0[[-0.09152065]]',\n",
       " 'Co_RX_Opioid_R0[[0.32001505]]',\n",
       " 'Co_RX_Antidepressant_R0[[0.10734784]]',\n",
       " 'Co_RX_AAntipsychotic_R0[[0.12531858]]',\n",
       " 'Co_RX_TAntipsychotic_R0[[-0.18021796]]',\n",
       " 'Co_RX_Anticonvulsant_R0[[0.13495975]]',\n",
       " 'Co_RX_PPI_R0[[0.3060965]]',\n",
       " 'Co_RX_H2Receptor_R0[[0.03945768]]',\n",
       " 'Co_RX_OthGastro_R0[[-0.39321917]]',\n",
       " 'Co_RX_ACE_R0[[-0.07293929]]',\n",
       " 'Co_RX_ARB_R0[[-0.30839431]]',\n",
       " 'Co_RX_BBlocker_R0[[0.16976222]]',\n",
       " 'Co_RX_CCB_R0[[0.08112183]]',\n",
       " 'Co_RX_Thiazide_R0[[-0.52933165]]',\n",
       " 'Co_RX_Loop_R0[[0.33530277]]',\n",
       " 'Co_RX_Potassium_R0[[0.09701927]]',\n",
       " 'Co_RX_Nitrates_R0[[-0.19298224]]',\n",
       " 'Co_RX_Aliskiren_R0[[-0.01729613]]',\n",
       " 'Co_RX_OthAntihypertensive_R0[[-0.38280202]]',\n",
       " 'Co_RX_Antiarrhythmic_R0[[-0.29429976]]',\n",
       " 'Co_RX_OthAnticoagulant_R0[[0.04522]]',\n",
       " 'Co_RX_Insulin_R0[[0.18761273]]',\n",
       " 'Co_RX_Noninsulin_R0[[-0.33788818]]',\n",
       " 'Co_RX_Digoxin_R0[[-0.02366487]]',\n",
       " 'Co_RX_Statin_R0[[-0.36882508]]',\n",
       " 'Co_RX_Lipid_R0[[-0.35136095]]',\n",
       " 'Co_RX_Lithium_R0[[-0.05050774]]',\n",
       " 'Co_RX_Benzo_R0[[0.00101395]]',\n",
       " 'Co_RX_ZDrugs_R0[[-0.05209048]]',\n",
       " 'Co_RX_OthAnxiolytic_R0[[-0.17205773]]',\n",
       " 'Co_RX_Dementia_R0[[0.07321572]]',\n",
       " 'Co_RX_Hormone_R0[[-0.04666328]]',\n",
       " 'Co_RX_Osteoporosis_R0[[-0.17926438]]',\n",
       " 'Co_N_Drugs_R0[[0.00770654]]',\n",
       " 'Co_N_Hosp_R0[[-0.51956952]]',\n",
       " 'Co_Total_HospLOS_R0[[-0.00393326]]',\n",
       " 'Co_N_MDVisit_R0[[-0.37610139]]',\n",
       " 'Co_RX_AnyAspirin_R0[[-0.00985697]]',\n",
       " 'Co_RX_AspirinMono_R0[[-0.08485305]]',\n",
       " 'Co_RX_ClopidogrelMono_R0[[-0.18583183]]',\n",
       " 'Co_RX_AspirinClopidogrel_R0[[0.08164409]]',\n",
       " 'Co_RX_DM_R0[[-0.03812626]]',\n",
       " 'Co_RX_Antipsychotic_R0[[0.0557364]]']"
      ]
     },
     "execution_count": 49,
     "metadata": {},
     "output_type": "execute_result"
    }
   ],
   "source": [
    "from imblearn.over_sampling import SMOTE\n",
    "sm = SMOTE(random_state = 42)\n",
    "co_train_low_sm,out_train_death_low_sm = sm.fit_resample(co_train_low,out_train_death_low)\n",
    "\n",
    "best_clf = lr(co_train_low_sm, out_train_death_low_sm)\n",
    "\n",
    "cross_val(co_train_low_sm, out_train_death_low_sm, co_validation_low_split, out_validation_death_low_split)\n",
    "\n",
    "print()\n",
    "\n",
    "scores(co_train_low, out_train_death_low)\n",
    "\n",
    "print()\n",
    "\n",
    "scores(co_validation_low, out_validation_death_low)\n",
    "\n",
    "comb = [] \n",
    "for i in range(len(predictor_variable)):\n",
    "    comb.append(predictor_variable[i] + str(best_clf.best_estimator_.coef_[:,i:i+1]))\n",
    "comb"
   ]
  },
  {
   "cell_type": "code",
   "execution_count": null,
   "id": "9626da69",
   "metadata": {},
   "outputs": [],
   "source": []
  },
  {
   "cell_type": "code",
   "execution_count": null,
   "id": "55176256",
   "metadata": {},
   "outputs": [],
   "source": []
  },
  {
   "cell_type": "code",
   "execution_count": null,
   "id": "4c23f2f2",
   "metadata": {},
   "outputs": [],
   "source": []
  }
 ],
 "metadata": {
  "kernelspec": {
   "display_name": "Python 3",
   "language": "python",
   "name": "python3"
  },
  "language_info": {
   "codemirror_mode": {
    "name": "ipython",
    "version": 3
   },
   "file_extension": ".py",
   "mimetype": "text/x-python",
   "name": "python",
   "nbconvert_exporter": "python",
   "pygments_lexer": "ipython3",
   "version": "3.8.8"
  }
 },
 "nbformat": 4,
 "nbformat_minor": 5
}
