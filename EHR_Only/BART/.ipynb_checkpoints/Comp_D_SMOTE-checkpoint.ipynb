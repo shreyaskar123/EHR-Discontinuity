{
 "cells": [
  {
   "cell_type": "code",
   "execution_count": 1,
   "id": "6d8c96db",
   "metadata": {},
   "outputs": [],
   "source": [
    "import pandas as pd\n",
    "medicare = pd.read_csv(\"/netapp2/home/se197/data/CMS/Data/medicare.csv\")"
   ]
  },
  {
   "cell_type": "code",
   "execution_count": 2,
   "id": "d20796df",
   "metadata": {},
   "outputs": [],
   "source": [
    "train_set = medicare[medicare.Hospital != 'BWH'] # MGH\n",
    "validation_set = medicare[medicare.Hospital == 'BWH'] # BWH and Neither \n",
    "import numpy as np\n",
    "\n",
    "fifty_perc_EHR_cont = np.percentile(medicare['Cal_MPEC_R0'],50)\n",
    "train_set_high = train_set[train_set.Cal_MPEC_R0 >= fifty_perc_EHR_cont]\n",
    "train_set_low= train_set[train_set.Cal_MPEC_R0 < fifty_perc_EHR_cont]\n",
    "\n",
    "validation_set_high = validation_set[validation_set.Cal_MPEC_R0 >= fifty_perc_EHR_cont]\n",
    "validation_set_low = validation_set[validation_set.Cal_MPEC_R0 < fifty_perc_EHR_cont]"
   ]
  },
  {
   "cell_type": "code",
   "execution_count": 3,
   "id": "e6e3b8ad",
   "metadata": {},
   "outputs": [
    {
     "data": {
      "text/plain": [
       "126"
      ]
     },
     "execution_count": 3,
     "metadata": {},
     "output_type": "execute_result"
    }
   ],
   "source": [
    "predictor_variable = [\n",
    "        'Co_CAD_R0', 'Co_Embolism_R0', 'Co_DVT_R0', 'Co_PE_R0', 'Co_AFib_R0',\n",
    "        'Co_Hypertension_R0', 'Co_Hyperlipidemia_R0', 'Co_Atherosclerosis_R0',\n",
    "        'Co_HF_R0', 'Co_HemoStroke_R0', 'Co_IscheStroke_R0', 'Co_OthStroke_R0',\n",
    "        'Co_TIA_R0', 'Co_COPD_R0', 'Co_Asthma_R0', 'Co_Pneumonia_R0', 'Co_Alcoholabuse_R0',\n",
    "        'Co_Drugabuse_R0', 'Co_Epilepsy_R0', 'Co_Cancer_R0', 'Co_MorbidObesity_R0',\n",
    "        'Co_Dementia_R0', 'Co_Depression_R0', 'Co_Bipolar_R0', 'Co_Psychosis_R0',\n",
    "        'Co_Personalitydisorder_R0', 'Co_Adjustmentdisorder_R0', 'Co_Anxiety_R0',\n",
    "        'Co_Generalizedanxiety_R0', 'Co_OldMI_R0', 'Co_AcuteMI_R0', 'Co_PUD_R0',\n",
    "        'Co_UpperGIbleed_R0', 'Co_LowerGIbleed_R0', 'Co_Urogenitalbleed_R0',\n",
    "        'Co_Othbleed_R0', 'Co_PVD_R0', 'Co_LiverDisease_R0', 'Co_MRI_R0',\n",
    "        'Co_ESRD_R0', 'Co_Obesity_R0', 'Co_Sepsis_R0', 'Co_Osteoarthritis_R0',\n",
    "        'Co_RA_R0', 'Co_NeuroPain_R0', 'Co_NeckPain_R0', 'Co_OthArthritis_R0',\n",
    "        'Co_Osteoporosis_R0', 'Co_Fibromyalgia_R0', 'Co_Migraine_R0', 'Co_Headache_R0',\n",
    "        'Co_OthPain_R0', 'Co_GeneralizedPain_R0', 'Co_PainDisorder_R0',\n",
    "        'Co_Falls_R0', 'Co_CoagulationDisorder_R0', 'Co_WhiteBloodCell_R0', 'Co_Parkinson_R0',\n",
    "        'Co_Anemia_R0', 'Co_UrinaryIncontinence_R0', 'Co_DecubitusUlcer_R0',\n",
    "        'Co_Oxygen_R0', 'Co_Mammography_R0', 'Co_PapTest_R0', 'Co_PSATest_R0',\n",
    "        'Co_Colonoscopy_R0', 'Co_FecalOccultTest_R0', 'Co_FluShot_R0', 'Co_PneumococcalVaccine_R0', 'Co_RenalDysfunction_R0', 'Co_Valvular_R0', 'Co_Hosp_Prior30Days_R0',\n",
    "        'Co_RX_Antibiotic_R0', 'Co_RX_Corticosteroid_R0', 'Co_RX_Aspirin_R0', 'Co_RX_Dipyridamole_R0',\n",
    "        'Co_RX_Clopidogrel_R0', 'Co_RX_Prasugrel_R0', 'Co_RX_Cilostazol_R0', 'Co_RX_Ticlopidine_R0',\n",
    "        'Co_RX_Ticagrelor_R0', 'Co_RX_OthAntiplatelet_R0', 'Co_RX_NSAIDs_R0',\n",
    "        'Co_RX_Opioid_R0', 'Co_RX_Antidepressant_R0', 'Co_RX_AAntipsychotic_R0', 'Co_RX_TAntipsychotic_R0',\n",
    "        'Co_RX_Anticonvulsant_R0', 'Co_RX_PPI_R0', 'Co_RX_H2Receptor_R0', 'Co_RX_OthGastro_R0',\n",
    "        'Co_RX_ACE_R0', 'Co_RX_ARB_R0', 'Co_RX_BBlocker_R0', 'Co_RX_CCB_R0', 'Co_RX_Thiazide_R0',\n",
    "        'Co_RX_Loop_R0', 'Co_RX_Potassium_R0', 'Co_RX_Nitrates_R0', 'Co_RX_Aliskiren_R0',\n",
    "        'Co_RX_OthAntihypertensive_R0', 'Co_RX_Antiarrhythmic_R0', 'Co_RX_OthAnticoagulant_R0',\n",
    "        'Co_RX_Insulin_R0', 'Co_RX_Noninsulin_R0', 'Co_RX_Digoxin_R0', 'Co_RX_Statin_R0',\n",
    "        'Co_RX_Lipid_R0', 'Co_RX_Lithium_R0', 'Co_RX_Benzo_R0', 'Co_RX_ZDrugs_R0',\n",
    "        'Co_RX_OthAnxiolytic_R0', 'Co_RX_Barbiturate_R0', 'Co_RX_Dementia_R0', 'Co_RX_Hormone_R0',\n",
    "        'Co_RX_Osteoporosis_R0', 'Co_N_Drugs_R0', 'Co_N_Hosp_R0', 'Co_Total_HospLOS_R0',\n",
    "        'Co_N_MDVisit_R0', 'Co_RX_AnyAspirin_R0', 'Co_RX_AspirinMono_R0', 'Co_RX_ClopidogrelMono_R0',\n",
    "        'Co_RX_AspirinClopidogrel_R0', 'Co_RX_DM_R0', 'Co_RX_Antipsychotic_R0'\n",
    "]\n",
    "\n",
    "\n",
    "co_train_gpop = train_set[predictor_variable]\n",
    "co_train_high = train_set_high[predictor_variable]\n",
    "co_train_low = train_set_low[predictor_variable]\n",
    "\n",
    "co_validation_gpop = validation_set[predictor_variable]\n",
    "co_validation_high = validation_set_high[predictor_variable]\n",
    "co_validation_low = validation_set_low[predictor_variable]\n",
    "len(predictor_variable)\n",
    "\n"
   ]
  },
  {
   "cell_type": "code",
   "execution_count": 4,
   "id": "e2f5a4db",
   "metadata": {},
   "outputs": [],
   "source": [
    "out_train_death_gpop = train_set['ehr_claims_death']\n",
    "out_train_death_high = train_set_high['ehr_claims_death']\n",
    "out_train_death_low = train_set_low['ehr_claims_death']\n",
    "\n",
    "out_validation_death_gpop = validation_set['ehr_claims_death']\n",
    "out_validation_death_high = validation_set_high['ehr_claims_death']\n",
    "out_validation_death_low = validation_set_low['ehr_claims_death']"
   ]
  },
  {
   "cell_type": "code",
   "execution_count": 5,
   "id": "8dad1869",
   "metadata": {},
   "outputs": [],
   "source": [
    "def bart(X_train, y_train):\n",
    "    from bartpy.sklearnmodel import SklearnModel\n",
    "    from sklearn.model_selection import GridSearchCV\n",
    "    from bartpy.data import Data\n",
    "    from bartpy.sigma import Sigma\n",
    "    param_grid = [{\n",
    "        'n_trees': [10,30,50] #\n",
    "    }]\n",
    "    model = SklearnModel()\n",
    "    clf = GridSearchCV(estimator = model, param_grid = param_grid, n_jobs = 10, verbose = True)\n",
    "    best_clf = clf.fit(X_train, y_train.to_numpy())\n",
    "    print(best_clf)\n",
    "    return best_clf "
   ]
  },
  {
   "cell_type": "code",
   "execution_count": 6,
   "id": "7273b77b",
   "metadata": {},
   "outputs": [],
   "source": [
    "def scores(X_train,y_train, best_clf):\n",
    "    from sklearn.metrics import accuracy_score\n",
    "    from sklearn.metrics import f1_score\n",
    "    from sklearn.metrics import fbeta_score\n",
    "    from sklearn.metrics import roc_auc_score \n",
    "    from sklearn.metrics import log_loss\n",
    "    import numpy as np\n",
    "    pred = np.round(best_clf.predict(X_train))\n",
    "    print(pred)\n",
    "    actual = y_train\n",
    "    print(accuracy_score(actual,pred))\n",
    "    print(f1_score(actual,pred))\n",
    "    print(fbeta_score(actual,pred, average = 'macro', beta = 2))\n",
    "    print(roc_auc_score(actual, best_clf.predict(X_train)))\n",
    "    print(log_loss(actual,best_clf.predict(X_train)))"
   ]
  },
  {
   "cell_type": "code",
   "execution_count": 7,
   "id": "a406d5cc",
   "metadata": {},
   "outputs": [],
   "source": [
    "def cross_val(X,y):\n",
    "    from sklearn.model_selection import KFold\n",
    "    from sklearn.model_selection import cross_validate\n",
    "    from sklearn.metrics import log_loss\n",
    "    from sklearn.metrics import roc_auc_score\n",
    "    from sklearn.metrics import fbeta_score\n",
    "    import sklearn\n",
    "    import numpy as np\n",
    "    cv = KFold(n_splits=5, random_state=1, shuffle=True)\n",
    "    log_loss = [] \n",
    "    auc = [] \n",
    "    accuracy = []\n",
    "    f1 = []\n",
    "    f2 = [] \n",
    "    for train_index, test_index in cv.split(X):\n",
    "        X_train, X_test, y_train, y_test = X.iloc[train_index], X.iloc[test_index], y.iloc[train_index], y.iloc[test_index]\n",
    "        model = bart(X_train, y_train)\n",
    "        prob = model.predict(X_test) # prob is a vector of probabilities \n",
    "        pred = np.round(model.predict(X_test)) # pred is the rounded predictions \n",
    "        log_loss.append(sklearn.metrics.log_loss(y_test, prob))\n",
    "        auc.append(sklearn.metrics.roc_auc_score(y_test, prob))\n",
    "        accuracy.append(sklearn.metrics.accuracy_score(y_test, pred))\n",
    "        f1.append(sklearn.metrics.f1_score(y_test, pred, average = 'macro'))\n",
    "        f2.append(fbeta_score(y_test,pred, average = 'macro', beta = 2))\n",
    "    print(np.mean(accuracy))\n",
    "    print(np.mean(f1))\n",
    "    print(np.mean(f2))\n",
    "    print(np.mean(auc))\n",
    "    print(np.mean(log_loss))"
   ]
  },
  {
   "cell_type": "code",
   "execution_count": 8,
   "id": "f4cece11",
   "metadata": {
    "scrolled": true
   },
   "outputs": [
    {
     "name": "stdout",
     "output_type": "stream",
     "text": [
      "Fitting 5 folds for each of 3 candidates, totalling 15 fits\n",
      "GridSearchCV(estimator=SklearnModel(), n_jobs=10,\n",
      "             param_grid=[{'n_trees': [10, 30, 50]}], verbose=True)\n",
      "Fitting 5 folds for each of 3 candidates, totalling 15 fits\n",
      "GridSearchCV(estimator=SklearnModel(), n_jobs=10,\n",
      "             param_grid=[{'n_trees': [10, 30, 50]}], verbose=True)\n",
      "Fitting 5 folds for each of 3 candidates, totalling 15 fits\n"
     ]
    },
    {
     "name": "stderr",
     "output_type": "stream",
     "text": [
      "/PHShome/se197/anaconda3/lib/python3.8/site-packages/sklearn/model_selection/_search.py:918: UserWarning: One or more of the test scores are non-finite: [-0.18610104 -0.05433474         nan]\n",
      "  warnings.warn(\n"
     ]
    },
    {
     "name": "stdout",
     "output_type": "stream",
     "text": [
      "GridSearchCV(estimator=SklearnModel(), n_jobs=10,\n",
      "             param_grid=[{'n_trees': [10, 30, 50]}], verbose=True)\n",
      "Fitting 5 folds for each of 3 candidates, totalling 15 fits\n",
      "GridSearchCV(estimator=SklearnModel(), n_jobs=10,\n",
      "             param_grid=[{'n_trees': [10, 30, 50]}], verbose=True)\n",
      "Fitting 5 folds for each of 3 candidates, totalling 15 fits\n",
      "GridSearchCV(estimator=SklearnModel(), n_jobs=10,\n",
      "             param_grid=[{'n_trees': [10, 30, 50]}], verbose=True)\n",
      "Fitting 5 folds for each of 3 candidates, totalling 15 fits\n",
      "GridSearchCV(estimator=SklearnModel(), n_jobs=10,\n",
      "             param_grid=[{'n_trees': [10, 30, 50]}], verbose=True)\n",
      "0.8929977743537065\n",
      "0.6546043242534343\n",
      "0.6541198031545099\n",
      "0.9622606099553593\n",
      "0.31144741363897716\n",
      "\n"
     ]
    },
    {
     "ename": "TypeError",
     "evalue": "scores() missing 1 required positional argument: 'best_clf'",
     "output_type": "error",
     "traceback": [
      "\u001b[0;31m---------------------------------------------------------------------------\u001b[0m",
      "\u001b[0;31mTypeError\u001b[0m                                 Traceback (most recent call last)",
      "\u001b[0;32m<ipython-input-8-9401a1c4018e>\u001b[0m in \u001b[0;36m<module>\u001b[0;34m\u001b[0m\n\u001b[1;32m     12\u001b[0m \u001b[0mprint\u001b[0m\u001b[0;34m(\u001b[0m\u001b[0;34m)\u001b[0m\u001b[0;34m\u001b[0m\u001b[0;34m\u001b[0m\u001b[0m\n\u001b[1;32m     13\u001b[0m \u001b[0;34m\u001b[0m\u001b[0m\n\u001b[0;32m---> 14\u001b[0;31m \u001b[0mscores\u001b[0m\u001b[0;34m(\u001b[0m\u001b[0mco_train_gpop\u001b[0m\u001b[0;34m,\u001b[0m \u001b[0mout_train_death_gpop\u001b[0m\u001b[0;34m)\u001b[0m\u001b[0;34m\u001b[0m\u001b[0;34m\u001b[0m\u001b[0m\n\u001b[0m\u001b[1;32m     15\u001b[0m \u001b[0;34m\u001b[0m\u001b[0m\n\u001b[1;32m     16\u001b[0m \u001b[0mprint\u001b[0m\u001b[0;34m(\u001b[0m\u001b[0;34m)\u001b[0m\u001b[0;34m\u001b[0m\u001b[0;34m\u001b[0m\u001b[0m\n",
      "\u001b[0;31mTypeError\u001b[0m: scores() missing 1 required positional argument: 'best_clf'"
     ]
    }
   ],
   "source": [
    "import datetime\n",
    "begin_time = datetime.datetime.now()\n",
    "\n",
    "from imblearn.over_sampling import SMOTE\n",
    "sm = SMOTE(random_state = 42)\n",
    "co_train_gpop_sm,out_train_death_gpop_sm = sm.fit_resample(co_train_gpop,out_train_death_gpop)\n",
    "\n",
    "best_clf = bart(co_train_gpop_sm,out_train_death_gpop_sm)\n",
    "\n",
    "cross_val(co_train_gpop_sm,out_train_death_gpop_sm)\n",
    "\n",
    "print()\n",
    "\n",
    "scores(co_train_gpop, out_train_death_gpop)\n",
    "\n",
    "print() \n",
    "\n",
    "scores(co_validation_gpop,out_validation_death_gpop)\n",
    "\n",
    "\n",
    "print(datetime.datetime.now() - begin_time)"
   ]
  },
  {
   "cell_type": "code",
   "execution_count": 9,
   "id": "850684e3",
   "metadata": {},
   "outputs": [
    {
     "name": "stdout",
     "output_type": "stream",
     "text": [
      "[0. 0. 0. ... 0. 0. 0.]\n",
      "0.8939201142112287\n",
      "0.31776447105788425\n",
      "0.6177136922075999\n",
      "0.7953451534179179\n",
      "0.34398007754603327\n",
      "\n",
      "[0. 0. 0. ... 0. 1. 0.]\n",
      "0.8810331072995612\n",
      "0.2730042656916514\n",
      "0.592122980627507\n",
      "0.7592458304381533\n",
      "0.38377361121764936\n"
     ]
    }
   ],
   "source": [
    "scores(co_train_gpop, out_train_death_gpop, best_clf)\n",
    "\n",
    "print() \n",
    "\n",
    "scores(co_validation_gpop,out_validation_death_gpop, best_clf)"
   ]
  },
  {
   "cell_type": "code",
   "execution_count": 10,
   "id": "fa1a4b48",
   "metadata": {},
   "outputs": [
    {
     "name": "stdout",
     "output_type": "stream",
     "text": [
      "Fitting 5 folds for each of 3 candidates, totalling 15 fits\n",
      "GridSearchCV(estimator=SklearnModel(), n_jobs=10,\n",
      "             param_grid=[{'n_trees': [10, 30, 50]}], verbose=True)\n",
      "Fitting 5 folds for each of 3 candidates, totalling 15 fits\n"
     ]
    },
    {
     "name": "stderr",
     "output_type": "stream",
     "text": [
      "/PHShome/se197/anaconda3/lib/python3.8/site-packages/sklearn/model_selection/_search.py:918: UserWarning: One or more of the test scores are non-finite: [        nan -0.09162004 -0.08425995]\n",
      "  warnings.warn(\n"
     ]
    },
    {
     "name": "stdout",
     "output_type": "stream",
     "text": [
      "GridSearchCV(estimator=SklearnModel(), n_jobs=10,\n",
      "             param_grid=[{'n_trees': [10, 30, 50]}], verbose=True)\n",
      "Fitting 5 folds for each of 3 candidates, totalling 15 fits\n",
      "GridSearchCV(estimator=SklearnModel(), n_jobs=10,\n",
      "             param_grid=[{'n_trees': [10, 30, 50]}], verbose=True)\n",
      "Fitting 5 folds for each of 3 candidates, totalling 15 fits\n",
      "GridSearchCV(estimator=SklearnModel(), n_jobs=10,\n",
      "             param_grid=[{'n_trees': [10, 30, 50]}], verbose=True)\n",
      "Fitting 5 folds for each of 3 candidates, totalling 15 fits\n",
      "GridSearchCV(estimator=SklearnModel(), n_jobs=10,\n",
      "             param_grid=[{'n_trees': [10, 30, 50]}], verbose=True)\n",
      "Fitting 5 folds for each of 3 candidates, totalling 15 fits\n"
     ]
    },
    {
     "name": "stderr",
     "output_type": "stream",
     "text": [
      "/PHShome/se197/anaconda3/lib/python3.8/site-packages/sklearn/model_selection/_search.py:918: UserWarning: One or more of the test scores are non-finite: [-0.17647437         nan -0.09080029]\n",
      "  warnings.warn(\n"
     ]
    },
    {
     "name": "stdout",
     "output_type": "stream",
     "text": [
      "GridSearchCV(estimator=SklearnModel(), n_jobs=10,\n",
      "             param_grid=[{'n_trees': [10, 30, 50]}], verbose=True)\n",
      "0.8417065097462302\n",
      "0.6728810550943664\n",
      "0.672323502094599\n",
      "0.9271738017502326\n",
      "0.3875567675529864\n",
      "\n",
      "[0. 0. 0. ... 0. 0. 0.]\n",
      "0.8627806171960923\n",
      "0.4086980763869528\n",
      "0.6623547529567695\n",
      "0.7908564823502038\n",
      "0.40959396606943277\n",
      "\n",
      "[0. 0. 0. ... 1. 0. 1.]\n",
      "0.8369917923267799\n",
      "0.3259668508287293\n",
      "0.6105917610677309\n",
      "0.7383759445074553\n",
      "0.4527931312793094\n",
      "1:15:30.777194\n"
     ]
    }
   ],
   "source": [
    "import datetime\n",
    "begin_time = datetime.datetime.now()\n",
    "\n",
    "from imblearn.over_sampling import SMOTE\n",
    "sm = SMOTE(random_state = 42)\n",
    "co_train_low_sm,out_train_death_low_sm = sm.fit_resample(co_train_low,out_train_death_low)\n",
    "\n",
    "best_clf = bart(co_train_low_sm,out_train_death_low_sm)\n",
    "\n",
    "cross_val(co_train_low_sm,out_train_death_low_sm)\n",
    "\n",
    "print()\n",
    "\n",
    "scores(co_train_low, out_train_death_low, best_clf)\n",
    "\n",
    "print() \n",
    "\n",
    "scores(co_validation_low,out_validation_death_low, best_clf)\n",
    "\n",
    "\n",
    "print(datetime.datetime.now() - begin_time)"
   ]
  },
  {
   "cell_type": "code",
   "execution_count": null,
   "id": "a21d8643",
   "metadata": {},
   "outputs": [
    {
     "name": "stdout",
     "output_type": "stream",
     "text": [
      "Fitting 5 folds for each of 3 candidates, totalling 15 fits\n",
      "GridSearchCV(estimator=SklearnModel(), n_jobs=10,\n",
      "             param_grid=[{'n_trees': [10, 30, 50]}], verbose=True)\n",
      "Fitting 5 folds for each of 3 candidates, totalling 15 fits\n"
     ]
    },
    {
     "name": "stderr",
     "output_type": "stream",
     "text": [
      "/PHShome/se197/anaconda3/lib/python3.8/site-packages/sklearn/model_selection/_search.py:918: UserWarning: One or more of the test scores are non-finite: [       nan 0.02565788 0.05144432]\n",
      "  warnings.warn(\n"
     ]
    },
    {
     "name": "stdout",
     "output_type": "stream",
     "text": [
      "GridSearchCV(estimator=SklearnModel(), n_jobs=10,\n",
      "             param_grid=[{'n_trees': [10, 30, 50]}], verbose=True)\n",
      "Fitting 5 folds for each of 3 candidates, totalling 15 fits\n"
     ]
    },
    {
     "name": "stderr",
     "output_type": "stream",
     "text": [
      "/PHShome/se197/anaconda3/lib/python3.8/site-packages/sklearn/model_selection/_search.py:918: UserWarning: One or more of the test scores are non-finite: [       nan 0.02350004 0.07282361]\n",
      "  warnings.warn(\n"
     ]
    },
    {
     "name": "stdout",
     "output_type": "stream",
     "text": [
      "GridSearchCV(estimator=SklearnModel(), n_jobs=10,\n",
      "             param_grid=[{'n_trees': [10, 30, 50]}], verbose=True)\n",
      "Fitting 5 folds for each of 3 candidates, totalling 15 fits\n"
     ]
    },
    {
     "name": "stderr",
     "output_type": "stream",
     "text": [
      "/PHShome/se197/anaconda3/lib/python3.8/site-packages/sklearn/model_selection/_search.py:918: UserWarning: One or more of the test scores are non-finite: [       nan        nan 0.06920902]\n",
      "  warnings.warn(\n"
     ]
    },
    {
     "name": "stdout",
     "output_type": "stream",
     "text": [
      "GridSearchCV(estimator=SklearnModel(), n_jobs=10,\n",
      "             param_grid=[{'n_trees': [10, 30, 50]}], verbose=True)\n",
      "Fitting 5 folds for each of 3 candidates, totalling 15 fits\n"
     ]
    }
   ],
   "source": [
    "import datetime\n",
    "begin_time = datetime.datetime.now()\n",
    "\n",
    "from imblearn.over_sampling import SMOTE\n",
    "sm = SMOTE(random_state = 42)\n",
    "co_train_high_sm,out_train_death_high_sm = sm.fit_resample(co_train_high,out_train_death_high)\n",
    "\n",
    "best_clf = bart(co_train_high_sm,out_train_death_high_sm)\n",
    "\n",
    "cross_val(co_train_high_sm,out_train_death_high_sm)\n",
    "\n",
    "print()\n",
    "\n",
    "scores(co_train_high, out_train_death_high, best_clf)\n",
    "\n",
    "print() \n",
    "\n",
    "scores(co_validation_high,out_validation_death_high, best_clf)\n",
    "\n",
    "\n",
    "print(datetime.datetime.now() - begin_time)"
   ]
  },
  {
   "cell_type": "code",
   "execution_count": null,
   "id": "ebc484ec",
   "metadata": {},
   "outputs": [],
   "source": []
  },
  {
   "cell_type": "code",
   "execution_count": null,
   "id": "ac7cb4e5",
   "metadata": {},
   "outputs": [],
   "source": [
    "\n"
   ]
  },
  {
   "cell_type": "code",
   "execution_count": null,
   "id": "15823ee5",
   "metadata": {},
   "outputs": [],
   "source": []
  }
 ],
 "metadata": {
  "kernelspec": {
   "display_name": "Python 3",
   "language": "python",
   "name": "python3"
  },
  "language_info": {
   "codemirror_mode": {
    "name": "ipython",
    "version": 3
   },
   "file_extension": ".py",
   "mimetype": "text/x-python",
   "name": "python",
   "nbconvert_exporter": "python",
   "pygments_lexer": "ipython3",
   "version": "3.8.8"
  }
 },
 "nbformat": 4,
 "nbformat_minor": 5
}
