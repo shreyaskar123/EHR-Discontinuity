{
 "cells": [
  {
   "cell_type": "code",
   "execution_count": 9,
   "id": "6d8c96db",
   "metadata": {},
   "outputs": [],
   "source": [
    "import pandas as pd\n",
    "medicare = pd.read_csv(\"/netapp2/home/se197/data/CMS/Data/medicare.csv\")"
   ]
  },
  {
   "cell_type": "code",
   "execution_count": 10,
   "id": "d20796df",
   "metadata": {},
   "outputs": [],
   "source": [
    "train_set = medicare[medicare.Hospital != 'BWH'] # MGH\n",
    "validation_set = medicare[medicare.Hospital == 'BWH'] # BWH and Neither \n",
    "import numpy as np\n",
    "\n",
    "fifty_perc_EHR_cont = np.percentile(medicare['Cal_MPEC_R0'],50)\n",
    "train_set_high = train_set[train_set.Cal_MPEC_R0 >= fifty_perc_EHR_cont]\n",
    "train_set_low= train_set[train_set.Cal_MPEC_R0 < fifty_perc_EHR_cont]\n",
    "\n",
    "validation_set_high = validation_set[validation_set.Cal_MPEC_R0 >= fifty_perc_EHR_cont]\n",
    "validation_set_low = validation_set[validation_set.Cal_MPEC_R0 < fifty_perc_EHR_cont]"
   ]
  },
  {
   "cell_type": "code",
   "execution_count": 11,
   "id": "e6e3b8ad",
   "metadata": {},
   "outputs": [
    {
     "data": {
      "text/plain": [
       "126"
      ]
     },
     "execution_count": 11,
     "metadata": {},
     "output_type": "execute_result"
    }
   ],
   "source": [
    "predictor_variable = [\n",
    "        'Co_CAD_R0', 'Co_Embolism_R0', 'Co_DVT_R0', 'Co_PE_R0', 'Co_AFib_R0',\n",
    "        'Co_Hypertension_R0', 'Co_Hyperlipidemia_R0', 'Co_Atherosclerosis_R0',\n",
    "        'Co_HF_R0', 'Co_HemoStroke_R0', 'Co_IscheStroke_R0', 'Co_OthStroke_R0',\n",
    "        'Co_TIA_R0', 'Co_COPD_R0', 'Co_Asthma_R0', 'Co_Pneumonia_R0', 'Co_Alcoholabuse_R0',\n",
    "        'Co_Drugabuse_R0', 'Co_Epilepsy_R0', 'Co_Cancer_R0', 'Co_MorbidObesity_R0',\n",
    "        'Co_Dementia_R0', 'Co_Depression_R0', 'Co_Bipolar_R0', 'Co_Psychosis_R0',\n",
    "        'Co_Personalitydisorder_R0', 'Co_Adjustmentdisorder_R0', 'Co_Anxiety_R0',\n",
    "        'Co_Generalizedanxiety_R0', 'Co_OldMI_R0', 'Co_AcuteMI_R0', 'Co_PUD_R0',\n",
    "        'Co_UpperGIbleed_R0', 'Co_LowerGIbleed_R0', 'Co_Urogenitalbleed_R0',\n",
    "        'Co_Othbleed_R0', 'Co_PVD_R0', 'Co_LiverDisease_R0', 'Co_MRI_R0',\n",
    "        'Co_ESRD_R0', 'Co_Obesity_R0', 'Co_Sepsis_R0', 'Co_Osteoarthritis_R0',\n",
    "        'Co_RA_R0', 'Co_NeuroPain_R0', 'Co_NeckPain_R0', 'Co_OthArthritis_R0',\n",
    "        'Co_Osteoporosis_R0', 'Co_Fibromyalgia_R0', 'Co_Migraine_R0', 'Co_Headache_R0',\n",
    "        'Co_OthPain_R0', 'Co_GeneralizedPain_R0', 'Co_PainDisorder_R0',\n",
    "        'Co_Falls_R0', 'Co_CoagulationDisorder_R0', 'Co_WhiteBloodCell_R0', 'Co_Parkinson_R0',\n",
    "        'Co_Anemia_R0', 'Co_UrinaryIncontinence_R0', 'Co_DecubitusUlcer_R0',\n",
    "        'Co_Oxygen_R0', 'Co_Mammography_R0', 'Co_PapTest_R0', 'Co_PSATest_R0',\n",
    "        'Co_Colonoscopy_R0', 'Co_FecalOccultTest_R0', 'Co_FluShot_R0', 'Co_PneumococcalVaccine_R0', 'Co_RenalDysfunction_R0', 'Co_Valvular_R0', 'Co_Hosp_Prior30Days_R0',\n",
    "        'Co_RX_Antibiotic_R0', 'Co_RX_Corticosteroid_R0', 'Co_RX_Aspirin_R0', 'Co_RX_Dipyridamole_R0',\n",
    "        'Co_RX_Clopidogrel_R0', 'Co_RX_Prasugrel_R0', 'Co_RX_Cilostazol_R0', 'Co_RX_Ticlopidine_R0',\n",
    "        'Co_RX_Ticagrelor_R0', 'Co_RX_OthAntiplatelet_R0', 'Co_RX_NSAIDs_R0',\n",
    "        'Co_RX_Opioid_R0', 'Co_RX_Antidepressant_R0', 'Co_RX_AAntipsychotic_R0', 'Co_RX_TAntipsychotic_R0',\n",
    "        'Co_RX_Anticonvulsant_R0', 'Co_RX_PPI_R0', 'Co_RX_H2Receptor_R0', 'Co_RX_OthGastro_R0',\n",
    "        'Co_RX_ACE_R0', 'Co_RX_ARB_R0', 'Co_RX_BBlocker_R0', 'Co_RX_CCB_R0', 'Co_RX_Thiazide_R0',\n",
    "        'Co_RX_Loop_R0', 'Co_RX_Potassium_R0', 'Co_RX_Nitrates_R0', 'Co_RX_Aliskiren_R0',\n",
    "        'Co_RX_OthAntihypertensive_R0', 'Co_RX_Antiarrhythmic_R0', 'Co_RX_OthAnticoagulant_R0',\n",
    "        'Co_RX_Insulin_R0', 'Co_RX_Noninsulin_R0', 'Co_RX_Digoxin_R0', 'Co_RX_Statin_R0',\n",
    "        'Co_RX_Lipid_R0', 'Co_RX_Lithium_R0', 'Co_RX_Benzo_R0', 'Co_RX_ZDrugs_R0',\n",
    "        'Co_RX_OthAnxiolytic_R0', 'Co_RX_Barbiturate_R0', 'Co_RX_Dementia_R0', 'Co_RX_Hormone_R0',\n",
    "        'Co_RX_Osteoporosis_R0', 'Co_N_Drugs_R0', 'Co_N_Hosp_R0', 'Co_Total_HospLOS_R0',\n",
    "        'Co_N_MDVisit_R0', 'Co_RX_AnyAspirin_R0', 'Co_RX_AspirinMono_R0', 'Co_RX_ClopidogrelMono_R0',\n",
    "        'Co_RX_AspirinClopidogrel_R0', 'Co_RX_DM_R0', 'Co_RX_Antipsychotic_R0'\n",
    "]\n",
    "\n",
    "\n",
    "co_train_gpop = train_set[predictor_variable]\n",
    "co_train_high = train_set_high[predictor_variable]\n",
    "co_train_low = train_set_low[predictor_variable]\n",
    "\n",
    "co_validation_gpop = validation_set[predictor_variable]\n",
    "co_validation_high = validation_set_high[predictor_variable]\n",
    "co_validation_low = validation_set_low[predictor_variable]\n",
    "len(predictor_variable)\n",
    "\n"
   ]
  },
  {
   "cell_type": "code",
   "execution_count": 12,
   "id": "e2f5a4db",
   "metadata": {},
   "outputs": [],
   "source": [
    "out_train_death_gpop = train_set['ehr_claims_death']\n",
    "out_train_death_high = train_set_high['ehr_claims_death']\n",
    "out_train_death_low = train_set_low['ehr_claims_death']\n",
    "\n",
    "out_validation_death_gpop = validation_set['ehr_claims_death']\n",
    "out_validation_death_high = validation_set_high['ehr_claims_death']\n",
    "out_validation_death_low = validation_set_low['ehr_claims_death']"
   ]
  },
  {
   "cell_type": "code",
   "execution_count": 13,
   "id": "8dad1869",
   "metadata": {},
   "outputs": [],
   "source": [
    "def bart(X_train, y_train):\n",
    "    from bartpy.sklearnmodel import SklearnModel\n",
    "    from sklearn.model_selection import GridSearchCV\n",
    "    from bartpy.data import Data\n",
    "    from bartpy.sigma import Sigma\n",
    "    param_grid = [{\n",
    "        'n_trees': [10,30,50] #\n",
    "    }]\n",
    "    model = SklearnModel()\n",
    "    clf = GridSearchCV(estimator = model, param_grid = param_grid, n_jobs = 10, verbose = True)\n",
    "    best_clf = clf.fit(X_train, y_train.to_numpy())\n",
    "    print(best_clf)\n",
    "    return best_clf "
   ]
  },
  {
   "cell_type": "code",
   "execution_count": 14,
   "id": "7273b77b",
   "metadata": {},
   "outputs": [],
   "source": [
    "def scores(X_train,y_train, best_clf):\n",
    "    from sklearn.metrics import accuracy_score\n",
    "    from sklearn.metrics import f1_score\n",
    "    from sklearn.metrics import fbeta_score\n",
    "    from sklearn.metrics import roc_auc_score \n",
    "    from sklearn.metrics import log_loss\n",
    "    import numpy as np\n",
    "    pred = np.round(best_clf.predict(X_train))\n",
    "    print(pred)\n",
    "    actual = y_train\n",
    "    print(accuracy_score(actual,pred))\n",
    "    print(f1_score(actual,pred))\n",
    "    print(fbeta_score(actual,pred, average = 'macro', beta = 2))\n",
    "    print(roc_auc_score(actual, best_clf.predict(X_train)))\n",
    "    print(log_loss(actual,best_clf.predict(X_train)))"
   ]
  },
  {
   "cell_type": "code",
   "execution_count": 15,
   "id": "a406d5cc",
   "metadata": {},
   "outputs": [],
   "source": [
    "def cross_val(X,y):\n",
    "    from sklearn.model_selection import KFold\n",
    "    from sklearn.model_selection import cross_validate\n",
    "    from sklearn.metrics import log_loss\n",
    "    from sklearn.metrics import roc_auc_score\n",
    "    from sklearn.metrics import fbeta_score\n",
    "    import sklearn\n",
    "    import numpy as np\n",
    "    cv = KFold(n_splits=5, random_state=1, shuffle=True)\n",
    "    log_loss = [] \n",
    "    auc = [] \n",
    "    accuracy = []\n",
    "    f1 = []\n",
    "    f2 = [] \n",
    "    for train_index, test_index in cv.split(X):\n",
    "        X_train, X_test, y_train, y_test = X.iloc[train_index], X.iloc[test_index], y.iloc[train_index], y.iloc[test_index]\n",
    "        model = bart(X_train, y_train)\n",
    "        prob = model.predict(X_test) # prob is a vector of probabilities \n",
    "        pred = np.round(model.predict(X_test)) # pred is the rounded predictions \n",
    "        log_loss.append(sklearn.metrics.log_loss(y_test, prob))\n",
    "        auc.append(sklearn.metrics.roc_auc_score(y_test, prob))\n",
    "        accuracy.append(sklearn.metrics.accuracy_score(y_test, pred))\n",
    "        f1.append(sklearn.metrics.f1_score(y_test, pred, average = 'macro'))\n",
    "        f2.append(fbeta_score(y_test,pred, average = 'macro', beta = 2))\n",
    "    print(np.mean(accuracy))\n",
    "    print(np.mean(f1))\n",
    "    print(np.mean(f2))\n",
    "    print(np.mean(auc))\n",
    "    print(np.mean(log_loss))"
   ]
  },
  {
   "cell_type": "code",
   "execution_count": 16,
   "id": "f4cece11",
   "metadata": {},
   "outputs": [
    {
     "name": "stdout",
     "output_type": "stream",
     "text": [
      "Fitting 5 folds for each of 3 candidates, totalling 15 fits\n"
     ]
    },
    {
     "name": "stderr",
     "output_type": "stream",
     "text": [
      "/PHShome/se197/anaconda3/lib/python3.8/site-packages/sklearn/model_selection/_search.py:918: UserWarning: One or more of the test scores are non-finite: [nan nan nan]\n",
      "  warnings.warn(\n"
     ]
    },
    {
     "name": "stdout",
     "output_type": "stream",
     "text": [
      "GridSearchCV(estimator=SklearnModel(), n_jobs=10,\n",
      "             param_grid=[{'n_trees': [10, 30, 50]}], verbose=True)\n",
      "Fitting 5 folds for each of 3 candidates, totalling 15 fits\n",
      "GridSearchCV(estimator=SklearnModel(), n_jobs=10,\n",
      "             param_grid=[{'n_trees': [10, 30, 50]}], verbose=True)\n",
      "Fitting 5 folds for each of 3 candidates, totalling 15 fits\n"
     ]
    },
    {
     "name": "stderr",
     "output_type": "stream",
     "text": [
      "/PHShome/se197/anaconda3/lib/python3.8/site-packages/sklearn/model_selection/_search.py:918: UserWarning: One or more of the test scores are non-finite: [nan nan nan]\n",
      "  warnings.warn(\n"
     ]
    },
    {
     "name": "stdout",
     "output_type": "stream",
     "text": [
      "GridSearchCV(estimator=SklearnModel(), n_jobs=10,\n",
      "             param_grid=[{'n_trees': [10, 30, 50]}], verbose=True)\n",
      "Fitting 5 folds for each of 3 candidates, totalling 15 fits\n"
     ]
    },
    {
     "name": "stderr",
     "output_type": "stream",
     "text": [
      "/PHShome/se197/anaconda3/lib/python3.8/site-packages/sklearn/model_selection/_search.py:918: UserWarning: One or more of the test scores are non-finite: [nan nan nan]\n",
      "  warnings.warn(\n"
     ]
    },
    {
     "name": "stdout",
     "output_type": "stream",
     "text": [
      "GridSearchCV(estimator=SklearnModel(), n_jobs=10,\n",
      "             param_grid=[{'n_trees': [10, 30, 50]}], verbose=True)\n",
      "Fitting 5 folds for each of 3 candidates, totalling 15 fits\n"
     ]
    },
    {
     "name": "stderr",
     "output_type": "stream",
     "text": [
      "/PHShome/se197/anaconda3/lib/python3.8/site-packages/sklearn/model_selection/_search.py:918: UserWarning: One or more of the test scores are non-finite: [nan nan nan]\n",
      "  warnings.warn(\n"
     ]
    },
    {
     "name": "stdout",
     "output_type": "stream",
     "text": [
      "GridSearchCV(estimator=SklearnModel(), n_jobs=10,\n",
      "             param_grid=[{'n_trees': [10, 30, 50]}], verbose=True)\n",
      "Fitting 5 folds for each of 3 candidates, totalling 15 fits\n"
     ]
    },
    {
     "name": "stderr",
     "output_type": "stream",
     "text": [
      "/PHShome/se197/anaconda3/lib/python3.8/site-packages/sklearn/model_selection/_search.py:918: UserWarning: One or more of the test scores are non-finite: [nan nan nan]\n",
      "  warnings.warn(\n"
     ]
    },
    {
     "name": "stdout",
     "output_type": "stream",
     "text": [
      "GridSearchCV(estimator=SklearnModel(), n_jobs=10,\n",
      "             param_grid=[{'n_trees': [10, 30, 50]}], verbose=True)\n",
      "0.9066445918985023\n",
      "0.4876403584837825\n",
      "0.49734679479042265\n",
      "0.8025392547323659\n",
      "0.27312386760312823\n",
      "\n"
     ]
    },
    {
     "ename": "TypeError",
     "evalue": "scores() missing 1 required positional argument: 'best_clf'",
     "output_type": "error",
     "traceback": [
      "\u001b[0;31m---------------------------------------------------------------------------\u001b[0m",
      "\u001b[0;31mTypeError\u001b[0m                                 Traceback (most recent call last)",
      "\u001b[0;32m<ipython-input-16-43810d2cd5ab>\u001b[0m in \u001b[0;36m<module>\u001b[0;34m\u001b[0m\n\u001b[1;32m      5\u001b[0m \u001b[0mcross_val\u001b[0m\u001b[0;34m(\u001b[0m\u001b[0mco_train_gpop\u001b[0m\u001b[0;34m,\u001b[0m\u001b[0mout_train_death_gpop\u001b[0m\u001b[0;34m)\u001b[0m\u001b[0;34m\u001b[0m\u001b[0;34m\u001b[0m\u001b[0m\n\u001b[1;32m      6\u001b[0m \u001b[0mprint\u001b[0m\u001b[0;34m(\u001b[0m\u001b[0;34m)\u001b[0m\u001b[0;34m\u001b[0m\u001b[0;34m\u001b[0m\u001b[0m\n\u001b[0;32m----> 7\u001b[0;31m \u001b[0mscores\u001b[0m\u001b[0;34m(\u001b[0m\u001b[0mco_validation_gpop\u001b[0m\u001b[0;34m,\u001b[0m\u001b[0mout_validation_death_gpop\u001b[0m\u001b[0;34m)\u001b[0m\u001b[0;34m\u001b[0m\u001b[0;34m\u001b[0m\u001b[0m\n\u001b[0m\u001b[1;32m      8\u001b[0m \u001b[0;34m\u001b[0m\u001b[0m\n\u001b[1;32m      9\u001b[0m \u001b[0mprint\u001b[0m\u001b[0;34m(\u001b[0m\u001b[0mdatetime\u001b[0m\u001b[0;34m.\u001b[0m\u001b[0mdatetime\u001b[0m\u001b[0;34m.\u001b[0m\u001b[0mnow\u001b[0m\u001b[0;34m(\u001b[0m\u001b[0;34m)\u001b[0m \u001b[0;34m-\u001b[0m \u001b[0mbegin_time\u001b[0m\u001b[0;34m)\u001b[0m\u001b[0;34m\u001b[0m\u001b[0;34m\u001b[0m\u001b[0m\n",
      "\u001b[0;31mTypeError\u001b[0m: scores() missing 1 required positional argument: 'best_clf'"
     ]
    }
   ],
   "source": [
    "import datetime\n",
    "begin_time = datetime.datetime.now()\n",
    "\n",
    "best_clf = bart(co_train_gpop,out_train_death_gpop)\n",
    "cross_val(co_train_gpop,out_train_death_gpop)\n",
    "print()\n",
    "scores(co_validation_gpop,out_validation_death_gpop, best_clf)\n",
    "\n",
    "print(datetime.datetime.now() - begin_time)"
   ]
  },
  {
   "cell_type": "code",
   "execution_count": 17,
   "id": "dbbfba02",
   "metadata": {},
   "outputs": [
    {
     "name": "stdout",
     "output_type": "stream",
     "text": [
      "[ 0. -0.  0. ...  0.  0.  0.]\n",
      "0.8968887116074991\n",
      "0.020833333333333332\n",
      "0.4951062823157546\n",
      "0.7865797967466328\n",
      "0.30089140439944767\n"
     ]
    }
   ],
   "source": [
    "scores(co_validation_gpop,out_validation_death_gpop, best_clf)\n"
   ]
  },
  {
   "cell_type": "code",
   "execution_count": 22,
   "id": "d91a2009",
   "metadata": {},
   "outputs": [
    {
     "name": "stdout",
     "output_type": "stream",
     "text": [
      "Collecting knockknock\n",
      "  Downloading knockknock-0.1.8.1-py3-none-any.whl (28 kB)\n",
      "Collecting matrix-client\n",
      "  Downloading matrix_client-0.4.0-py2.py3-none-any.whl (43 kB)\n",
      "\u001b[K     |████████████████████████████████| 43 kB 217 kB/s eta 0:00:01\n",
      "\u001b[?25hRequirement already satisfied: keyring in /netapp2/home/se197/anaconda3/lib/python3.8/site-packages (from knockknock) (22.3.0)\n",
      "Collecting yagmail>=0.11.214\n",
      "  Downloading yagmail-0.14.256-py2.py3-none-any.whl (15 kB)\n",
      "Collecting twilio\n",
      "  Downloading twilio-6.63.0.tar.gz (488 kB)\n",
      "\u001b[K     |████████████████████████████████| 488 kB 3.1 MB/s eta 0:00:01\n",
      "\u001b[?25hCollecting python-telegram-bot\n",
      "  Downloading python_telegram_bot-13.7-py3-none-any.whl (490 kB)\n",
      "\u001b[K     |████████████████████████████████| 490 kB 9.5 MB/s eta 0:00:01\n",
      "\u001b[?25hRequirement already satisfied: requests in /netapp2/home/se197/anaconda3/lib/python3.8/site-packages (from knockknock) (2.25.1)\n",
      "Collecting premailer\n",
      "  Downloading premailer-3.10.0-py2.py3-none-any.whl (19 kB)\n",
      "Requirement already satisfied: SecretStorage>=3.2 in /netapp2/home/se197/anaconda3/lib/python3.8/site-packages (from keyring->knockknock) (3.3.1)\n",
      "Requirement already satisfied: jeepney>=0.4.2 in /netapp2/home/se197/anaconda3/lib/python3.8/site-packages (from keyring->knockknock) (0.6.0)\n",
      "Requirement already satisfied: cryptography>=2.0 in /netapp2/home/se197/anaconda3/lib/python3.8/site-packages (from SecretStorage>=3.2->keyring->knockknock) (3.4.7)\n",
      "Requirement already satisfied: cffi>=1.12 in /netapp2/home/se197/anaconda3/lib/python3.8/site-packages (from cryptography>=2.0->SecretStorage>=3.2->keyring->knockknock) (1.14.5)\n",
      "Requirement already satisfied: pycparser in /netapp2/home/se197/anaconda3/lib/python3.8/site-packages (from cffi>=1.12->cryptography>=2.0->SecretStorage>=3.2->keyring->knockknock) (2.20)\n",
      "Requirement already satisfied: urllib3~=1.21 in /netapp2/home/se197/anaconda3/lib/python3.8/site-packages (from matrix-client->knockknock) (1.26.4)\n",
      "Requirement already satisfied: certifi>=2017.4.17 in /netapp2/home/se197/anaconda3/lib/python3.8/site-packages (from requests->knockknock) (2020.12.5)\n",
      "Requirement already satisfied: chardet<5,>=3.0.2 in /netapp2/home/se197/anaconda3/lib/python3.8/site-packages (from requests->knockknock) (4.0.0)\n",
      "Requirement already satisfied: idna<3,>=2.5 in /netapp2/home/se197/anaconda3/lib/python3.8/site-packages (from requests->knockknock) (2.10)\n",
      "Collecting cssutils\n",
      "  Downloading cssutils-2.3.0-py3-none-any.whl (404 kB)\n",
      "\u001b[K     |████████████████████████████████| 404 kB 11.3 MB/s eta 0:00:01\n",
      "\u001b[?25hRequirement already satisfied: lxml in /netapp2/home/se197/anaconda3/lib/python3.8/site-packages (from premailer->yagmail>=0.11.214->knockknock) (4.6.3)\n",
      "Collecting cssselect\n",
      "  Downloading cssselect-1.1.0-py2.py3-none-any.whl (16 kB)\n",
      "Requirement already satisfied: cachetools in /netapp2/home/se197/anaconda3/lib/python3.8/site-packages (from premailer->yagmail>=0.11.214->knockknock) (4.2.2)\n",
      "Collecting APScheduler==3.6.3\n",
      "  Downloading APScheduler-3.6.3-py2.py3-none-any.whl (58 kB)\n",
      "\u001b[K     |████████████████████████████████| 58 kB 926 kB/s  eta 0:00:01\n",
      "\u001b[?25hRequirement already satisfied: tornado>=6.1 in /netapp2/home/se197/anaconda3/lib/python3.8/site-packages (from python-telegram-bot->knockknock) (6.1)\n",
      "Requirement already satisfied: pytz>=2018.6 in /netapp2/home/se197/anaconda3/lib/python3.8/site-packages (from python-telegram-bot->knockknock) (2021.1)\n",
      "Requirement already satisfied: tzlocal>=1.2 in /netapp2/home/se197/anaconda3/lib/python3.8/site-packages (from APScheduler==3.6.3->python-telegram-bot->knockknock) (2.1)\n",
      "Requirement already satisfied: setuptools>=0.7 in /netapp2/home/se197/anaconda3/lib/python3.8/site-packages (from APScheduler==3.6.3->python-telegram-bot->knockknock) (52.0.0.post20210125)\n",
      "Requirement already satisfied: six>=1.4.0 in /netapp2/home/se197/anaconda3/lib/python3.8/site-packages (from APScheduler==3.6.3->python-telegram-bot->knockknock) (1.15.0)\n",
      "Collecting PyJWT==1.7.1\n",
      "  Downloading PyJWT-1.7.1-py2.py3-none-any.whl (18 kB)\n",
      "Building wheels for collected packages: twilio\n",
      "  Building wheel for twilio (setup.py) ... \u001b[?25ldone\n",
      "\u001b[?25h  Created wheel for twilio: filename=twilio-6.63.0-py2.py3-none-any.whl size=1290602 sha256=37986b5993ae1031018b7a8b32a9e43871608b6d9d555605f53750cc8c8bff87\n",
      "  Stored in directory: /netapp2/home/se197/.cache/pip/wheels/c3/a0/62/a106e75c16a842a1ef3ab9793f31cfa4d7f6ede5d41748aa3b\n",
      "Successfully built twilio\n",
      "Installing collected packages: cssutils, cssselect, PyJWT, premailer, APScheduler, yagmail, twilio, python-telegram-bot, matrix-client, knockknock\n",
      "  Attempting uninstall: PyJWT\n",
      "    Found existing installation: PyJWT 2.1.0\n",
      "    Uninstalling PyJWT-2.1.0:\n",
      "      Successfully uninstalled PyJWT-2.1.0\n",
      "Successfully installed APScheduler-3.6.3 PyJWT-1.7.1 cssselect-1.1.0 cssutils-2.3.0 knockknock-0.1.8.1 matrix-client-0.4.0 premailer-3.10.0 python-telegram-bot-13.7 twilio-6.63.0 yagmail-0.14.256\n",
      "Note: you may need to restart the kernel to use updated packages.\n"
     ]
    }
   ],
   "source": [
    "pip install knockknock"
   ]
  },
  {
   "cell_type": "code",
   "execution_count": 28,
   "id": "fa1a4b48",
   "metadata": {},
   "outputs": [
    {
     "name": "stdout",
     "output_type": "stream",
     "text": [
      "Fitting 5 folds for each of 3 candidates, totalling 15 fits\n"
     ]
    },
    {
     "name": "stderr",
     "output_type": "stream",
     "text": [
      "/PHShome/se197/anaconda3/lib/python3.8/site-packages/sklearn/model_selection/_search.py:918: UserWarning: One or more of the test scores are non-finite: [nan nan nan]\n",
      "  warnings.warn(\n"
     ]
    },
    {
     "name": "stdout",
     "output_type": "stream",
     "text": [
      "GridSearchCV(estimator=SklearnModel(), n_jobs=10,\n",
      "             param_grid=[{'n_trees': [10, 30, 50]}], verbose=True)\n",
      "Fitting 5 folds for each of 3 candidates, totalling 15 fits\n",
      "GridSearchCV(estimator=SklearnModel(), n_jobs=10,\n",
      "             param_grid=[{'n_trees': [10, 30, 50]}], verbose=True)\n",
      "Fitting 5 folds for each of 3 candidates, totalling 15 fits\n"
     ]
    },
    {
     "name": "stderr",
     "output_type": "stream",
     "text": [
      "/PHShome/se197/anaconda3/lib/python3.8/site-packages/sklearn/model_selection/_search.py:918: UserWarning: One or more of the test scores are non-finite: [nan nan nan]\n",
      "  warnings.warn(\n"
     ]
    },
    {
     "name": "stdout",
     "output_type": "stream",
     "text": [
      "GridSearchCV(estimator=SklearnModel(), n_jobs=10,\n",
      "             param_grid=[{'n_trees': [10, 30, 50]}], verbose=True)\n",
      "Fitting 5 folds for each of 3 candidates, totalling 15 fits\n"
     ]
    },
    {
     "name": "stderr",
     "output_type": "stream",
     "text": [
      "/PHShome/se197/anaconda3/lib/python3.8/site-packages/sklearn/model_selection/_search.py:918: UserWarning: One or more of the test scores are non-finite: [nan nan nan]\n",
      "  warnings.warn(\n"
     ]
    },
    {
     "name": "stdout",
     "output_type": "stream",
     "text": [
      "GridSearchCV(estimator=SklearnModel(), n_jobs=10,\n",
      "             param_grid=[{'n_trees': [10, 30, 50]}], verbose=True)\n",
      "Fitting 5 folds for each of 3 candidates, totalling 15 fits\n"
     ]
    },
    {
     "name": "stderr",
     "output_type": "stream",
     "text": [
      "/PHShome/se197/anaconda3/lib/python3.8/site-packages/sklearn/model_selection/_search.py:918: UserWarning: One or more of the test scores are non-finite: [nan nan nan]\n",
      "  warnings.warn(\n"
     ]
    },
    {
     "name": "stdout",
     "output_type": "stream",
     "text": [
      "GridSearchCV(estimator=SklearnModel(), n_jobs=10,\n",
      "             param_grid=[{'n_trees': [10, 30, 50]}], verbose=True)\n",
      "Fitting 5 folds for each of 3 candidates, totalling 15 fits\n"
     ]
    },
    {
     "name": "stderr",
     "output_type": "stream",
     "text": [
      "/PHShome/se197/anaconda3/lib/python3.8/site-packages/sklearn/model_selection/_search.py:918: UserWarning: One or more of the test scores are non-finite: [nan nan nan]\n",
      "  warnings.warn(\n"
     ]
    },
    {
     "name": "stdout",
     "output_type": "stream",
     "text": [
      "GridSearchCV(estimator=SklearnModel(), n_jobs=10,\n",
      "             param_grid=[{'n_trees': [10, 30, 50]}], verbose=True)\n",
      "0.8812186236969743\n",
      "0.49481546192769876\n",
      "0.5034232545408264\n",
      "0.7823462022052955\n",
      "0.3120098538239274\n",
      "\n",
      "[0. 0. 0. ... 0. 0. 0.]\n",
      "0.8669593433861424\n",
      "0.051700680272108855\n",
      "0.501009283405906\n",
      "0.7638523781988119\n",
      "0.3406073249395531\n",
      "0:08:15.887934\n"
     ]
    }
   ],
   "source": [
    "import datetime\n",
    "begin_time = datetime.datetime.now()\n",
    "\n",
    "best_clf = bart(co_train_low,out_train_death_low)\n",
    "cross_val(co_train_low,out_train_death_low)\n",
    "print()\n",
    "scores(co_validation_low,out_validation_death_low, best_clf)\n",
    "\n",
    "print(datetime.datetime.now() - begin_time)"
   ]
  },
  {
   "cell_type": "code",
   "execution_count": 29,
   "id": "a21d8643",
   "metadata": {},
   "outputs": [
    {
     "name": "stdout",
     "output_type": "stream",
     "text": [
      "Fitting 5 folds for each of 3 candidates, totalling 15 fits\n"
     ]
    },
    {
     "name": "stderr",
     "output_type": "stream",
     "text": [
      "/PHShome/se197/anaconda3/lib/python3.8/site-packages/sklearn/model_selection/_search.py:918: UserWarning: One or more of the test scores are non-finite: [nan nan nan]\n",
      "  warnings.warn(\n"
     ]
    },
    {
     "name": "stdout",
     "output_type": "stream",
     "text": [
      "GridSearchCV(estimator=SklearnModel(), n_jobs=10,\n",
      "             param_grid=[{'n_trees': [10, 30, 50]}], verbose=True)\n",
      "Fitting 5 folds for each of 3 candidates, totalling 15 fits\n",
      "GridSearchCV(estimator=SklearnModel(), n_jobs=10,\n",
      "             param_grid=[{'n_trees': [10, 30, 50]}], verbose=True)\n",
      "Fitting 5 folds for each of 3 candidates, totalling 15 fits\n"
     ]
    },
    {
     "name": "stderr",
     "output_type": "stream",
     "text": [
      "/PHShome/se197/anaconda3/lib/python3.8/site-packages/sklearn/model_selection/_search.py:918: UserWarning: One or more of the test scores are non-finite: [nan nan nan]\n",
      "  warnings.warn(\n"
     ]
    },
    {
     "name": "stdout",
     "output_type": "stream",
     "text": [
      "GridSearchCV(estimator=SklearnModel(), n_jobs=10,\n",
      "             param_grid=[{'n_trees': [10, 30, 50]}], verbose=True)\n",
      "Fitting 5 folds for each of 3 candidates, totalling 15 fits\n"
     ]
    },
    {
     "name": "stderr",
     "output_type": "stream",
     "text": [
      "/PHShome/se197/anaconda3/lib/python3.8/site-packages/sklearn/model_selection/_search.py:918: UserWarning: One or more of the test scores are non-finite: [nan nan nan]\n",
      "  warnings.warn(\n"
     ]
    },
    {
     "name": "stdout",
     "output_type": "stream",
     "text": [
      "GridSearchCV(estimator=SklearnModel(), n_jobs=10,\n",
      "             param_grid=[{'n_trees': [10, 30, 50]}], verbose=True)\n",
      "Fitting 5 folds for each of 3 candidates, totalling 15 fits\n"
     ]
    },
    {
     "name": "stderr",
     "output_type": "stream",
     "text": [
      "/PHShome/se197/anaconda3/lib/python3.8/site-packages/sklearn/model_selection/_search.py:918: UserWarning: One or more of the test scores are non-finite: [nan nan nan]\n",
      "  warnings.warn(\n"
     ]
    },
    {
     "name": "stdout",
     "output_type": "stream",
     "text": [
      "GridSearchCV(estimator=SklearnModel(), n_jobs=10,\n",
      "             param_grid=[{'n_trees': [10, 30, 50]}], verbose=True)\n",
      "Fitting 5 folds for each of 3 candidates, totalling 15 fits\n"
     ]
    },
    {
     "name": "stderr",
     "output_type": "stream",
     "text": [
      "/PHShome/se197/anaconda3/lib/python3.8/site-packages/sklearn/model_selection/_search.py:918: UserWarning: One or more of the test scores are non-finite: [nan nan nan]\n",
      "  warnings.warn(\n"
     ]
    },
    {
     "name": "stdout",
     "output_type": "stream",
     "text": [
      "GridSearchCV(estimator=SklearnModel(), n_jobs=10,\n",
      "             param_grid=[{'n_trees': [10, 30, 50]}], verbose=True)\n",
      "0.9311618847368545\n",
      "0.482175238429733\n",
      "0.4927137827527444\n",
      "0.7997384289055998\n",
      "0.2115612425126213\n",
      "\n",
      "[0. 0. 0. ... 0. 0. 0.]\n",
      "0.9304656504489455\n",
      "0.002994011976047904\n",
      "0.4935412193088958\n",
      "0.7951134482777211\n",
      "0.21690665603812034\n",
      "0:09:23.688497\n"
     ]
    }
   ],
   "source": [
    "import datetime\n",
    "begin_time = datetime.datetime.now()\n",
    "\n",
    "best_clf = bart(co_train_high,out_train_death_high)\n",
    "cross_val(co_train_high,out_train_death_high)\n",
    "print()\n",
    "scores(co_validation_high,out_validation_death_high, best_clf)\n",
    "\n",
    "print(datetime.datetime.now() - begin_time)"
   ]
  },
  {
   "cell_type": "code",
   "execution_count": null,
   "id": "ebc484ec",
   "metadata": {},
   "outputs": [],
   "source": []
  },
  {
   "cell_type": "code",
   "execution_count": null,
   "id": "ac7cb4e5",
   "metadata": {},
   "outputs": [],
   "source": [
    "\n"
   ]
  }
 ],
 "metadata": {
  "kernelspec": {
   "display_name": "Python 3",
   "language": "python",
   "name": "python3"
  },
  "language_info": {
   "codemirror_mode": {
    "name": "ipython",
    "version": 3
   },
   "file_extension": ".py",
   "mimetype": "text/x-python",
   "name": "python",
   "nbconvert_exporter": "python",
   "pygments_lexer": "ipython3",
   "version": "3.8.8"
  }
 },
 "nbformat": 4,
 "nbformat_minor": 5
}
