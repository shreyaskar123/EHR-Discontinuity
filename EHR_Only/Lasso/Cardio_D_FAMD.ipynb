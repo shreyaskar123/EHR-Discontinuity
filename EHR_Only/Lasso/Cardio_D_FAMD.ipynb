{
 "cells": [
  {
   "cell_type": "code",
   "execution_count": 1,
   "id": "ed1820fc",
   "metadata": {},
   "outputs": [],
   "source": [
    "import pandas as pd\n",
    "medicare = pd.read_csv(\"/netapp2/home/se197/data/CMS/Data/medicare.csv\")"
   ]
  },
  {
   "cell_type": "code",
   "execution_count": 2,
   "id": "d52733d3",
   "metadata": {},
   "outputs": [],
   "source": [
    "train_set = medicare[medicare.Hospital != 'BWH'] # MGH\n",
    "validation_set = medicare[medicare.Hospital == 'BWH'] # BWH and Neither \n",
    "import numpy as np\n",
    "\n",
    "fifty_perc_EHR_cont = np.percentile(medicare['Cal_MPEC_R0'],50)\n",
    "train_set_high = train_set[train_set.Cal_MPEC_R0 >= fifty_perc_EHR_cont]\n",
    "train_set_low= train_set[train_set.Cal_MPEC_R0 < fifty_perc_EHR_cont]\n",
    "\n",
    "validation_set_high = validation_set[validation_set.Cal_MPEC_R0 >= fifty_perc_EHR_cont]\n",
    "validation_set_low = validation_set[validation_set.Cal_MPEC_R0 < fifty_perc_EHR_cont]\n"
   ]
  },
  {
   "cell_type": "code",
   "execution_count": 3,
   "id": "b55333fa",
   "metadata": {},
   "outputs": [
    {
     "data": {
      "text/plain": [
       "(52277, 279)"
      ]
     },
     "execution_count": 3,
     "metadata": {},
     "output_type": "execute_result"
    }
   ],
   "source": [
    "predictor_variable = [\n",
    "        'Co_CAD_R0', 'Co_Embolism_R0', 'Co_DVT_R0', 'Co_PE_R0', 'Co_AFib_R0',\n",
    "        'Co_Hypertension_R0', 'Co_Hyperlipidemia_R0', 'Co_Atherosclerosis_R0',\n",
    "        'Co_HF_R0', 'Co_HemoStroke_R0', 'Co_IscheStroke_R0', 'Co_OthStroke_R0',\n",
    "        'Co_TIA_R0', 'Co_COPD_R0', 'Co_Asthma_R0', 'Co_Pneumonia_R0', 'Co_Alcoholabuse_R0',\n",
    "        'Co_Drugabuse_R0', 'Co_Epilepsy_R0', 'Co_Cancer_R0', 'Co_MorbidObesity_R0',\n",
    "        'Co_Dementia_R0', 'Co_Depression_R0', 'Co_Bipolar_R0', 'Co_Psychosis_R0',\n",
    "        'Co_Personalitydisorder_R0', 'Co_Adjustmentdisorder_R0', 'Co_Anxiety_R0',\n",
    "        'Co_Generalizedanxiety_R0', 'Co_OldMI_R0', 'Co_AcuteMI_R0', 'Co_PUD_R0',\n",
    "        'Co_UpperGIbleed_R0', 'Co_LowerGIbleed_R0', 'Co_Urogenitalbleed_R0',\n",
    "        'Co_Othbleed_R0', 'Co_PVD_R0', 'Co_LiverDisease_R0', 'Co_MRI_R0',\n",
    "        'Co_ESRD_R0', 'Co_Obesity_R0', 'Co_Sepsis_R0', 'Co_Osteoarthritis_R0',\n",
    "        'Co_RA_R0', 'Co_NeuroPain_R0', 'Co_NeckPain_R0', 'Co_OthArthritis_R0',\n",
    "        'Co_Osteoporosis_R0', 'Co_Fibromyalgia_R0', 'Co_Migraine_R0', 'Co_Headache_R0',\n",
    "        'Co_OthPain_R0', 'Co_GeneralizedPain_R0', 'Co_PainDisorder_R0',\n",
    "        'Co_Falls_R0', 'Co_CoagulationDisorder_R0', 'Co_WhiteBloodCell_R0', 'Co_Parkinson_R0',\n",
    "        'Co_Anemia_R0', 'Co_UrinaryIncontinence_R0', 'Co_DecubitusUlcer_R0',\n",
    "        'Co_Oxygen_R0', 'Co_Mammography_R0', 'Co_PapTest_R0', 'Co_PSATest_R0',\n",
    "        'Co_Colonoscopy_R0', 'Co_FecalOccultTest_R0', 'Co_FluShot_R0', 'Co_PneumococcalVaccine_R0', 'Co_RenalDysfunction_R0', 'Co_Valvular_R0', 'Co_Hosp_Prior30Days_R0',\n",
    "        'Co_RX_Antibiotic_R0', 'Co_RX_Corticosteroid_R0', 'Co_RX_Aspirin_R0', 'Co_RX_Dipyridamole_R0',\n",
    "        'Co_RX_Clopidogrel_R0', 'Co_RX_Prasugrel_R0', 'Co_RX_Cilostazol_R0', 'Co_RX_Ticlopidine_R0',\n",
    "        'Co_RX_Ticagrelor_R0', 'Co_RX_OthAntiplatelet_R0', 'Co_RX_NSAIDs_R0',\n",
    "        'Co_RX_Opioid_R0', 'Co_RX_Antidepressant_R0', 'Co_RX_AAntipsychotic_R0', 'Co_RX_TAntipsychotic_R0',\n",
    "        'Co_RX_Anticonvulsant_R0', 'Co_RX_PPI_R0', 'Co_RX_H2Receptor_R0', 'Co_RX_OthGastro_R0',\n",
    "        'Co_RX_ACE_R0', 'Co_RX_ARB_R0', 'Co_RX_BBlocker_R0', 'Co_RX_CCB_R0', 'Co_RX_Thiazide_R0',\n",
    "        'Co_RX_Loop_R0', 'Co_RX_Potassium_R0', 'Co_RX_Nitrates_R0', 'Co_RX_Aliskiren_R0',\n",
    "        'Co_RX_OthAntihypertensive_R0', 'Co_RX_Antiarrhythmic_R0', 'Co_RX_OthAnticoagulant_R0',\n",
    "        'Co_RX_Insulin_R0', 'Co_RX_Noninsulin_R0', 'Co_RX_Digoxin_R0', 'Co_RX_Statin_R0',\n",
    "        'Co_RX_Lipid_R0', 'Co_RX_Lithium_R0', 'Co_RX_Benzo_R0', 'Co_RX_ZDrugs_R0',\n",
    "        'Co_RX_OthAnxiolytic_R0', 'Co_RX_Dementia_R0', 'Co_RX_Hormone_R0',\n",
    "        'Co_RX_Osteoporosis_R0', 'Co_N_Drugs_R0', 'Co_N_Hosp_R0', 'Co_Total_HospLOS_R0',\n",
    "        'Co_N_MDVisit_R0', 'Co_RX_AnyAspirin_R0', 'Co_RX_AspirinMono_R0', 'Co_RX_ClopidogrelMono_R0',\n",
    "        'Co_RX_AspirinClopidogrel_R0', 'Co_RX_DM_R0', 'Co_RX_Antipsychotic_R0'\n",
    "]\n",
    "\n",
    "co_train_gpop = train_set[predictor_variable]\n",
    "co_train_high = train_set_high[predictor_variable]\n",
    "co_train_low = train_set_low[predictor_variable]\n",
    "\n",
    "co_validation_gpop = validation_set[predictor_variable]\n",
    "co_validation_high = validation_set_high[predictor_variable]\n",
    "co_validation_low = validation_set_low[predictor_variable]\n",
    "\n",
    "medicare.shape"
   ]
  },
  {
   "cell_type": "code",
   "execution_count": 4,
   "id": "3022a945",
   "metadata": {},
   "outputs": [],
   "source": [
    "out_train_cardio_gpop = train_set['Out_comp_cardiovascular_RC1']\n",
    "out_train_cardio_high = train_set_high['Out_comp_cardiovascular_RC1']\n",
    "out_train_cardio_low = train_set_low['Out_comp_cardiovascular_RC1']\n",
    "\n",
    "out_validation_cardio_gpop = validation_set['Out_comp_cardiovascular_RC1']\n",
    "out_validation_cardio_high = validation_set_high['Out_comp_cardiovascular_RC1']\n",
    "out_validation_cardio_low = validation_set_low['Out_comp_cardiovascular_RC1']"
   ]
  },
  {
   "cell_type": "code",
   "execution_count": 5,
   "id": "3e2dd412",
   "metadata": {},
   "outputs": [],
   "source": [
    "def lasso(X,y):\n",
    "    from sklearn.linear_model import Lasso\n",
    "    from sklearn.model_selection import GridSearchCV\n",
    "    model = Lasso()\n",
    "    param_grid = [\n",
    "        {'alpha' : np.logspace(-4, 4, 20)}\n",
    "        ]\n",
    "    clf = GridSearchCV(model, param_grid, cv = 5, verbose = True, n_jobs = 1)\n",
    "    best_clf = clf.fit(X, y)\n",
    "    return best_clf"
   ]
  },
  {
   "cell_type": "code",
   "execution_count": 6,
   "id": "554e8cc5",
   "metadata": {},
   "outputs": [],
   "source": [
    "def scores(X_train,y_train, best_clf):\n",
    "    from sklearn.metrics import accuracy_score\n",
    "    from sklearn.metrics import f1_score\n",
    "    from sklearn.metrics import fbeta_score\n",
    "    from sklearn.metrics import roc_auc_score \n",
    "    from sklearn.metrics import log_loss\n",
    "    import numpy as np\n",
    "    pred = np.round(best_clf.predict(X_train))\n",
    "    prob = best_clf.predict(X_train)\n",
    "    print(accuracy_score(actual,pred))\n",
    "    print(f1_score(actual,pred, average = 'macro'))\n",
    "    print(fbeta_score(actual,pred, average = 'macro', beta = 2))\n",
    "    print(roc_auc_score(actual, prob))\n",
    "    print(log_loss(actual,prob))\n",
    "    \n",
    "    \n"
   ]
  },
  {
   "cell_type": "code",
   "execution_count": 10,
   "id": "07e3b15b",
   "metadata": {},
   "outputs": [],
   "source": [
    "def cross_val(X,y):\n",
    "    from sklearn.model_selection import KFold\n",
    "    from sklearn.model_selection import cross_validate\n",
    "    from sklearn.metrics import log_loss\n",
    "    from sklearn.metrics import roc_auc_score\n",
    "    from sklearn.metrics import fbeta_score\n",
    "    import sklearn\n",
    "    import numpy as np\n",
    "    cv = KFold(n_splits=5, random_state=1, shuffle=True)\n",
    "    log_loss = [] \n",
    "    auc = [] \n",
    "    accuracy = []\n",
    "    f1 = []\n",
    "    f2 = [] \n",
    "    for train_index, test_index in cv.split(X):\n",
    "        X_train, X_test, y_train, y_test = X.iloc[train_index], X.iloc[test_index], y.iloc[train_index], y.iloc[test_index]\n",
    "        model = lasso(X_train, y_train)\n",
    "        prob = model.predict(X_test) # prob is a vector of probabilities \n",
    "        pred = np.round(model.predict(X_test)) # pred is the rounded predictions \n",
    "        log_loss.append(sklearn.metrics.log_loss(y_test, prob))\n",
    "        auc.append(sklearn.metrics.roc_auc_score(y_test, prob))\n",
    "        accuracy.append(sklearn.metrics.accuracy_score(y_test, pred))\n",
    "        f1.append(sklearn.metrics.f1_score(y_test, pred, average = 'macro'))\n",
    "        f2.append(fbeta_score(y_test,pred, average = 'macro', beta = 2))\n",
    "    print(np.mean(accuracy))\n",
    "    print(np.mean(f1))\n",
    "    print(np.mean(f2))\n",
    "    print(np.mean(auc))\n",
    "    print(np.mean(log_loss))"
   ]
  },
  {
   "cell_type": "markdown",
   "id": "622ff982",
   "metadata": {},
   "source": [
    "# FAMD Transformation"
   ]
  },
  {
   "cell_type": "code",
   "execution_count": 8,
   "id": "9a0080ce",
   "metadata": {},
   "outputs": [
    {
     "name": "stderr",
     "output_type": "stream",
     "text": [
      "/PHShome/se197/anaconda3/lib/python3.8/site-packages/pandas/core/series.py:4509: SettingWithCopyWarning: \n",
      "A value is trying to be set on a copy of a slice from a DataFrame\n",
      "\n",
      "See the caveats in the documentation: https://pandas.pydata.org/pandas-docs/stable/user_guide/indexing.html#returning-a-view-versus-a-copy\n",
      "  return super().replace(\n"
     ]
    }
   ],
   "source": [
    "from prince import FAMD\n",
    "famd = FAMD(n_components = 15, n_iter = 3, random_state = 101)\n",
    "\n",
    "for (colName, colData) in co_train_gpop.iteritems():\n",
    "    if (colName != 'Co_N_Drugs_R0' and colName!= 'Co_N_Hosp_R0' and colName != 'Co_Total_HospLOS_R0' and colName != 'Co_N_MDVisit_R0'):\n",
    "        co_train_gpop[colName].replace((1,0) ,('yes','no'), inplace = True)\n",
    "        co_train_low[colName].replace((1,0) ,('yes','no'), inplace = True)\n",
    "        co_train_high[colName].replace((1,0) ,('yes','no'), inplace = True)\n",
    "        co_validation_gpop[colName].replace((1,0), ('yes','no'), inplace = True)\n",
    "        co_validation_high[colName].replace((1,0), ('yes','no'), inplace = True)\n",
    "        co_validation_low[colName].replace((1,0), ('yes','no'), inplace = True)\n",
    "\n",
    "famd.fit(co_train_gpop)\n",
    "co_train_gpop_FAMD = famd.transform(co_train_gpop)  \n",
    "\n",
    "famd.fit(co_train_high)\n",
    "co_train_high_FAMD = famd.transform(co_train_high)  \n",
    "\n",
    "famd.fit(co_train_low)\n",
    "co_train_low_FAMD = famd.transform(co_train_low)  \n",
    "\n",
    "famd.fit(co_validation_gpop)\n",
    "co_validation_gpop_FAMD = famd.transform(co_validation_gpop)    \n",
    "\n",
    "famd.fit(co_validation_high)\n",
    "co_validation_high_FAMD = famd.transform(co_validation_high)    \n",
    "\n",
    "famd.fit(co_validation_low)\n",
    "co_validation_low_FAMD = famd.transform(co_validation_low)    \n"
   ]
  },
  {
   "cell_type": "markdown",
   "id": "422804b0",
   "metadata": {},
   "source": [
    "# General Population"
   ]
  },
  {
   "cell_type": "code",
   "execution_count": 9,
   "id": "896f7ed1",
   "metadata": {},
   "outputs": [
    {
     "name": "stdout",
     "output_type": "stream",
     "text": [
      "Fitting 5 folds for each of 20 candidates, totalling 100 fits\n",
      "Fitting 5 folds for each of 20 candidates, totalling 100 fits\n"
     ]
    },
    {
     "ename": "AttributeError",
     "evalue": "'Lasso' object has no attribute 'predict_proba'",
     "output_type": "error",
     "traceback": [
      "\u001b[0;31m---------------------------------------------------------------------------\u001b[0m",
      "\u001b[0;31mAttributeError\u001b[0m                            Traceback (most recent call last)",
      "\u001b[0;32m<ipython-input-9-dcf8cd0c46f8>\u001b[0m in \u001b[0;36m<module>\u001b[0;34m\u001b[0m\n\u001b[1;32m      1\u001b[0m \u001b[0mbest_clf\u001b[0m \u001b[0;34m=\u001b[0m \u001b[0mlasso\u001b[0m\u001b[0;34m(\u001b[0m\u001b[0mco_train_gpop_FAMD\u001b[0m\u001b[0;34m,\u001b[0m \u001b[0mout_train_cardio_gpop\u001b[0m\u001b[0;34m)\u001b[0m\u001b[0;34m\u001b[0m\u001b[0;34m\u001b[0m\u001b[0m\n\u001b[1;32m      2\u001b[0m \u001b[0;34m\u001b[0m\u001b[0m\n\u001b[0;32m----> 3\u001b[0;31m \u001b[0mcross_val\u001b[0m\u001b[0;34m(\u001b[0m\u001b[0mco_train_gpop_FAMD\u001b[0m\u001b[0;34m,\u001b[0m \u001b[0mout_train_cardio_gpop\u001b[0m\u001b[0;34m)\u001b[0m\u001b[0;34m\u001b[0m\u001b[0;34m\u001b[0m\u001b[0m\n\u001b[0m\u001b[1;32m      4\u001b[0m \u001b[0;34m\u001b[0m\u001b[0m\n\u001b[1;32m      5\u001b[0m \u001b[0mprint\u001b[0m\u001b[0;34m(\u001b[0m\u001b[0;34m)\u001b[0m\u001b[0;34m\u001b[0m\u001b[0;34m\u001b[0m\u001b[0m\n",
      "\u001b[0;32m<ipython-input-7-0f133dbbddbf>\u001b[0m in \u001b[0;36mcross_val\u001b[0;34m(X, y)\u001b[0m\n\u001b[1;32m     16\u001b[0m         \u001b[0mX_train\u001b[0m\u001b[0;34m,\u001b[0m \u001b[0mX_test\u001b[0m\u001b[0;34m,\u001b[0m \u001b[0my_train\u001b[0m\u001b[0;34m,\u001b[0m \u001b[0my_test\u001b[0m \u001b[0;34m=\u001b[0m \u001b[0mX\u001b[0m\u001b[0;34m.\u001b[0m\u001b[0miloc\u001b[0m\u001b[0;34m[\u001b[0m\u001b[0mtrain_index\u001b[0m\u001b[0;34m]\u001b[0m\u001b[0;34m,\u001b[0m \u001b[0mX\u001b[0m\u001b[0;34m.\u001b[0m\u001b[0miloc\u001b[0m\u001b[0;34m[\u001b[0m\u001b[0mtest_index\u001b[0m\u001b[0;34m]\u001b[0m\u001b[0;34m,\u001b[0m \u001b[0my\u001b[0m\u001b[0;34m.\u001b[0m\u001b[0miloc\u001b[0m\u001b[0;34m[\u001b[0m\u001b[0mtrain_index\u001b[0m\u001b[0;34m]\u001b[0m\u001b[0;34m,\u001b[0m \u001b[0my\u001b[0m\u001b[0;34m.\u001b[0m\u001b[0miloc\u001b[0m\u001b[0;34m[\u001b[0m\u001b[0mtest_index\u001b[0m\u001b[0;34m]\u001b[0m\u001b[0;34m\u001b[0m\u001b[0;34m\u001b[0m\u001b[0m\n\u001b[1;32m     17\u001b[0m         \u001b[0mmodel\u001b[0m \u001b[0;34m=\u001b[0m \u001b[0mlasso\u001b[0m\u001b[0;34m(\u001b[0m\u001b[0mX_train\u001b[0m\u001b[0;34m,\u001b[0m \u001b[0my_train\u001b[0m\u001b[0;34m)\u001b[0m\u001b[0;34m\u001b[0m\u001b[0;34m\u001b[0m\u001b[0m\n\u001b[0;32m---> 18\u001b[0;31m         \u001b[0mprob\u001b[0m \u001b[0;34m=\u001b[0m \u001b[0mmodel\u001b[0m\u001b[0;34m.\u001b[0m\u001b[0mpredict_proba\u001b[0m\u001b[0;34m(\u001b[0m\u001b[0mX_test\u001b[0m\u001b[0;34m)\u001b[0m \u001b[0;31m# prob is a vector of probabilities\u001b[0m\u001b[0;34m\u001b[0m\u001b[0;34m\u001b[0m\u001b[0m\n\u001b[0m\u001b[1;32m     19\u001b[0m         \u001b[0mpred\u001b[0m \u001b[0;34m=\u001b[0m \u001b[0mnp\u001b[0m\u001b[0;34m.\u001b[0m\u001b[0mround\u001b[0m\u001b[0;34m(\u001b[0m\u001b[0mmodel\u001b[0m\u001b[0;34m.\u001b[0m\u001b[0mpredict_proba\u001b[0m\u001b[0;34m(\u001b[0m\u001b[0mX_test\u001b[0m\u001b[0;34m)\u001b[0m\u001b[0;34m)\u001b[0m \u001b[0;31m# pred is the rounded predictions\u001b[0m\u001b[0;34m\u001b[0m\u001b[0;34m\u001b[0m\u001b[0m\n\u001b[1;32m     20\u001b[0m         \u001b[0mlog_loss\u001b[0m\u001b[0;34m.\u001b[0m\u001b[0mappend\u001b[0m\u001b[0;34m(\u001b[0m\u001b[0msklearn\u001b[0m\u001b[0;34m.\u001b[0m\u001b[0mmetrics\u001b[0m\u001b[0;34m.\u001b[0m\u001b[0mlog_loss\u001b[0m\u001b[0;34m(\u001b[0m\u001b[0my_test\u001b[0m\u001b[0;34m,\u001b[0m \u001b[0mprob\u001b[0m\u001b[0;34m)\u001b[0m\u001b[0;34m)\u001b[0m\u001b[0;34m\u001b[0m\u001b[0;34m\u001b[0m\u001b[0m\n",
      "\u001b[0;32m~/anaconda3/lib/python3.8/site-packages/sklearn/utils/metaestimators.py\u001b[0m in \u001b[0;36m__get__\u001b[0;34m(self, obj, type)\u001b[0m\n\u001b[1;32m    112\u001b[0m                     \u001b[0;32mcontinue\u001b[0m\u001b[0;34m\u001b[0m\u001b[0;34m\u001b[0m\u001b[0m\n\u001b[1;32m    113\u001b[0m                 \u001b[0;32melse\u001b[0m\u001b[0;34m:\u001b[0m\u001b[0;34m\u001b[0m\u001b[0;34m\u001b[0m\u001b[0m\n\u001b[0;32m--> 114\u001b[0;31m                     \u001b[0mgetattr\u001b[0m\u001b[0;34m(\u001b[0m\u001b[0mdelegate\u001b[0m\u001b[0;34m,\u001b[0m \u001b[0mself\u001b[0m\u001b[0;34m.\u001b[0m\u001b[0mattribute_name\u001b[0m\u001b[0;34m)\u001b[0m\u001b[0;34m\u001b[0m\u001b[0;34m\u001b[0m\u001b[0m\n\u001b[0m\u001b[1;32m    115\u001b[0m                     \u001b[0;32mbreak\u001b[0m\u001b[0;34m\u001b[0m\u001b[0;34m\u001b[0m\u001b[0m\n\u001b[1;32m    116\u001b[0m             \u001b[0;32melse\u001b[0m\u001b[0;34m:\u001b[0m\u001b[0;34m\u001b[0m\u001b[0;34m\u001b[0m\u001b[0m\n",
      "\u001b[0;31mAttributeError\u001b[0m: 'Lasso' object has no attribute 'predict_proba'"
     ]
    }
   ],
   "source": [
    "best_clf = lasso(co_train_gpop_FAMD, out_train_cardio_gpop)\n",
    "\n",
    "cross_val(co_train_gpop_FAMD, out_train_cardio_gpop)\n",
    "\n",
    "print()\n",
    "\n",
    "scores(co_validation_gpop_FAMD, out_validation_cardio_gpop, best_clf)"
   ]
  },
  {
   "cell_type": "markdown",
   "id": "c861f59f",
   "metadata": {},
   "source": [
    "# Low Continuity"
   ]
  },
  {
   "cell_type": "code",
   "execution_count": null,
   "id": "60b585f8",
   "metadata": {},
   "outputs": [],
   "source": [
    "best_clf = lasso(co_train_low_FAMD, out_train_cardio_low)\n",
    "\n",
    "cross_val(co_train_low_FAMD, out_train_cardio_low)\n",
    "\n",
    "print()\n",
    "\n",
    "scores(co_validation_low_FAMD, out_validation_cardio_low, best_clf)\n"
   ]
  },
  {
   "cell_type": "markdown",
   "id": "781075ce",
   "metadata": {},
   "source": [
    "# High Continuity"
   ]
  },
  {
   "cell_type": "code",
   "execution_count": 49,
   "id": "eb69277e",
   "metadata": {},
   "outputs": [
    {
     "name": "stdout",
     "output_type": "stream",
     "text": [
      "Fitting 5 folds for each of 20 candidates, totalling 100 fits\n",
      "Fitting 5 folds for each of 20 candidates, totalling 100 fits\n",
      "Fitting 5 folds for each of 20 candidates, totalling 100 fits\n",
      "Fitting 5 folds for each of 20 candidates, totalling 100 fits\n",
      "Fitting 5 folds for each of 20 candidates, totalling 100 fits\n",
      "Fitting 5 folds for each of 20 candidates, totalling 100 fits\n",
      "0.9068239926201521\n",
      "0.4780818169123905\n",
      "0.4913475564195687\n",
      "0.7705128670156242\n",
      "0.30028012417578004\n",
      "\n",
      "0.9046773856755064\n",
      "0.4867111961957276\n",
      "0.4964097620520286\n",
      "0.6676217548373767\n",
      "0.4503419368652193\n"
     ]
    }
   ],
   "source": [
    "best_clf = lasso(co_train_high_FAMD, out_train_cardio_high)\n",
    "\n",
    "cross_val(co_train_high_FAMD, out_train_cardio_high)\n",
    "\n",
    "print()\n",
    "\n",
    "scores(co_validation_high_FAMD, out_validation_cardio_high, best_clf)"
   ]
  },
  {
   "cell_type": "code",
   "execution_count": null,
   "id": "ecb1f52f",
   "metadata": {},
   "outputs": [],
   "source": []
  }
 ],
 "metadata": {
  "kernelspec": {
   "display_name": "Python 3",
   "language": "python",
   "name": "python3"
  },
  "language_info": {
   "codemirror_mode": {
    "name": "ipython",
    "version": 3
   },
   "file_extension": ".py",
   "mimetype": "text/x-python",
   "name": "python",
   "nbconvert_exporter": "python",
   "pygments_lexer": "ipython3",
   "version": "3.8.8"
  }
 },
 "nbformat": 4,
 "nbformat_minor": 5
}
