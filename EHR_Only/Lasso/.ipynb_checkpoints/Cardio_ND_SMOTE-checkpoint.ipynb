{
 "cells": [
  {
   "cell_type": "code",
   "execution_count": 25,
   "id": "4c066329",
   "metadata": {},
   "outputs": [],
   "source": [
    "import pandas as pd\n",
    "medicare = pd.read_csv(\"/netapp2/home/se197/data/CMS/Data/medicare.csv\")"
   ]
  },
  {
   "cell_type": "code",
   "execution_count": 26,
   "id": "f04b1aca",
   "metadata": {},
   "outputs": [],
   "source": [
    "train_set = medicare[medicare.Hospital != 'BWH'] # MGH\n",
    "validation_set = medicare[medicare.Hospital == 'BWH'] # BWH and Neither \n",
    "import numpy as np\n",
    "\n",
    "fifty_perc_EHR_cont = np.percentile(medicare['Cal_MPEC_R0'],50)\n",
    "train_set_high = train_set[train_set.Cal_MPEC_R0 >= fifty_perc_EHR_cont]\n",
    "train_set_low= train_set[train_set.Cal_MPEC_R0 < fifty_perc_EHR_cont]\n",
    "\n",
    "validation_set_high = validation_set[validation_set.Cal_MPEC_R0 >= fifty_perc_EHR_cont]\n",
    "validation_set_low = validation_set[validation_set.Cal_MPEC_R0 < fifty_perc_EHR_cont]\n"
   ]
  },
  {
   "cell_type": "code",
   "execution_count": 27,
   "id": "efb54861",
   "metadata": {},
   "outputs": [],
   "source": [
    "predictor_variable = [\n",
    "        'Co_CAD_R0', 'Co_Embolism_R0', 'Co_DVT_R0', 'Co_PE_R0', 'Co_AFib_R0',\n",
    "        'Co_Hypertension_R0', 'Co_Hyperlipidemia_R0', 'Co_Atherosclerosis_R0',\n",
    "        'Co_HF_R0', 'Co_HemoStroke_R0', 'Co_IscheStroke_R0', 'Co_OthStroke_R0',\n",
    "        'Co_TIA_R0', 'Co_COPD_R0', 'Co_Asthma_R0', 'Co_Pneumonia_R0', 'Co_Alcoholabuse_R0',\n",
    "        'Co_Drugabuse_R0', 'Co_Epilepsy_R0', 'Co_Cancer_R0', 'Co_MorbidObesity_R0',\n",
    "        'Co_Dementia_R0', 'Co_Depression_R0', 'Co_Bipolar_R0', 'Co_Psychosis_R0',\n",
    "        'Co_Personalitydisorder_R0', 'Co_Adjustmentdisorder_R0', 'Co_Anxiety_R0',\n",
    "        'Co_Generalizedanxiety_R0', 'Co_OldMI_R0', 'Co_AcuteMI_R0', 'Co_PUD_R0',\n",
    "        'Co_UpperGIbleed_R0', 'Co_LowerGIbleed_R0', 'Co_Urogenitalbleed_R0',\n",
    "        'Co_Othbleed_R0', 'Co_PVD_R0', 'Co_LiverDisease_R0', 'Co_MRI_R0',\n",
    "        'Co_ESRD_R0', 'Co_Obesity_R0', 'Co_Sepsis_R0', 'Co_Osteoarthritis_R0',\n",
    "        'Co_RA_R0', 'Co_NeuroPain_R0', 'Co_NeckPain_R0', 'Co_OthArthritis_R0',\n",
    "        'Co_Osteoporosis_R0', 'Co_Fibromyalgia_R0', 'Co_Migraine_R0', 'Co_Headache_R0',\n",
    "        'Co_OthPain_R0', 'Co_GeneralizedPain_R0', 'Co_PainDisorder_R0',\n",
    "        'Co_Falls_R0', 'Co_CoagulationDisorder_R0', 'Co_WhiteBloodCell_R0', 'Co_Parkinson_R0',\n",
    "        'Co_Anemia_R0', 'Co_UrinaryIncontinence_R0', 'Co_DecubitusUlcer_R0',\n",
    "        'Co_Oxygen_R0', 'Co_Mammography_R0', 'Co_PapTest_R0', 'Co_PSATest_R0',\n",
    "        'Co_Colonoscopy_R0', 'Co_FecalOccultTest_R0', 'Co_FluShot_R0', 'Co_PneumococcalVaccine_R0', 'Co_RenalDysfunction_R0', 'Co_Valvular_R0', 'Co_Hosp_Prior30Days_R0',\n",
    "        'Co_RX_Antibiotic_R0', 'Co_RX_Corticosteroid_R0', 'Co_RX_Aspirin_R0', 'Co_RX_Dipyridamole_R0',\n",
    "        'Co_RX_Clopidogrel_R0', 'Co_RX_Prasugrel_R0', 'Co_RX_Cilostazol_R0', 'Co_RX_Ticlopidine_R0',\n",
    "        'Co_RX_Ticagrelor_R0', 'Co_RX_OthAntiplatelet_R0', 'Co_RX_NSAIDs_R0',\n",
    "        'Co_RX_Opioid_R0', 'Co_RX_Antidepressant_R0', 'Co_RX_AAntipsychotic_R0', 'Co_RX_TAntipsychotic_R0',\n",
    "        'Co_RX_Anticonvulsant_R0', 'Co_RX_PPI_R0', 'Co_RX_H2Receptor_R0', 'Co_RX_OthGastro_R0',\n",
    "        'Co_RX_ACE_R0', 'Co_RX_ARB_R0', 'Co_RX_BBlocker_R0', 'Co_RX_CCB_R0', 'Co_RX_Thiazide_R0',\n",
    "        'Co_RX_Loop_R0', 'Co_RX_Potassium_R0', 'Co_RX_Nitrates_R0', 'Co_RX_Aliskiren_R0',\n",
    "        'Co_RX_OthAntihypertensive_R0', 'Co_RX_Antiarrhythmic_R0', 'Co_RX_OthAnticoagulant_R0',\n",
    "        'Co_RX_Insulin_R0', 'Co_RX_Noninsulin_R0', 'Co_RX_Digoxin_R0', 'Co_RX_Statin_R0',\n",
    "        'Co_RX_Lipid_R0', 'Co_RX_Lithium_R0', 'Co_RX_Benzo_R0', 'Co_RX_ZDrugs_R0',\n",
    "        'Co_RX_OthAnxiolytic_R0', 'Co_RX_Barbiturate_R0', 'Co_RX_Dementia_R0', 'Co_RX_Hormone_R0',\n",
    "        'Co_RX_Osteoporosis_R0', 'Co_N_Drugs_R0', 'Co_N_Hosp_R0', 'Co_Total_HospLOS_R0',\n",
    "        'Co_N_MDVisit_R0', 'Co_RX_AnyAspirin_R0', 'Co_RX_AspirinMono_R0', 'Co_RX_ClopidogrelMono_R0',\n",
    "        'Co_RX_AspirinClopidogrel_R0', 'Co_RX_DM_R0', 'Co_RX_Antipsychotic_R0'\n",
    "]\n",
    "\n",
    "co_train_gpop = train_set[predictor_variable]\n",
    "co_train_high = train_set_high[predictor_variable]\n",
    "co_train_low = train_set_low[predictor_variable]\n",
    "\n",
    "co_validation_gpop = validation_set[predictor_variable]\n",
    "co_validation_high = validation_set_high[predictor_variable]\n",
    "co_validation_low = validation_set_low[predictor_variable]"
   ]
  },
  {
   "cell_type": "code",
   "execution_count": 28,
   "id": "8befc99e",
   "metadata": {},
   "outputs": [],
   "source": [
    "out_train_cardio_gpop = train_set['Out_comp_cardiovascular_RC1']\n",
    "out_train_cardio_high = train_set_high['Out_comp_cardiovascular_RC1']\n",
    "out_train_cardio_low = train_set_low['Out_comp_cardiovascular_RC1']\n",
    "\n",
    "out_validation_cardio_gpop = validation_set['Out_comp_cardiovascular_RC1']\n",
    "out_validation_cardio_high = validation_set_high['Out_comp_cardiovascular_RC1']\n",
    "out_validation_cardio_low = validation_set_low['Out_comp_cardiovascular_RC1']"
   ]
  },
  {
   "cell_type": "code",
   "execution_count": 29,
   "id": "d4de274e",
   "metadata": {},
   "outputs": [],
   "source": [
    "def lasso(X,y):\n",
    "    from sklearn.linear_model import Lasso\n",
    "    from sklearn.model_selection import GridSearchCV\n",
    "    model = Lasso()\n",
    "    param_grid = [\n",
    "        {'alpha' : np.logspace(-4, 4, 20)}\n",
    "        ]\n",
    "    clf = GridSearchCV(model, param_grid, cv = 5, verbose = True, n_jobs = 1)\n",
    "    best_clf = clf.fit(X, y)\n",
    "    return best_clf"
   ]
  },
  {
   "cell_type": "code",
   "execution_count": 30,
   "id": "3f0d3f9c",
   "metadata": {},
   "outputs": [],
   "source": [
    "def scores(X_train,y_train, best_clf):\n",
    "    from sklearn.metrics import accuracy_score\n",
    "    from sklearn.metrics import f1_score\n",
    "    from sklearn.metrics import fbeta_score\n",
    "    from sklearn.metrics import roc_auc_score \n",
    "    from sklearn.metrics import log_loss\n",
    "    import numpy as np\n",
    "    pred = np.round(best_clf.predict(X_train))\n",
    "    prob = best_clf.predict(X_train)\n",
    "    print(accuracy_score(actåual,pred))\n",
    "    print(f1_score(actual,pred, average = 'macro'))\n",
    "    print(fbeta_score(actual,pred, average = 'macro', beta = 2))\n",
    "    print(roc_auc_score(actual, prob))\n",
    "    print(log_loss(actual,prob))\n",
    "    \n",
    "    \n"
   ]
  },
  {
   "cell_type": "code",
   "execution_count": 31,
   "id": "996d0508",
   "metadata": {},
   "outputs": [],
   "source": [
    "def cross_val(X,y):\n",
    "    from sklearn.model_selection import KFold\n",
    "    from sklearn.model_selection import cross_validate\n",
    "    from sklearn.metrics import log_loss\n",
    "    from sklearn.metrics import roc_auc_score\n",
    "    from sklearn.metrics import fbeta_score\n",
    "    import sklearn\n",
    "    import numpy as np\n",
    "    cv = KFold(n_splits=5, random_state=1, shuffle=True)\n",
    "    log_loss = [] \n",
    "    auc = [] \n",
    "    accuracy = []\n",
    "    f1 = []\n",
    "    f2 = [] \n",
    "    for train_index, test_index in cv.split(X):\n",
    "        X_train, X_test, y_train, y_test = X.iloc[train_index], X.iloc[test_index], y.iloc[train_index], y.iloc[test_index]\n",
    "        model = lasso(X_train, y_train)\n",
    "        prob = model.predict(X_test) # prob is a vector of probabilities \n",
    "        pred = np.round(model.predict(X_test)) # pred is the rounded predictions \n",
    "        log_loss.append(sklearn.metrics.log_loss(y_test, prob))\n",
    "        auc.append(sklearn.metrics.roc_auc_score(y_test, prob))\n",
    "        accuracy.append(sklearn.metrics.accuracy_score(y_test, pred))\n",
    "        f1.append(sklearn.metrics.f1_score(y_test, pred, average = 'macro'))\n",
    "        f2.append(fbeta_score(y_test,pred, average = 'macro', beta = 2))\n",
    "    print(np.mean(accuracy))\n",
    "    print(np.mean(f1))\n",
    "    print(np.mean(f2))\n",
    "    print(np.mean(auc))\n",
    "    print(np.mean(log_loss))"
   ]
  },
  {
   "cell_type": "markdown",
   "id": "4a08e5c9",
   "metadata": {},
   "source": [
    "# General Population"
   ]
  },
  {
   "cell_type": "code",
   "execution_count": 32,
   "id": "4a6c358b",
   "metadata": {},
   "outputs": [
    {
     "name": "stdout",
     "output_type": "stream",
     "text": [
      "Fitting 5 folds for each of 20 candidates, totalling 100 fits\n",
      "Fitting 5 folds for each of 20 candidates, totalling 100 fits\n",
      "Fitting 5 folds for each of 20 candidates, totalling 100 fits\n",
      "Fitting 5 folds for each of 20 candidates, totalling 100 fits\n",
      "Fitting 5 folds for each of 20 candidates, totalling 100 fits\n",
      "Fitting 5 folds for each of 20 candidates, totalling 100 fits\n",
      "0.7030453257790368\n",
      "0.65566670867088\n",
      "0.6556940130724107\n",
      "0.782248649718337\n",
      "0.6656659738528585\n",
      "\n",
      "0.7403556686632942\n",
      "0.40769643233131087\n",
      "0.4333039521946837\n",
      "0.778674754126008\n",
      "0.7295619115960303\n",
      "\n",
      "0.6880733944954128\n",
      "0.3877772435074484\n",
      "0.4126983136152109\n",
      "0.75480153047724\n",
      "0.85201343614612\n"
     ]
    }
   ],
   "source": [
    "from imblearn.over_sampling import SMOTE\n",
    "sm = SMOTE(random_state = 42)\n",
    "co_train_gpop_sm,out_train_cardio_gpop_sm = sm.fit_resample(co_train_gpop,out_train_cardio_gpop)\n",
    "\n",
    "best_clf = lasso(co_train_gpop_sm, out_train_cardio_gpop_sm)\n",
    "\n",
    "cross_val(co_train_gpop_sm, out_train_cardio_gpop_sm)\n",
    "\n",
    "print()\n",
    "\n",
    "scores(co_train_gpop, out_train_cardio_gpop, best_clf)\n",
    "\n",
    "print()\n",
    "\n",
    "scores(co_validation_gpop, out_validation_cardio_gpop, best_clf)\n",
    "\n",
    "comb = [] "
   ]
  },
  {
   "cell_type": "markdown",
   "id": "f672581f",
   "metadata": {},
   "source": [
    "# High Continuity"
   ]
  },
  {
   "cell_type": "code",
   "execution_count": 33,
   "id": "bf093248",
   "metadata": {},
   "outputs": [
    {
     "name": "stdout",
     "output_type": "stream",
     "text": [
      "Fitting 5 folds for each of 20 candidates, totalling 100 fits\n",
      "Fitting 5 folds for each of 20 candidates, totalling 100 fits\n",
      "Fitting 5 folds for each of 20 candidates, totalling 100 fits\n",
      "Fitting 5 folds for each of 20 candidates, totalling 100 fits\n",
      "Fitting 5 folds for each of 20 candidates, totalling 100 fits\n",
      "Fitting 5 folds for each of 20 candidates, totalling 100 fits\n",
      "0.7291708641010795\n",
      "0.7290987263368148\n",
      "0.7291321475665645\n",
      "0.8023574353507122\n",
      "0.675831422696027\n",
      "\n",
      "0.7427821522309711\n",
      "0.39244039589148133\n",
      "0.42390698339898464\n",
      "0.7976459646009454\n",
      "0.7518665580465345\n",
      "\n",
      "0.7080810190018793\n",
      "0.3739099306323072\n",
      "0.4026638827834384\n",
      "0.7584899610005663\n",
      "0.8218496595931453\n"
     ]
    }
   ],
   "source": [
    "from imblearn.over_sampling import SMOTE\n",
    "sm = SMOTE(random_state = 42)\n",
    "co_train_high_sm,out_train_cardio_high_sm = sm.fit_resample(co_train_high,out_train_cardio_high)\n",
    "\n",
    "best_clf = lasso(co_train_high_sm, out_train_cardio_high_sm)\n",
    "\n",
    "cross_val(co_train_high_sm, out_train_cardio_high_sm)\n",
    "\n",
    "print()\n",
    "\n",
    "scores(co_train_high, out_train_cardio_high, best_clf)\n",
    "\n",
    "print()\n",
    "\n",
    "scores(co_validation_high, out_validation_cardio_high, best_clf)\n",
    "\n",
    "#comb = [] \n",
    "#for i in range(len(predictor_variable)):\n",
    "    #comb.append(predictor_variable[i] + str(best_clf.best_estimator_.coef_[:,i:i+1]))\n",
    "#comb"
   ]
  },
  {
   "cell_type": "markdown",
   "id": "5c345d85",
   "metadata": {},
   "source": [
    "# Low Continuity"
   ]
  },
  {
   "cell_type": "code",
   "execution_count": 34,
   "id": "5b7537a9",
   "metadata": {},
   "outputs": [
    {
     "name": "stdout",
     "output_type": "stream",
     "text": [
      "Fitting 5 folds for each of 20 candidates, totalling 100 fits\n",
      "Fitting 5 folds for each of 20 candidates, totalling 100 fits\n",
      "Fitting 5 folds for each of 20 candidates, totalling 100 fits\n",
      "Fitting 5 folds for each of 20 candidates, totalling 100 fits\n",
      "Fitting 5 folds for each of 20 candidates, totalling 100 fits\n",
      "Fitting 5 folds for each of 20 candidates, totalling 100 fits\n",
      "0.7007591228178999\n",
      "0.5131683072330175\n",
      "0.5132430656085064\n",
      "0.772862505937272\n",
      "0.6578018815621692\n",
      "\n",
      "0.7468460891505467\n",
      "0.4258990521519615\n",
      "0.4448442198267464\n",
      "0.7691406417170529\n",
      "0.6717956490609548\n",
      "\n",
      "0.6825730101164345\n",
      "0.5993273633237381\n",
      "0.6290110184818614\n",
      "0.7321324172621788\n",
      "0.8069182689896944\n"
     ]
    }
   ],
   "source": [
    "from imblearn.over_sampling import SMOTE\n",
    "sm = SMOTE(random_state = 42)\n",
    "co_train_low_sm,out_train_cardio_low_sm = sm.fit_resample(co_train_low,out_train_cardio_low)\n",
    "\n",
    "best_clf = lasso(co_train_low_sm, out_train_cardio_low_sm)\n",
    "\n",
    "cross_val(co_train_low_sm, out_train_cardio_low_sm)\n",
    "\n",
    "print()\n",
    "\n",
    "scores(co_train_low, out_train_cardio_low, best_clf)\n",
    "\n",
    "print()\n",
    "\n",
    "scores(co_validation_low, out_validation_cardio_low, best_clf)\n",
    "\n",
    "#comb = [] \n",
    "#for i in range(len(predictor_variable)):\n",
    "    #comb.append(predictor_variable[i] + str(best_clf.best_estimator_.coef_[:,i:i+1]))\n",
    "#comb"
   ]
  },
  {
   "cell_type": "code",
   "execution_count": null,
   "id": "ba81acb9",
   "metadata": {},
   "outputs": [],
   "source": []
  }
 ],
 "metadata": {
  "kernelspec": {
   "display_name": "Python 3",
   "language": "python",
   "name": "python3"
  },
  "language_info": {
   "codemirror_mode": {
    "name": "ipython",
    "version": 3
   },
   "file_extension": ".py",
   "mimetype": "text/x-python",
   "name": "python",
   "nbconvert_exporter": "python",
   "pygments_lexer": "ipython3",
   "version": "3.8.8"
  }
 },
 "nbformat": 4,
 "nbformat_minor": 5
}
