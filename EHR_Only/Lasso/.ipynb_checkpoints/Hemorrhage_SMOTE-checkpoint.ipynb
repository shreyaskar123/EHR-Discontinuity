{
 "cells": [
  {
   "cell_type": "code",
   "execution_count": null,
   "id": "7e38a013",
   "metadata": {},
   "outputs": [],
   "source": [
    "import pandas as pd\n",
    "medicare = pd.read_csv(\"/netapp2/home/se197/RPDR/Josh Lin/3_EHR_V2/CMS/Data/final_medicare.csv\")"
   ]
  },
  {
   "cell_type": "code",
   "execution_count": null,
   "id": "fa3c52b7",
   "metadata": {},
   "outputs": [],
   "source": [
    "medicare = medicare[(medicare.Co_CAD_R0 == 1) | (medicare.Co_Diabetes_R0 == 1) | (medicare.Co_CAD_R0 == 1) | \n",
    "                    (medicare.Co_Embolism_R0 == 1) | (medicare.Co_DVT_R0 == 1) | (medicare.Co_PE_R0 == 1) | \n",
    "                    (medicare.Co_AFib_R0 == 1) | (medicare.Co_HF_R0 == 1) | (medicare.Co_HemoStroke_R0 == 1) | \n",
    "                    (medicare.Co_IscheStroke_R0 == 1) | (medicare.Co_OthStroke_R0 == 1) |(medicare.Co_TIA_R0 == 1)\n",
    "                    | (medicare.Co_OldMI_R0 == 1) | (medicare.Co_AcuteMI_R0 == 1) | (medicare.Co_PVD_R0 == 1)]\n",
    "medicare.shape"
   ]
  },
  {
   "cell_type": "code",
   "execution_count": null,
   "id": "1a405579",
   "metadata": {},
   "outputs": [],
   "source": [
    "train_set = medicare[medicare.Hospital != 'BWH'] # MGH; n = 204014\n",
    "validation_set = medicare[medicare.Hospital == 'BWH'] # BWH and Neither; n = 115726\n",
    "import numpy as np\n",
    "\n",
    "fifty_perc_EHR_cont = np.percentile(medicare['Cal_MPEC_R0'],50)\n",
    "train_set_high = train_set[train_set.Cal_MPEC_R0 >= fifty_perc_EHR_cont]\n",
    "train_set_low= train_set[train_set.Cal_MPEC_R0 < fifty_perc_EHR_cont]\n",
    "\n",
    "validation_set_high = validation_set[validation_set.Cal_MPEC_R0 >= fifty_perc_EHR_cont]\n",
    "validation_set_low = validation_set[validation_set.Cal_MPEC_R0 < fifty_perc_EHR_cont]\n"
   ]
  },
  {
   "cell_type": "code",
   "execution_count": null,
   "id": "a454b0b7",
   "metadata": {},
   "outputs": [],
   "source": [
    "predictor_variable = [\n",
    "        'Co_CAD_R0', 'Co_Embolism_R0', 'Co_DVT_R0', 'Co_PE_R0', 'Co_AFib_R0',\n",
    "        'Co_Hypertension_R0', 'Co_Hyperlipidemia_R0', 'Co_Atherosclerosis_R0',\n",
    "        'Co_HF_R0', 'Co_HemoStroke_R0', 'Co_IscheStroke_R0', 'Co_OthStroke_R0',\n",
    "        'Co_TIA_R0', 'Co_COPD_R0', 'Co_Asthma_R0', 'Co_Pneumonia_R0', 'Co_Alcoholabuse_R0',\n",
    "        'Co_Drugabuse_R0', 'Co_Epilepsy_R0', 'Co_Cancer_R0', 'Co_MorbidObesity_R0',\n",
    "        'Co_Dementia_R0', 'Co_Depression_R0', 'Co_Bipolar_R0', 'Co_Psychosis_R0',\n",
    "        'Co_Personalitydisorder_R0', 'Co_Adjustmentdisorder_R0', 'Co_Anxiety_R0',\n",
    "        'Co_Generalizedanxiety_R0', 'Co_OldMI_R0', 'Co_AcuteMI_R0', 'Co_PUD_R0',\n",
    "        'Co_UpperGIbleed_R0', 'Co_LowerGIbleed_R0', 'Co_Urogenitalbleed_R0',\n",
    "        'Co_Othbleed_R0', 'Co_PVD_R0', 'Co_LiverDisease_R0', 'Co_MRI_R0',\n",
    "        'Co_ESRD_R0', 'Co_Obesity_R0', 'Co_Sepsis_R0', 'Co_Osteoarthritis_R0',\n",
    "        'Co_RA_R0', 'Co_NeuroPain_R0', 'Co_NeckPain_R0', 'Co_OthArthritis_R0',\n",
    "        'Co_Osteoporosis_R0', 'Co_Fibromyalgia_R0', 'Co_Migraine_R0', 'Co_Headache_R0',\n",
    "        'Co_OthPain_R0', 'Co_GeneralizedPain_R0', 'Co_PainDisorder_R0',\n",
    "        'Co_Falls_R0', 'Co_CoagulationDisorder_R0', 'Co_WhiteBloodCell_R0', 'Co_Parkinson_R0',\n",
    "        'Co_Anemia_R0', 'Co_UrinaryIncontinence_R0', 'Co_DecubitusUlcer_R0',\n",
    "        'Co_Oxygen_R0', 'Co_Mammography_R0', 'Co_PapTest_R0', 'Co_PSATest_R0',\n",
    "        'Co_Colonoscopy_R0', 'Co_FecalOccultTest_R0', 'Co_FluShot_R0', 'Co_PneumococcalVaccine_R0', 'Co_RenalDysfunction_R0', 'Co_Valvular_R0', 'Co_Hosp_Prior30Days_R0',\n",
    "        'Co_RX_Antibiotic_R0', 'Co_RX_Corticosteroid_R0', 'Co_RX_Aspirin_R0', 'Co_RX_Dipyridamole_R0',\n",
    "        'Co_RX_Clopidogrel_R0', 'Co_RX_Prasugrel_R0', 'Co_RX_Cilostazol_R0', 'Co_RX_Ticlopidine_R0',\n",
    "        'Co_RX_Ticagrelor_R0', 'Co_RX_OthAntiplatelet_R0', 'Co_RX_NSAIDs_R0',\n",
    "        'Co_RX_Opioid_R0', 'Co_RX_Antidepressant_R0', 'Co_RX_AAntipsychotic_R0', 'Co_RX_TAntipsychotic_R0',\n",
    "        'Co_RX_Anticonvulsant_R0', 'Co_RX_PPI_R0', 'Co_RX_H2Receptor_R0', 'Co_RX_OthGastro_R0',\n",
    "        'Co_RX_ACE_R0', 'Co_RX_ARB_R0', 'Co_RX_BBlocker_R0', 'Co_RX_CCB_R0', 'Co_RX_Thiazide_R0',\n",
    "        'Co_RX_Loop_R0', 'Co_RX_Potassium_R0', 'Co_RX_Nitrates_R0', 'Co_RX_Aliskiren_R0',\n",
    "        'Co_RX_OthAntihypertensive_R0', 'Co_RX_Antiarrhythmic_R0', 'Co_RX_OthAnticoagulant_R0',\n",
    "        'Co_RX_Insulin_R0', 'Co_RX_Noninsulin_R0', 'Co_RX_Digoxin_R0', 'Co_RX_Statin_R0',\n",
    "        'Co_RX_Lipid_R0', 'Co_RX_Lithium_R0', 'Co_RX_Benzo_R0', 'Co_RX_ZDrugs_R0',\n",
    "        'Co_RX_OthAnxiolytic_R0', 'Co_RX_Dementia_R0', 'Co_RX_Hormone_R0',\n",
    "        'Co_RX_Osteoporosis_R0', 'Co_N_Drugs_R0', 'Co_N_Hosp_R0', 'Co_Total_HospLOS_R0',\n",
    "        'Co_N_MDVisit_R0', 'Co_RX_AnyAspirin_R0', 'Co_RX_AspirinMono_R0', 'Co_RX_ClopidogrelMono_R0',\n",
    "        'Co_RX_AspirinClopidogrel_R0', 'Co_RX_DM_R0', 'Co_RX_Antipsychotic_R0'\n",
    "]\n",
    "\n",
    "co_train_gpop = train_set[predictor_variable]\n",
    "co_train_high = train_set_high[predictor_variable]\n",
    "co_train_low = train_set_low[predictor_variable]\n",
    "\n",
    "co_validation_gpop = validation_set[predictor_variable]\n",
    "co_validation_high = validation_set_high[predictor_variable]\n",
    "co_validation_low = validation_set_low[predictor_variable]"
   ]
  },
  {
   "cell_type": "code",
   "execution_count": null,
   "id": "fb6460a4",
   "metadata": {},
   "outputs": [],
   "source": [
    "out_train_hemorrhage_gpop = train_set['Out_Hemorrhage_R1']\n",
    "out_train_hemorrhage_high = train_set_high['Out_Hemorrhage_R1']\n",
    "out_train_hemorrhage_low = train_set_low['Out_Hemorrhage_R1']\n",
    "\n",
    "out_validation_hemorrhage_gpop = validation_set['Out_Hemorrhage_R1']\n",
    "out_validation_hemorrhage_high = validation_set_high['Out_Hemorrhage_R1']\n",
    "out_validation_hemorrhage_low = validation_set_low['Out_Hemorrhage_R1']"
   ]
  },
  {
   "cell_type": "markdown",
   "id": "6ab3e4f6",
   "metadata": {},
   "source": [
    "# Template LR "
   ]
  },
  {
   "cell_type": "code",
   "execution_count": null,
   "id": "6a191f2a",
   "metadata": {},
   "outputs": [],
   "source": [
    "def lr(X_train, y_train):\n",
    "    from sklearn.linear_model import Lasso\n",
    "    from sklearn.decomposition import PCA\n",
    "    from sklearn.linear_model import LogisticRegression\n",
    "    from sklearn.model_selection import GridSearchCV\n",
    "    from imblearn.over_sampling import SMOTE\n",
    "    from sklearn.preprocessing import StandardScaler \n",
    "\n",
    "    model = LogisticRegression(penalty = 'l1', solver = 'liblinear')\n",
    "    param_grid = [\n",
    "        {'C' : np.logspace(-4, 4, 20)}\n",
    "        ]\n",
    "    clf = GridSearchCV(model, param_grid, cv = 5, verbose = True, n_jobs = -1)\n",
    "    best_clf = clf.fit(X_train, y_train)\n",
    "    return best_clf"
   ]
  },
  {
   "cell_type": "code",
   "execution_count": null,
   "id": "9fa96428",
   "metadata": {},
   "outputs": [],
   "source": [
    "def scores(X_train,y_train):\n",
    "    from sklearn.metrics import accuracy_score\n",
    "    from sklearn.metrics import f1_score\n",
    "    from sklearn.metrics import fbeta_score\n",
    "    from sklearn.metrics import roc_auc_score \n",
    "    from sklearn.metrics import log_loss\n",
    "\n",
    "    pred = best_clf.predict(X_train)\n",
    "    actual = y_train\n",
    "    print(accuracy_score(actual,pred))\n",
    "    print(f1_score(actual,pred))\n",
    "    print(fbeta_score(actual,pred, average = 'macro', beta = 2))\n",
    "    print(roc_auc_score(actual, best_clf.decision_function(X_train)))\n",
    "    print(log_loss(actual,pred))"
   ]
  },
  {
   "cell_type": "markdown",
   "id": "20fd649a",
   "metadata": {},
   "source": [
    "# General Population"
   ]
  },
  {
   "cell_type": "code",
   "execution_count": null,
   "id": "26ad386e",
   "metadata": {},
   "outputs": [],
   "source": [
    "from imblearn.over_sampling import SMOTE\n",
    "sm = SMOTE(random_state = 42)\n",
    "co_train_gpop_sm,out_train_hemorrhage_gpop_sm = sm.fit_resample(co_train_gpop,out_train_hemorrhage_gpop)\n",
    "\n",
    "best_clf = lr(co_train_gpop_sm, out_train_hemorrhage_gpop_sm)\n",
    "\n",
    "scores(co_train_gpop_sm, out_train_hemorrhage_gpop_sm)\n",
    "\n",
    "print()\n",
    "\n",
    "scores(co_train_gpop, out_train_hemorrhage_gpop)\n",
    "\n",
    "print()\n",
    "\n",
    "scores(co_validation_gpop, out_validation_hemorrhage_gpop)\n",
    "\n",
    "comb = [] \n",
    "for i in range(len(predictor_variable)):\n",
    "    comb.append(predictor_variable[i] + str(best_clf.best_estimator_.coef_[:,i:i+1]))\n",
    "comb"
   ]
  },
  {
   "cell_type": "markdown",
   "id": "ac681759",
   "metadata": {},
   "source": [
    "# High Continuity "
   ]
  },
  {
   "cell_type": "code",
   "execution_count": null,
   "id": "38d5a6d0",
   "metadata": {},
   "outputs": [],
   "source": [
    "from imblearn.over_sampling import SMOTE\n",
    "sm = SMOTE(random_state = 42)\n",
    "co_train_high_sm,out_train_hemorrhage_high_sm = sm.fit_resample(co_train_high,out_train_hemorrhage_high)\n",
    "\n",
    "best_clf = lr(co_train_high_sm, out_train_hemorrhage_high_sm)\n",
    "\n",
    "scores(co_train_high_sm, out_train_hemorrhage_high_sm)\n",
    "\n",
    "print()\n",
    "\n",
    "scores(co_train_high, out_train_hemorrhage_high)\n",
    "\n",
    "print()\n",
    "\n",
    "scores(co_validation_high, out_validation_hemorrhage_high)\n",
    "\n",
    "comb = [] \n",
    "for i in range(len(predictor_variable)):\n",
    "    comb.append(predictor_variable[i] + str(best_clf.best_estimator_.coef_[:,i:i+1]))\n",
    "comb"
   ]
  },
  {
   "cell_type": "markdown",
   "id": "c9741dd7",
   "metadata": {},
   "source": [
    "# Low Continuity"
   ]
  },
  {
   "cell_type": "code",
   "execution_count": null,
   "id": "c0e495ed",
   "metadata": {},
   "outputs": [],
   "source": [
    "from imblearn.over_sampling import SMOTE\n",
    "sm = SMOTE(random_state = 42)\n",
    "co_train_low_sm,out_train_hemorrhage_low_sm = sm.fit_resample(co_train_low,out_train_hemorrhage_low)\n",
    "\n",
    "best_clf = lr(co_train_low_sm, out_train_hemorrhage_low_sm)\n",
    "\n",
    "scores(co_train_low_sm, out_train_hemorrhage_low_sm)\n",
    "\n",
    "print()\n",
    "\n",
    "scores(co_train_low, out_train_hemorrhage_low)\n",
    "\n",
    "print()\n",
    "\n",
    "scores(co_validation_low, out_validation_hemorrhage_low)\n",
    "\n",
    "comb = [] \n",
    "for i in range(len(predictor_variable)):\n",
    "    comb.append(predictor_variable[i] + str(best_clf.best_estimator_.coef_[:,i:i+1]))\n",
    "comb"
   ]
  },
  {
   "cell_type": "code",
   "execution_count": null,
   "id": "147f2bc2",
   "metadata": {
    "scrolled": true
   },
   "outputs": [],
   "source": []
  },
  {
   "cell_type": "code",
   "execution_count": null,
   "id": "f5938543",
   "metadata": {},
   "outputs": [],
   "source": []
  }
 ],
 "metadata": {
  "kernelspec": {
   "display_name": "Python 3",
   "language": "python",
   "name": "python3"
  },
  "language_info": {
   "codemirror_mode": {
    "name": "ipython",
    "version": 3
   },
   "file_extension": ".py",
   "mimetype": "text/x-python",
   "name": "python",
   "nbconvert_exporter": "python",
   "pygments_lexer": "ipython3",
   "version": "3.8.8"
  }
 },
 "nbformat": 4,
 "nbformat_minor": 5
}
