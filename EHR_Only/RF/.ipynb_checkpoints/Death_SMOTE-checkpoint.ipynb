{
 "cells": [
  {
   "cell_type": "code",
   "execution_count": 7,
   "id": "65bee7ca",
   "metadata": {},
   "outputs": [],
   "source": [
    "import pandas as pd\n",
    "medicare = pd.read_csv(\"/netapp2/home/se197/data/CMS/Data/medicare.csv\")"
   ]
  },
  {
   "cell_type": "code",
   "execution_count": 8,
   "id": "09a03e08",
   "metadata": {},
   "outputs": [],
   "source": [
    "train_set = medicare[medicare.Hospital != 'BWH'] # MGH; n = 204014\n",
    "validation_set = medicare[medicare.Hospital == 'BWH'] # BWH and Neither; n = 115726\n",
    "import numpy as np\n",
    "\n",
    "fifty_perc_EHR_cont = np.percentile(medicare['Cal_MPEC_R0'],50)\n",
    "train_set_high = train_set[train_set.Cal_MPEC_R0 >= fifty_perc_EHR_cont]\n",
    "train_set_low= train_set[train_set.Cal_MPEC_R0 < fifty_perc_EHR_cont]\n",
    "\n",
    "validation_set_high = validation_set[validation_set.Cal_MPEC_R0 >= fifty_perc_EHR_cont]\n",
    "validation_set_low = validation_set[validation_set.Cal_MPEC_R0 < fifty_perc_EHR_cont]\n"
   ]
  },
  {
   "cell_type": "code",
   "execution_count": 9,
   "id": "d0d90372",
   "metadata": {},
   "outputs": [],
   "source": [
    "predictor_variable = [\n",
    "        'Co_CAD_R0', 'Co_Embolism_R0', 'Co_DVT_R0', 'Co_PE_R0', 'Co_AFib_R0',\n",
    "        'Co_Hypertension_R0', 'Co_Hyperlipidemia_R0', 'Co_Atherosclerosis_R0',\n",
    "        'Co_HF_R0', 'Co_HemoStroke_R0', 'Co_IscheStroke_R0', 'Co_OthStroke_R0',\n",
    "        'Co_TIA_R0', 'Co_COPD_R0', 'Co_Asthma_R0', 'Co_Pneumonia_R0', 'Co_Alcoholabuse_R0',\n",
    "        'Co_Drugabuse_R0', 'Co_Epilepsy_R0', 'Co_Cancer_R0', 'Co_MorbidObesity_R0',\n",
    "        'Co_Dementia_R0', 'Co_Depression_R0', 'Co_Bipolar_R0', 'Co_Psychosis_R0',\n",
    "        'Co_Personalitydisorder_R0', 'Co_Adjustmentdisorder_R0', 'Co_Anxiety_R0',\n",
    "        'Co_Generalizedanxiety_R0', 'Co_OldMI_R0', 'Co_AcuteMI_R0', 'Co_PUD_R0',\n",
    "        'Co_UpperGIbleed_R0', 'Co_LowerGIbleed_R0', 'Co_Urogenitalbleed_R0',\n",
    "        'Co_Othbleed_R0', 'Co_PVD_R0', 'Co_LiverDisease_R0', 'Co_MRI_R0',\n",
    "        'Co_ESRD_R0', 'Co_Obesity_R0', 'Co_Sepsis_R0', 'Co_Osteoarthritis_R0',\n",
    "        'Co_RA_R0', 'Co_NeuroPain_R0', 'Co_NeckPain_R0', 'Co_OthArthritis_R0',\n",
    "        'Co_Osteoporosis_R0', 'Co_Fibromyalgia_R0', 'Co_Migraine_R0', 'Co_Headache_R0',\n",
    "        'Co_OthPain_R0', 'Co_GeneralizedPain_R0', 'Co_PainDisorder_R0',\n",
    "        'Co_Falls_R0', 'Co_CoagulationDisorder_R0', 'Co_WhiteBloodCell_R0', 'Co_Parkinson_R0',\n",
    "        'Co_Anemia_R0', 'Co_UrinaryIncontinence_R0', 'Co_DecubitusUlcer_R0',\n",
    "        'Co_Oxygen_R0', 'Co_Mammography_R0', 'Co_PapTest_R0', 'Co_PSATest_R0',\n",
    "        'Co_Colonoscopy_R0', 'Co_FecalOccultTest_R0', 'Co_FluShot_R0', 'Co_PneumococcalVaccine_R0', 'Co_RenalDysfunction_R0', 'Co_Valvular_R0', 'Co_Hosp_Prior30Days_R0',\n",
    "        'Co_RX_Antibiotic_R0', 'Co_RX_Corticosteroid_R0', 'Co_RX_Aspirin_R0', 'Co_RX_Dipyridamole_R0',\n",
    "        'Co_RX_Clopidogrel_R0', 'Co_RX_Prasugrel_R0', 'Co_RX_Cilostazol_R0', 'Co_RX_Ticlopidine_R0',\n",
    "        'Co_RX_Ticagrelor_R0', 'Co_RX_OthAntiplatelet_R0', 'Co_RX_NSAIDs_R0',\n",
    "        'Co_RX_Opioid_R0', 'Co_RX_Antidepressant_R0', 'Co_RX_AAntipsychotic_R0', 'Co_RX_TAntipsychotic_R0',\n",
    "        'Co_RX_Anticonvulsant_R0', 'Co_RX_PPI_R0', 'Co_RX_H2Receptor_R0', 'Co_RX_OthGastro_R0',\n",
    "        'Co_RX_ACE_R0', 'Co_RX_ARB_R0', 'Co_RX_BBlocker_R0', 'Co_RX_CCB_R0', 'Co_RX_Thiazide_R0',\n",
    "        'Co_RX_Loop_R0', 'Co_RX_Potassium_R0', 'Co_RX_Nitrates_R0', 'Co_RX_Aliskiren_R0',\n",
    "        'Co_RX_OthAntihypertensive_R0', 'Co_RX_Antiarrhythmic_R0', 'Co_RX_OthAnticoagulant_R0',\n",
    "        'Co_RX_Insulin_R0', 'Co_RX_Noninsulin_R0', 'Co_RX_Digoxin_R0', 'Co_RX_Statin_R0',\n",
    "        'Co_RX_Lipid_R0', 'Co_RX_Lithium_R0', 'Co_RX_Benzo_R0', 'Co_RX_ZDrugs_R0',\n",
    "        'Co_RX_OthAnxiolytic_R0', 'Co_RX_Barbiturate_R0', 'Co_RX_Dementia_R0', 'Co_RX_Hormone_R0',\n",
    "        'Co_RX_Osteoporosis_R0', 'Co_N_Drugs_R0', 'Co_N_Hosp_R0', 'Co_Total_HospLOS_R0',\n",
    "        'Co_N_MDVisit_R0', 'Co_RX_AnyAspirin_R0', 'Co_RX_AspirinMono_R0', 'Co_RX_ClopidogrelMono_R0',\n",
    "        'Co_RX_AspirinClopidogrel_R0', 'Co_RX_DM_R0', 'Co_RX_Antipsychotic_R0'\n",
    "]\n",
    "\n",
    "co_train_gpop = train_set[predictor_variable]\n",
    "    \n",
    "co_train_high = train_set_high[predictor_variable]\n",
    "\n",
    "co_train_low = train_set_low[predictor_variable]\n",
    "\n",
    "co_validation_gpop = validation_set[predictor_variable]\n",
    "co_validation_gpop_split = np.array_split(co_validation_gpop, 5)  \n",
    "\n",
    "co_validation_high = validation_set_high[predictor_variable]\n",
    "co_validation_high_split = np.array_split(co_validation_high, 5)  \n",
    "\n",
    "co_validation_low = validation_set_low[predictor_variable]\n",
    "co_validation_low_split = np.array_split(co_validation_low, 5)"
   ]
  },
  {
   "cell_type": "code",
   "execution_count": 10,
   "id": "e12dc6fa",
   "metadata": {},
   "outputs": [],
   "source": [
    "out_train_death_gpop = train_set['ehr_claims_death']\n",
    "\n",
    "\n",
    "out_train_death_high = train_set_high['ehr_claims_death']\n",
    "\n",
    "out_train_death_low = train_set_low['ehr_claims_death']\n",
    "\n",
    "out_validation_death_gpop = validation_set['ehr_claims_death']\n",
    "out_validation_death_gpop_split = [] \n",
    "for parts in co_validation_gpop_split:\n",
    "    out_validation_death_gpop_split.append(out_validation_death_gpop[parts.index])\n",
    "    \n",
    "    \n",
    "out_validation_death_high = validation_set_high['ehr_claims_death']\n",
    "out_validation_death_high_split = [] \n",
    "for parts in co_validation_high_split:\n",
    "    out_validation_death_high_split.append(out_validation_death_high[parts.index])\n",
    "    \n",
    "    \n",
    "    \n",
    "out_validation_death_low = validation_set_low['ehr_claims_death']\n",
    "out_validation_death_low_split = [] \n",
    "for parts in co_validation_low_split:\n",
    "    out_validation_death_low_split.append(out_validation_death_low[parts.index])"
   ]
  },
  {
   "cell_type": "code",
   "execution_count": 18,
   "id": "45ed1600",
   "metadata": {},
   "outputs": [
    {
     "ename": "IndentationError",
     "evalue": "expected an indented block (<ipython-input-18-298e8ebd34b4>, line 24)",
     "output_type": "error",
     "traceback": [
      "\u001b[0;36m  File \u001b[0;32m\"<ipython-input-18-298e8ebd34b4>\"\u001b[0;36m, line \u001b[0;32m24\u001b[0m\n\u001b[0;31m    best_clf = forest_grid_search.fit(X_train, y_train)\u001b[0m\n\u001b[0m    ^\u001b[0m\n\u001b[0;31mIndentationError\u001b[0m\u001b[0;31m:\u001b[0m expected an indented block\n"
     ]
    }
   ],
   "source": [
    "def rf(X_train, y_train):\n",
    "    from sklearn.ensemble import RandomForestClassifier\n",
    "    from sklearn.model_selection import GridSearchCV\n",
    "\n",
    "    param_grid = {'bootstrap': [True],\n",
    "         'max_depth': [6, 10],\n",
    "         'min_samples_leaf': [3, 5],\n",
    "         'min_samples_split': [4, 6],\n",
    "         'n_estimators': [100, 350]\n",
    "        }\n",
    "\n",
    "\n",
    "    forest_clf = RandomForestClassifier()\n",
    "\n",
    "    forest_grid_search = GridSearchCV(forest_clf, param_grid, cv=5,\n",
    "                                      scoring=\"accuracy\",\n",
    "                                      return_train_score=True,\n",
    "                                      verbose=True,\n",
    "                                      n_jobs=10)\n",
    "    def GridSearchCV(clf, param_grid, grid_len, cv, n_jobs, X_train, y_train, Or_X, Or_y):\n",
    "        from sklearn.model_selection import KFold \n",
    "        cv = KFold(n_splits = 5, random_state = 1, shuffle = True)\n",
    "        log_loss = [] \n",
    "        iter = 0\n",
    "        for val in param_grid.values():\n",
    "            \n",
    "        for train_index, test_index in cv.split(X_train):\n",
    "            X_train, y_train, X_val, y_val = X_train.iloc[train_index], y_train.iloc[train_index], Or_X.iloc[iter], Or_y.iloc[iter]\n",
    "            iter = iter + 1\n",
    "            model = clf.fit(X_train, y_train, INSERT HYPER PARAMETER)\n",
    "            prob = model.predict(X_val)\n",
    "            pred = y_val\n",
    "            log_loss.append(sklearn.metrics.log_loss(prob, pred)) #check doucmentation for order\n",
    "        \n",
    "            \n",
    "            \n",
    "            \n",
    "            \n",
    "    best_clf = forest_grid_search.fit(X_train, y_train)\n",
    "    return best_clf \n"
   ]
  },
  {
   "cell_type": "code",
   "execution_count": 12,
   "id": "9cb5cb41",
   "metadata": {},
   "outputs": [],
   "source": [
    "def scores(X,y):\n",
    "    from sklearn.metrics import accuracy_score\n",
    "    from sklearn.metrics import f1_score\n",
    "    from sklearn.metrics import fbeta_score\n",
    "    from sklearn.metrics import roc_auc_score \n",
    "    from sklearn.metrics import log_loss\n",
    "\n",
    "    pred = best_clf.predict(X)\n",
    "    actual = y\n",
    "    print(accuracy_score(actual,pred))\n",
    "    #, file = open('death_smote_rf_ehr.out', 'a')\n",
    "    print(f1_score(actual,pred))\n",
    "    print(fbeta_score(actual,pred, average = 'macro', beta = 2))\n",
    "    print(roc_auc_score(actual, best_clf.predict_proba(X)[:,1]))\n",
    "    print(log_loss(actual,best_clf.predict_proba(X)[:,1]))"
   ]
  },
  {
   "cell_type": "code",
   "execution_count": 13,
   "id": "55249cab",
   "metadata": {},
   "outputs": [],
   "source": [
    "def cross_val(X,y,Or_X, Or_y):\n",
    "    from sklearn.model_selection import KFold\n",
    "    from sklearn.model_selection import cross_validate\n",
    "    from sklearn.metrics import log_loss\n",
    "    from sklearn.metrics import roc_auc_score\n",
    "    from sklearn.metrics import fbeta_score\n",
    "    import sklearn\n",
    "    import numpy as np\n",
    "    cv = KFold(n_splits=5, random_state=1, shuffle=True)\n",
    "    log_loss = [] \n",
    "    auc = [] \n",
    "    accuracy = [] \n",
    "    f1 = [] \n",
    "    f2 = [] \n",
    "    iter = 0\n",
    "    for train_index, test_index in cv.split(X):\n",
    "        \n",
    "        X_train, X_test, y_train, y_test = X.iloc[train_index], Or_X[iter], y.iloc[train_index], Or_y[iter]\n",
    "        iter = iter + 1\n",
    "        model = rf(X_train, y_train)\n",
    "        prob = model.predict_proba(X_test)[:,1] # prob is a vector of probabilities \n",
    "        print(prob)\n",
    "        pred = np.round(prob) # pred is the rounded predictions \n",
    "        \n",
    "        log_loss.append(sklearn.metrics.log_loss(y_test, prob))\n",
    "        auc.append(sklearn.metrics.roc_auc_score(y_test, prob))\n",
    "        accuracy.append(sklearn.metrics.accuracy_score(y_test, pred))\n",
    "        f1.append(sklearn.metrics.f1_score(y_test, pred, average = 'macro'))\n",
    "        f2.append(fbeta_score(y_test,pred, average = 'macro', beta = 2))\n",
    "    print(np.mean(accuracy))\n",
    "    print(np.mean(f1))\n",
    "    print(np.mean(f2))\n",
    "    print(np.mean(auc))\n",
    "    print(np.mean(log_loss))\n",
    "#co_train_gpop_sm,out_train_hemorrhage_gpop_sm, co_validation_gpop_split, out_validation_hemorrhage_gpop_split"
   ]
  },
  {
   "cell_type": "markdown",
   "id": "a01769db",
   "metadata": {},
   "source": [
    "# General Population"
   ]
  },
  {
   "cell_type": "code",
   "execution_count": 14,
   "id": "3afd1c6e",
   "metadata": {},
   "outputs": [
    {
     "name": "stdout",
     "output_type": "stream",
     "text": [
      "Fitting 5 folds for each of 16 candidates, totalling 80 fits\n"
     ]
    }
   ],
   "source": [
    "from imblearn.over_sampling import SMOTE\n",
    "sm = SMOTE(random_state = 42)\n",
    "co_train_gpop_sm,out_train_death_gpop_sm = sm.fit_resample(co_train_gpop,out_train_death_gpop)\n",
    "\n",
    "best_clf = rf(co_train_gpop_sm, out_train_death_gpop_sm)\n"
   ]
  },
  {
   "cell_type": "code",
   "execution_count": 15,
   "id": "f5e6e575",
   "metadata": {},
   "outputs": [
    {
     "name": "stdout",
     "output_type": "stream",
     "text": [
      "Fitting 5 folds for each of 16 candidates, totalling 80 fits\n",
      "[0.23424963 0.15945541 0.25179447 ... 0.34562922 0.45395204 0.26981251]\n",
      "Fitting 5 folds for each of 16 candidates, totalling 80 fits\n",
      "[0.5368007  0.4291718  0.25467531 ... 0.44640824 0.13013381 0.28822666]\n",
      "Fitting 5 folds for each of 16 candidates, totalling 80 fits\n",
      "[0.30476583 0.39424885 0.30554833 ... 0.13128909 0.0913561  0.23065905]\n",
      "Fitting 5 folds for each of 16 candidates, totalling 80 fits\n",
      "[0.11149812 0.1309344  0.33135678 ... 0.31189082 0.13981345 0.61333682]\n",
      "Fitting 5 folds for each of 16 candidates, totalling 80 fits\n",
      "[0.29113097 0.37459773 0.14997539 ... 0.42849991 0.59006    0.36785234]\n",
      "0.8595433967357463\n",
      "0.6226732976871127\n",
      "0.6237701547541588\n",
      "0.7727177344853511\n",
      "0.3891651776251565\n",
      "0.8887992303156327\n",
      "0.42144356531567895\n",
      "0.6825279594936188\n",
      "0.8533430163251906\n",
      "0.33640931595479423\n",
      "0.8580973274830475\n",
      "0.33473585787751287\n",
      "0.6297322186049678\n",
      "0.7747212553009436\n",
      "0.38895919146934443\n"
     ]
    }
   ],
   "source": [
    "cross_val(co_train_gpop_sm, out_train_death_gpop_sm,  co_validation_gpop_split, out_validation_death_gpop_split)\n",
    "\n",
    "print(\"\", file = open('death_smote_rf_ehr.out', 'a'))\n",
    "\n",
    "scores(co_train_gpop, out_train_death_gpop)\n",
    "\n",
    "print(\"\", file = open('death_smote_rf_ehr.out', 'a'))\n",
    "\n",
    "scores(co_validation_gpop, out_validation_death_gpop)"
   ]
  },
  {
   "cell_type": "markdown",
   "id": "c77f5545",
   "metadata": {},
   "source": [
    "# Low Continuity "
   ]
  },
  {
   "cell_type": "code",
   "execution_count": 16,
   "id": "5d7c3f36",
   "metadata": {},
   "outputs": [
    {
     "name": "stdout",
     "output_type": "stream",
     "text": [
      "Fitting 5 folds for each of 16 candidates, totalling 80 fits\n",
      "Fitting 5 folds for each of 16 candidates, totalling 80 fits\n",
      "[0.2203975  0.12358266 0.2521786  ... 0.51145095 0.48585891 0.2705209 ]\n",
      "Fitting 5 folds for each of 16 candidates, totalling 80 fits\n",
      "[0.21682523 0.16511145 0.71594981 ... 0.4834528  0.25856711 0.40020435]\n",
      "Fitting 5 folds for each of 16 candidates, totalling 80 fits\n",
      "[0.36087993 0.27724505 0.13212646 ... 0.27831067 0.30504953 0.50566828]\n",
      "Fitting 5 folds for each of 16 candidates, totalling 80 fits\n",
      "[0.25825359 0.16167177 0.14825336 ... 0.24996582 0.41866903 0.3483401 ]\n",
      "Fitting 5 folds for each of 16 candidates, totalling 80 fits\n",
      "[0.42887149 0.15840219 0.10534833 ... 0.37477042 0.4104763  0.59047857]\n",
      "0.8375690484432218\n",
      "0.6375741859314357\n",
      "0.6353984805359658\n",
      "0.7513762185303706\n",
      "0.44708164435475906\n",
      "\n",
      "0.8869767742770266\n",
      "0.5274546929943197\n",
      "0.730761512476569\n",
      "0.8602603945896896\n",
      "0.3811070331851298\n",
      "\n",
      "0.841572819240313\n",
      "0.3828996282527881\n",
      "0.6426152771767925\n",
      "0.7539886420809283\n",
      "0.4452320444544272\n"
     ]
    }
   ],
   "source": [
    "from imblearn.over_sampling import SMOTE\n",
    "sm = SMOTE(random_state = 42)\n",
    "co_train_low_sm,out_train_death_low_sm = sm.fit_resample(co_train_low,out_train_death_low)\n",
    "\n",
    "best_clf = rf(co_train_low_sm, out_train_death_low_sm)\n",
    "\n",
    "cross_val(co_train_low_sm, out_train_death_low_sm,  co_validation_low_split, out_validation_death_low_split)\n",
    "\n",
    "print(\"\")\n",
    "\n",
    "scores(co_train_low, out_train_death_low)\n",
    "\n",
    "print(\"\")\n",
    "\n",
    "scores(co_validation_low, out_validation_death_low)\n",
    "\n"
   ]
  },
  {
   "cell_type": "markdown",
   "id": "8578c047",
   "metadata": {},
   "source": [
    "# High Continuity"
   ]
  },
  {
   "cell_type": "code",
   "execution_count": 17,
   "id": "a2720811",
   "metadata": {},
   "outputs": [
    {
     "name": "stdout",
     "output_type": "stream",
     "text": [
      "Fitting 5 folds for each of 16 candidates, totalling 80 fits\n",
      "Fitting 5 folds for each of 16 candidates, totalling 80 fits\n",
      "[0.18002839 0.1291668  0.1077875  ... 0.31621268 0.41217281 0.28622607]\n",
      "Fitting 5 folds for each of 16 candidates, totalling 80 fits\n",
      "[0.28232355 0.56971263 0.36120378 ... 0.09443321 0.30750219 0.28475472]\n",
      "Fitting 5 folds for each of 16 candidates, totalling 80 fits\n",
      "[0.32107102 0.06029905 0.08703206 ... 0.20346925 0.06864761 0.11957397]\n",
      "Fitting 5 folds for each of 16 candidates, totalling 80 fits\n",
      "[0.11050474 0.21176803 0.14469469 ... 0.05823215 0.10760663 0.04724346]\n",
      "Fitting 5 folds for each of 16 candidates, totalling 80 fits\n",
      "[0.31458351 0.1893454  0.16748922 ... 0.39231242 0.26714464 0.43162423]\n",
      "0.9255617937718377\n",
      "0.5649855587028642\n",
      "0.5522516714383003\n",
      "0.8113194763283073\n",
      "0.268412966392367\n",
      "\n",
      "0.9452397995705082\n",
      "0.41304347826086957\n",
      "0.6531830102423158\n",
      "0.9220201965810922\n",
      "0.22484449511083557\n",
      "\n",
      "0.9259761954479014\n",
      "0.15895610913404506\n",
      "0.5474262258400956\n",
      "0.8104721642648034\n",
      "0.26720987986277933\n"
     ]
    }
   ],
   "source": [
    "from imblearn.over_sampling import SMOTE\n",
    "sm = SMOTE(random_state = 42)\n",
    "co_train_high_sm,out_train_death_high_sm = sm.fit_resample(co_train_high,out_train_death_high)\n",
    "\n",
    "best_clf = rf(co_train_high_sm, out_train_death_high_sm)\n",
    "\n",
    "cross_val(co_train_high_sm, out_train_death_high_sm,  co_validation_high_split, out_validation_death_high_split)\n",
    "\n",
    "print(\"\")\n",
    "\n",
    "scores(co_train_high, out_train_death_high)\n",
    "\n",
    "print(\"\")\n",
    "\n",
    "scores(co_validation_high, out_validation_death_high)\n"
   ]
  },
  {
   "cell_type": "code",
   "execution_count": null,
   "id": "375ae289",
   "metadata": {},
   "outputs": [],
   "source": []
  },
  {
   "cell_type": "code",
   "execution_count": null,
   "id": "b63ac6d2",
   "metadata": {},
   "outputs": [],
   "source": []
  },
  {
   "cell_type": "code",
   "execution_count": null,
   "id": "21a13f04",
   "metadata": {},
   "outputs": [],
   "source": []
  },
  {
   "cell_type": "code",
   "execution_count": null,
   "id": "e065efd3",
   "metadata": {},
   "outputs": [],
   "source": []
  }
 ],
 "metadata": {
  "kernelspec": {
   "display_name": "Python 3",
   "language": "python",
   "name": "python3"
  },
  "language_info": {
   "codemirror_mode": {
    "name": "ipython",
    "version": 3
   },
   "file_extension": ".py",
   "mimetype": "text/x-python",
   "name": "python",
   "nbconvert_exporter": "python",
   "pygments_lexer": "ipython3",
   "version": "3.8.8"
  }
 },
 "nbformat": 4,
 "nbformat_minor": 5
}
