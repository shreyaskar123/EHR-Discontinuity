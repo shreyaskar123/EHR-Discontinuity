{
 "cells": [
  {
   "cell_type": "code",
   "execution_count": 5,
   "id": "65bee7ca",
   "metadata": {},
   "outputs": [],
   "source": [
    "import pandas as pd\n",
    "medicare = pd.read_csv(\"/netapp2/home/se197/data/CMS/Data/medicare.csv\")"
   ]
  },
  {
   "cell_type": "code",
   "execution_count": 6,
   "id": "33c9d89c",
   "metadata": {},
   "outputs": [
    {
     "data": {
      "text/plain": [
       "(52277, 279)"
      ]
     },
     "execution_count": 6,
     "metadata": {},
     "output_type": "execute_result"
    }
   ],
   "source": [
    "medicare = medicare[(medicare.Co_CAD_R0 == 1) | (medicare.Co_Diabetes_R0 == 1) | (medicare.Co_CAD_R0 == 1) | \n",
    "                    (medicare.Co_Embolism_R0 == 1) | (medicare.Co_DVT_R0 == 1) | (medicare.Co_PE_R0 == 1) | \n",
    "                    (medicare.Co_AFib_R0 == 1) | (medicare.Co_HF_R0 == 1) | (medicare.Co_HemoStroke_R0 == 1) | \n",
    "                    (medicare.Co_IscheStroke_R0 == 1) | (medicare.Co_OthStroke_R0 == 1) |(medicare.Co_TIA_R0 == 1)\n",
    "                    | (medicare.Co_OldMI_R0 == 1) | (medicare.Co_AcuteMI_R0 == 1) | (medicare.Co_PVD_R0 == 1)]\n",
    "medicare.shape"
   ]
  },
  {
   "cell_type": "code",
   "execution_count": 7,
   "id": "6b73e83c",
   "metadata": {},
   "outputs": [
    {
     "data": {
      "text/plain": [
       "(52277, 279)"
      ]
     },
     "execution_count": 7,
     "metadata": {},
     "output_type": "execute_result"
    }
   ],
   "source": [
    "medicare.shape"
   ]
  },
  {
   "cell_type": "code",
   "execution_count": 8,
   "id": "09a03e08",
   "metadata": {},
   "outputs": [],
   "source": [
    "train_set = medicare[medicare.Hospital != 'BWH'] # MGH; n = 204014\n",
    "validation_set = medicare[medicare.Hospital == 'BWH'] # BWH and Neither; n = 115726\n",
    "import numpy as np\n",
    "\n",
    "fifty_perc_EHR_cont = np.percentile(medicare['Cal_MPEC_R0'],50)\n",
    "train_set_high = train_set[train_set.Cal_MPEC_R0 >= fifty_perc_EHR_cont]\n",
    "train_set_low= train_set[train_set.Cal_MPEC_R0 < fifty_perc_EHR_cont]\n",
    "\n",
    "validation_set_high = validation_set[validation_set.Cal_MPEC_R0 >= fifty_perc_EHR_cont]\n",
    "validation_set_low = validation_set[validation_set.Cal_MPEC_R0 < fifty_perc_EHR_cont]\n"
   ]
  },
  {
   "cell_type": "code",
   "execution_count": 9,
   "id": "b34102c0",
   "metadata": {},
   "outputs": [
    {
     "data": {
      "text/plain": [
       "(32221, 279)"
      ]
     },
     "execution_count": 9,
     "metadata": {},
     "output_type": "execute_result"
    }
   ],
   "source": [
    "train_set.shape"
   ]
  },
  {
   "cell_type": "code",
   "execution_count": 10,
   "id": "d0d90372",
   "metadata": {},
   "outputs": [],
   "source": [
    "predictor_variable = [\n",
    "        'Co_CAD_R0', 'Co_Embolism_R0', 'Co_DVT_R0', 'Co_PE_R0', 'Co_AFib_R0',\n",
    "        'Co_Hypertension_R0', 'Co_Hyperlipidemia_R0', 'Co_Atherosclerosis_R0',\n",
    "        'Co_HF_R0', 'Co_HemoStroke_R0', 'Co_IscheStroke_R0', 'Co_OthStroke_R0',\n",
    "        'Co_TIA_R0', 'Co_COPD_R0', 'Co_Asthma_R0', 'Co_Pneumonia_R0', 'Co_Alcoholabuse_R0',\n",
    "        'Co_Drugabuse_R0', 'Co_Epilepsy_R0', 'Co_Cancer_R0', 'Co_MorbidObesity_R0',\n",
    "        'Co_Dementia_R0', 'Co_Depression_R0', 'Co_Bipolar_R0', 'Co_Psychosis_R0',\n",
    "        'Co_Personalitydisorder_R0', 'Co_Adjustmentdisorder_R0', 'Co_Anxiety_R0',\n",
    "        'Co_Generalizedanxiety_R0', 'Co_OldMI_R0', 'Co_AcuteMI_R0', 'Co_PUD_R0',\n",
    "        'Co_UpperGIbleed_R0', 'Co_LowerGIbleed_R0', 'Co_Urogenitalbleed_R0',\n",
    "        'Co_Othbleed_R0', 'Co_PVD_R0', 'Co_LiverDisease_R0', 'Co_MRI_R0',\n",
    "        'Co_ESRD_R0', 'Co_Obesity_R0', 'Co_Sepsis_R0', 'Co_Osteoarthritis_R0',\n",
    "        'Co_RA_R0', 'Co_NeuroPain_R0', 'Co_NeckPain_R0', 'Co_OthArthritis_R0',\n",
    "        'Co_Osteoporosis_R0', 'Co_Fibromyalgia_R0', 'Co_Migraine_R0', 'Co_Headache_R0',\n",
    "        'Co_OthPain_R0', 'Co_GeneralizedPain_R0', 'Co_PainDisorder_R0',\n",
    "        'Co_Falls_R0', 'Co_CoagulationDisorder_R0', 'Co_WhiteBloodCell_R0', 'Co_Parkinson_R0',\n",
    "        'Co_Anemia_R0', 'Co_UrinaryIncontinence_R0', 'Co_DecubitusUlcer_R0',\n",
    "        'Co_Oxygen_R0', 'Co_Mammography_R0', 'Co_PapTest_R0', 'Co_PSATest_R0',\n",
    "        'Co_Colonoscopy_R0', 'Co_FecalOccultTest_R0', 'Co_FluShot_R0', 'Co_PneumococcalVaccine_R0', 'Co_RenalDysfunction_R0', 'Co_Valvular_R0', 'Co_Hosp_Prior30Days_R0',\n",
    "        'Co_RX_Antibiotic_R0', 'Co_RX_Corticosteroid_R0', 'Co_RX_Aspirin_R0', 'Co_RX_Dipyridamole_R0',\n",
    "        'Co_RX_Clopidogrel_R0', 'Co_RX_Prasugrel_R0', 'Co_RX_Cilostazol_R0', 'Co_RX_Ticlopidine_R0',\n",
    "        'Co_RX_Ticagrelor_R0', 'Co_RX_OthAntiplatelet_R0', 'Co_RX_NSAIDs_R0',\n",
    "        'Co_RX_Opioid_R0', 'Co_RX_Antidepressant_R0', 'Co_RX_AAntipsychotic_R0', 'Co_RX_TAntipsychotic_R0',\n",
    "        'Co_RX_Anticonvulsant_R0', 'Co_RX_PPI_R0', 'Co_RX_H2Receptor_R0', 'Co_RX_OthGastro_R0',\n",
    "        'Co_RX_ACE_R0', 'Co_RX_ARB_R0', 'Co_RX_BBlocker_R0', 'Co_RX_CCB_R0', 'Co_RX_Thiazide_R0',\n",
    "        'Co_RX_Loop_R0', 'Co_RX_Potassium_R0', 'Co_RX_Nitrates_R0', 'Co_RX_Aliskiren_R0',\n",
    "        'Co_RX_OthAntihypertensive_R0', 'Co_RX_Antiarrhythmic_R0', 'Co_RX_OthAnticoagulant_R0',\n",
    "        'Co_RX_Insulin_R0', 'Co_RX_Noninsulin_R0', 'Co_RX_Digoxin_R0', 'Co_RX_Statin_R0',\n",
    "        'Co_RX_Lipid_R0', 'Co_RX_Lithium_R0', 'Co_RX_Benzo_R0', 'Co_RX_ZDrugs_R0',\n",
    "        'Co_RX_OthAnxiolytic_R0', 'Co_RX_Barbiturate_R0', 'Co_RX_Dementia_R0', 'Co_RX_Hormone_R0',\n",
    "        'Co_RX_Osteoporosis_R0', 'Co_N_Drugs_R0', 'Co_N_Hosp_R0', 'Co_Total_HospLOS_R0',\n",
    "        'Co_N_MDVisit_R0', 'Co_RX_AnyAspirin_R0', 'Co_RX_AspirinMono_R0', 'Co_RX_ClopidogrelMono_R0',\n",
    "        'Co_RX_AspirinClopidogrel_R0', 'Co_RX_DM_R0', 'Co_RX_Antipsychotic_R0'\n",
    "]\n",
    "\n",
    "co_train_gpop = train_set[predictor_variable]\n",
    "co_train_high = train_set_high[predictor_variable]\n",
    "co_train_low = train_set_low[predictor_variable]\n",
    "\n",
    "co_validation_gpop = validation_set[predictor_variable]\n",
    "co_validation_high = validation_set_high[predictor_variable]\n",
    "co_validation_low = validation_set_low[predictor_variable]"
   ]
  },
  {
   "cell_type": "code",
   "execution_count": 11,
   "id": "e12dc6fa",
   "metadata": {},
   "outputs": [
    {
     "data": {
      "text/plain": [
       "\"\\nout_train_cardio_gpop = train_set['Out_comp_cardiovascular_R1']\\nout_train_cardio_high = train_set_high['Out_comp_cardiovascular_R1']\\nout_train_cardio_low = train_set_low['Out_comp_cardiovascular_R1']\\n\\nout_validation_cardio_gpop = validation_set['Out_comp_cardiovascular_R1']\\nout_validation_cardio_high = validation_set_high['Out_comp_cardiovascular_R1']\\nout_validation_cardio_low = validation_set_low['Out_comp_cardiovascular_R1']\\n\""
      ]
     },
     "execution_count": 11,
     "metadata": {},
     "output_type": "execute_result"
    }
   ],
   "source": [
    "# THIS IS WITH NO DEATH\n",
    "out_train_cardio_gpop = train_set['Out_comp_cardiovascular_nd_RC1']\n",
    "out_train_cardio_high = train_set_high['Out_comp_cardiovascular_nd_RC1']\n",
    "out_train_cardio_low = train_set_low['Out_comp_cardiovascular_nd_RC1']\n",
    "\n",
    "out_validation_cardio_gpop = validation_set['Out_comp_cardiovascular_nd_RC1']\n",
    "out_validation_cardio_high = validation_set_high['Out_comp_cardiovascular_nd_RC1']\n",
    "out_validation_cardio_low = validation_set_low['Out_comp_cardiovascular_nd_RC1']\n",
    "\n",
    "\"\"\"\n",
    "out_train_cardio_gpop = train_set['Out_comp_cardiovascular_R1']\n",
    "out_train_cardio_high = train_set_high['Out_comp_cardiovascular_R1']\n",
    "out_train_cardio_low = train_set_low['Out_comp_cardiovascular_R1']\n",
    "\n",
    "out_validation_cardio_gpop = validation_set['Out_comp_cardiovascular_R1']\n",
    "out_validation_cardio_high = validation_set_high['Out_comp_cardiovascular_R1']\n",
    "out_validation_cardio_low = validation_set_low['Out_comp_cardiovascular_R1']\n",
    "\"\"\""
   ]
  },
  {
   "cell_type": "code",
   "execution_count": 12,
   "id": "45ed1600",
   "metadata": {},
   "outputs": [],
   "source": [
    "def rf(X_train, y_train):\n",
    "    from sklearn.ensemble import RandomForestClassifier\n",
    "    from sklearn.model_selection import GridSearchCV\n",
    "\n",
    "    param_grid = {'bootstrap': [True],\n",
    "         'max_depth': [6, 10],\n",
    "         'min_samples_leaf': [3, 5],\n",
    "         'min_samples_split': [4, 6],\n",
    "         'n_estimators': [100, 350]\n",
    "        }\n",
    "\n",
    "\n",
    "    forest_clf = RandomForestClassifier()\n",
    "\n",
    "    forest_grid_search = GridSearchCV(forest_clf, param_grid, cv=5,\n",
    "                                      scoring=\"accuracy\",\n",
    "                                      return_train_score=True,\n",
    "                                      verbose=True,\n",
    "                                      n_jobs=1)\n",
    "\n",
    "    best_clf = forest_grid_search.fit(X_train, y_train)\n",
    "    return best_clf \n"
   ]
  },
  {
   "cell_type": "code",
   "execution_count": 13,
   "id": "9cb5cb41",
   "metadata": {},
   "outputs": [],
   "source": [
    "def scores(X,y):\n",
    "    from sklearn.metrics import accuracy_score\n",
    "    from sklearn.metrics import f1_score\n",
    "    from sklearn.metrics import fbeta_score\n",
    "    from sklearn.metrics import roc_auc_score \n",
    "    from sklearn.metrics import log_loss\n",
    "\n",
    "    pred = best_clf.predict(X)\n",
    "    actual = y\n",
    "    print(accuracy_score(actual,pred))\n",
    "    print(f1_score(actual,pred))\n",
    "    print(fbeta_score(actual,pred, average = 'macro', beta = 2))\n",
    "    print(roc_auc_score(actual, best_clf.predict_proba(X)[:,1]))\n",
    "    print(log_loss(actual,best_clf.predict_proba(X)[:,1]))"
   ]
  },
  {
   "cell_type": "code",
   "execution_count": 14,
   "id": "afec5b51",
   "metadata": {},
   "outputs": [],
   "source": [
    "def cross_val(X,y):\n",
    "    from sklearn.model_selection import KFold\n",
    "    from sklearn.model_selection import cross_validate\n",
    "    from sklearn.metrics import log_loss\n",
    "    from sklearn.metrics import roc_auc_score\n",
    "    from sklearn.metrics import fbeta_score\n",
    "    import sklearn\n",
    "    import numpy as np\n",
    "    cv = KFold(n_splits=5, random_state=1, shuffle=True)\n",
    "    log_loss = [] \n",
    "    auc = [] \n",
    "    accuracy = []\n",
    "    f1 = []\n",
    "    f2 = [] \n",
    "    for train_index, test_index in cv.split(X):\n",
    "        X_train, X_test, y_train, y_test = X.iloc[train_index], X.iloc[test_index], y.iloc[train_index], y.iloc[test_index]\n",
    "        model = rf(X_train, y_train)\n",
    "        prob = model.predict(X_test) # prob is a vector of probabilities \n",
    "        pred = np.round(model.predict(X_test)) # pred is the rounded predictions \n",
    "        log_loss.append(sklearn.metrics.log_loss(y_test, prob))\n",
    "        auc.append(sklearn.metrics.roc_auc_score(y_test, prob))\n",
    "        accuracy.append(sklearn.metrics.accuracy_score(y_test, pred))\n",
    "        f1.append(sklearn.metrics.f1_score(y_test, pred, average = 'macro'))\n",
    "        f2.append(fbeta_score(y_test,pred, average = 'macro', beta = 2))\n",
    "    print(np.mean(accuracy))\n",
    "    print(np.mean(f1))\n",
    "    print(np.mean(f2))\n",
    "    print(np.mean(auc))\n",
    "    print(np.mean(log_loss))"
   ]
  },
  {
   "cell_type": "markdown",
   "id": "a01769db",
   "metadata": {},
   "source": [
    "# General Population"
   ]
  },
  {
   "cell_type": "code",
   "execution_count": 11,
   "id": "3afd1c6e",
   "metadata": {},
   "outputs": [
    {
     "name": "stdout",
     "output_type": "stream",
     "text": [
      "Fitting 5 folds for each of 16 candidates, totalling 80 fits\n",
      "Fitting 5 folds for each of 16 candidates, totalling 80 fits\n",
      "Fitting 5 folds for each of 16 candidates, totalling 80 fits\n",
      "Fitting 5 folds for each of 16 candidates, totalling 80 fits\n",
      "Fitting 5 folds for each of 16 candidates, totalling 80 fits\n",
      "Fitting 5 folds for each of 16 candidates, totalling 80 fits\n",
      "0.936056671444715\n",
      "0.9360533157098626\n",
      "0.9360516245999065\n",
      "0.93605480002471\n",
      "2.2085499689631978\n",
      "\n",
      "0.9014928152447161\n",
      "0.14030335861321777\n",
      "0.554033877039154\n",
      "0.7557586534569669\n",
      "0.330050061904778\n",
      "\n",
      "0.8910550458715596\n",
      "0.09373703857320613\n",
      "0.5232667146063575\n",
      "0.617489349380545\n",
      "0.34958822244860066\n"
     ]
    }
   ],
   "source": [
    "from imblearn.over_sampling import SMOTE\n",
    "sm = SMOTE(random_state = 42)\n",
    "co_train_gpop_sm,out_train_cardio_gpop_sm = sm.fit_resample(co_train_gpop,out_train_cardio_gpop)\n",
    "\n",
    "best_clf = rf(co_train_gpop_sm, out_train_cardio_gpop_sm)\n",
    "\n",
    "cross_val(co_train_gpop_sm, out_train_cardio_gpop_sm)\n",
    "\n",
    "print()\n",
    "\n",
    "scores(co_train_gpop, out_train_cardio_gpop)\n",
    "\n",
    "print()\n",
    "\n",
    "scores(co_validation_gpop, out_validation_cardio_gpop)"
   ]
  },
  {
   "cell_type": "markdown",
   "id": "7392efe4",
   "metadata": {},
   "source": [
    "# Low Continuity "
   ]
  },
  {
   "cell_type": "code",
   "execution_count": 12,
   "id": "e89ce34c",
   "metadata": {},
   "outputs": [
    {
     "name": "stdout",
     "output_type": "stream",
     "text": [
      "Fitting 5 folds for each of 16 candidates, totalling 80 fits\n",
      "Fitting 5 folds for each of 16 candidates, totalling 80 fits\n",
      "Fitting 5 folds for each of 16 candidates, totalling 80 fits\n",
      "Fitting 5 folds for each of 16 candidates, totalling 80 fits\n",
      "Fitting 5 folds for each of 16 candidates, totalling 80 fits\n",
      "Fitting 5 folds for each of 16 candidates, totalling 80 fits\n",
      "0.9146979708297728\n",
      "0.9146619649577403\n",
      "0.9146633263126083\n",
      "0.9147541274775994\n",
      "2.946255881627734\n",
      "\n",
      "0.8980397231028013\n",
      "0.19918699186991867\n",
      "0.5832813121730771\n",
      "0.7805936840492884\n",
      "0.3799385004604143\n",
      "\n",
      "0.8901507921359038\n",
      "0.09583660644147683\n",
      "0.5212142304537934\n",
      "0.5878160842573222\n",
      "0.39570127933082583\n"
     ]
    }
   ],
   "source": [
    "from imblearn.over_sampling import SMOTE\n",
    "sm = SMOTE(random_state = 42)\n",
    "co_train_low_sm,out_train_cardio_low_sm = sm.fit_resample(co_train_low,out_train_cardio_low)\n",
    "\n",
    "best_clf = rf(co_train_low_sm, out_train_cardio_low_sm)\n",
    "\n",
    "cross_val(co_train_low_sm, out_train_cardio_low_sm)\n",
    "\n",
    "print()\n",
    "\n",
    "scores(co_train_low, out_train_cardio_low)\n",
    "\n",
    "print()\n",
    "\n",
    "scores(co_validation_low, out_validation_cardio_low)\n",
    "\n"
   ]
  },
  {
   "cell_type": "markdown",
   "id": "88d233c7",
   "metadata": {},
   "source": [
    "# High Continuity"
   ]
  },
  {
   "cell_type": "code",
   "execution_count": 15,
   "id": "3d509c32",
   "metadata": {},
   "outputs": [
    {
     "name": "stdout",
     "output_type": "stream",
     "text": [
      "ERROR! Session/line number was not unique in database. History logging moved to new session 986\n",
      "Fitting 5 folds for each of 16 candidates, totalling 80 fits\n",
      "\n",
      "0.9688618468146027\n",
      "0.04744525547445255\n",
      "0.5118993106548702\n",
      "0.8993706316660552\n",
      "0.20974882559281366\n",
      "\n",
      "0.9686782209229484\n",
      "0.0\n",
      "0.49678732062540154\n",
      "0.6245289933175253\n",
      "0.22813408550191866\n"
     ]
    }
   ],
   "source": [
    "from imblearn.over_sampling import SMOTE\n",
    "sm = SMOTE(random_state = 42)\n",
    "co_train_high_sm,out_train_cardio_high_sm = sm.fit_resample(co_train_high,out_train_cardio_high)\n",
    "co_train_low_sm,out_train_cardio_low_sm = sm.fit_resample(co_train_low,out_train_cardio_low)\n",
    "\n",
    "best_clf = rf(co_train_high_sm, out_train_cardio_high_sm)\n",
    "pred_high_low = best_clf.predict_proba(co_train_low_sm)\n",
    "#cross_val(co_train_high_sm, out_train_cardio_high_sm)\n",
    "\n",
    "print()\n",
    "\n",
    "scores(co_train_high, out_train_cardio_high)\n",
    "\n",
    "print()\n",
    "\n",
    "scores(co_validation_high, out_validation_cardio_high)\n"
   ]
  },
  {
   "cell_type": "code",
   "execution_count": null,
   "id": "4c76392f",
   "metadata": {},
   "outputs": [],
   "source": [
    "for values in pred_high_low:\n",
    "    print(values[1])"
   ]
  },
  {
   "cell_type": "code",
   "execution_count": null,
   "id": "78aac29b",
   "metadata": {},
   "outputs": [],
   "source": []
  },
  {
   "cell_type": "code",
   "execution_count": null,
   "id": "d39eb730",
   "metadata": {},
   "outputs": [],
   "source": []
  },
  {
   "cell_type": "code",
   "execution_count": null,
   "id": "22c09ad9",
   "metadata": {},
   "outputs": [],
   "source": []
  }
 ],
 "metadata": {
  "kernelspec": {
   "display_name": "Python 3",
   "language": "python",
   "name": "python3"
  },
  "language_info": {
   "codemirror_mode": {
    "name": "ipython",
    "version": 3
   },
   "file_extension": ".py",
   "mimetype": "text/x-python",
   "name": "python",
   "nbconvert_exporter": "python",
   "pygments_lexer": "ipython3",
   "version": "3.8.8"
  }
 },
 "nbformat": 4,
 "nbformat_minor": 5
}
