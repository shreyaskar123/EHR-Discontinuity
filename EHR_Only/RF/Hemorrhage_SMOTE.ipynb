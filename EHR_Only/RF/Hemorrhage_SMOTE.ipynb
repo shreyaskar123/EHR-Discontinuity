{
 "cells": [
  {
   "cell_type": "code",
   "execution_count": 1,
   "id": "65bee7ca",
   "metadata": {},
   "outputs": [],
   "source": [
    "import pandas as pd\n",
    "medicare = pd.read_csv(\"/netapp2/home/se197/data/CMS/Data/medicare.csv\")"
   ]
  },
  {
   "cell_type": "code",
   "execution_count": 2,
   "id": "09a03e08",
   "metadata": {},
   "outputs": [],
   "source": [
    "train_set = medicare[medicare.Hospital != 'BWH'] # MGH; n = 204014\n",
    "validation_set = medicare[medicare.Hospital == 'BWH'] # BWH and Neither; n = 115726\n",
    "import numpy as np\n",
    "\n",
    "fifty_perc_EHR_cont = np.percentile(medicare['Cal_MPEC_R0'],50)\n",
    "train_set_high = train_set[train_set.Cal_MPEC_R0 >= fifty_perc_EHR_cont]\n",
    "train_set_low= train_set[train_set.Cal_MPEC_R0 < fifty_perc_EHR_cont]\n",
    "\n",
    "validation_set_high = validation_set[validation_set.Cal_MPEC_R0 >= fifty_perc_EHR_cont]\n",
    "validation_set_low = validation_set[validation_set.Cal_MPEC_R0 < fifty_perc_EHR_cont]\n"
   ]
  },
  {
   "cell_type": "code",
   "execution_count": 3,
   "id": "d0d90372",
   "metadata": {},
   "outputs": [],
   "source": [
    "predictor_variable = [\n",
    "        'Co_CAD_R0', 'Co_Embolism_R0', 'Co_DVT_R0', 'Co_PE_R0', 'Co_AFib_R0',\n",
    "        'Co_Hypertension_R0', 'Co_Hyperlipidemia_R0', 'Co_Atherosclerosis_R0',\n",
    "        'Co_HF_R0', 'Co_HemoStroke_R0', 'Co_IscheStroke_R0', 'Co_OthStroke_R0',\n",
    "        'Co_TIA_R0', 'Co_COPD_R0', 'Co_Asthma_R0', 'Co_Pneumonia_R0', 'Co_Alcoholabuse_R0',\n",
    "        'Co_Drugabuse_R0', 'Co_Epilepsy_R0', 'Co_Cancer_R0', 'Co_MorbidObesity_R0',\n",
    "        'Co_Dementia_R0', 'Co_Depression_R0', 'Co_Bipolar_R0', 'Co_Psychosis_R0',\n",
    "        'Co_Personalitydisorder_R0', 'Co_Adjustmentdisorder_R0', 'Co_Anxiety_R0',\n",
    "        'Co_Generalizedanxiety_R0', 'Co_OldMI_R0', 'Co_AcuteMI_R0', 'Co_PUD_R0',\n",
    "        'Co_UpperGIbleed_R0', 'Co_LowerGIbleed_R0', 'Co_Urogenitalbleed_R0',\n",
    "        'Co_Othbleed_R0', 'Co_PVD_R0', 'Co_LiverDisease_R0', 'Co_MRI_R0',\n",
    "        'Co_ESRD_R0', 'Co_Obesity_R0', 'Co_Sepsis_R0', 'Co_Osteoarthritis_R0',\n",
    "        'Co_RA_R0', 'Co_NeuroPain_R0', 'Co_NeckPain_R0', 'Co_OthArthritis_R0',\n",
    "        'Co_Osteoporosis_R0', 'Co_Fibromyalgia_R0', 'Co_Migraine_R0', 'Co_Headache_R0',\n",
    "        'Co_OthPain_R0', 'Co_GeneralizedPain_R0', 'Co_PainDisorder_R0',\n",
    "        'Co_Falls_R0', 'Co_CoagulationDisorder_R0', 'Co_WhiteBloodCell_R0', 'Co_Parkinson_R0',\n",
    "        'Co_Anemia_R0', 'Co_UrinaryIncontinence_R0', 'Co_DecubitusUlcer_R0',\n",
    "        'Co_Oxygen_R0', 'Co_Mammography_R0', 'Co_PapTest_R0', 'Co_PSATest_R0',\n",
    "        'Co_Colonoscopy_R0', 'Co_FecalOccultTest_R0', 'Co_FluShot_R0', 'Co_PneumococcalVaccine_R0', 'Co_RenalDysfunction_R0', 'Co_Valvular_R0', 'Co_Hosp_Prior30Days_R0',\n",
    "        'Co_RX_Antibiotic_R0', 'Co_RX_Corticosteroid_R0', 'Co_RX_Aspirin_R0', 'Co_RX_Dipyridamole_R0',\n",
    "        'Co_RX_Clopidogrel_R0', 'Co_RX_Prasugrel_R0', 'Co_RX_Cilostazol_R0', 'Co_RX_Ticlopidine_R0',\n",
    "        'Co_RX_Ticagrelor_R0', 'Co_RX_OthAntiplatelet_R0', 'Co_RX_NSAIDs_R0',\n",
    "        'Co_RX_Opioid_R0', 'Co_RX_Antidepressant_R0', 'Co_RX_AAntipsychotic_R0', 'Co_RX_TAntipsychotic_R0',\n",
    "        'Co_RX_Anticonvulsant_R0', 'Co_RX_PPI_R0', 'Co_RX_H2Receptor_R0', 'Co_RX_OthGastro_R0',\n",
    "        'Co_RX_ACE_R0', 'Co_RX_ARB_R0', 'Co_RX_BBlocker_R0', 'Co_RX_CCB_R0', 'Co_RX_Thiazide_R0',\n",
    "        'Co_RX_Loop_R0', 'Co_RX_Potassium_R0', 'Co_RX_Nitrates_R0', 'Co_RX_Aliskiren_R0',\n",
    "        'Co_RX_OthAntihypertensive_R0', 'Co_RX_Antiarrhythmic_R0', 'Co_RX_OthAnticoagulant_R0',\n",
    "        'Co_RX_Insulin_R0', 'Co_RX_Noninsulin_R0', 'Co_RX_Digoxin_R0', 'Co_RX_Statin_R0',\n",
    "        'Co_RX_Lipid_R0', 'Co_RX_Lithium_R0', 'Co_RX_Benzo_R0', 'Co_RX_ZDrugs_R0',\n",
    "        'Co_RX_OthAnxiolytic_R0', 'Co_RX_Barbiturate_R0', 'Co_RX_Dementia_R0', 'Co_RX_Hormone_R0',\n",
    "        'Co_RX_Osteoporosis_R0', 'Co_N_Drugs_R0', 'Co_N_Hosp_R0', 'Co_Total_HospLOS_R0',\n",
    "        'Co_N_MDVisit_R0', 'Co_RX_AnyAspirin_R0', 'Co_RX_AspirinMono_R0', 'Co_RX_ClopidogrelMono_R0',\n",
    "        'Co_RX_AspirinClopidogrel_R0', 'Co_RX_DM_R0', 'Co_RX_Antipsychotic_R0'\n",
    "]\n",
    "\n",
    "co_train_gpop = train_set[predictor_variable]\n",
    "    \n",
    "co_train_high = train_set_high[predictor_variable]\n",
    "\n",
    "co_train_low = train_set_low[predictor_variable]\n",
    "\n",
    "co_validation_gpop = validation_set[predictor_variable]\n",
    "co_validation_gpop_split = np.array_split(co_validation_gpop, 5)  \n",
    "\n",
    "co_validation_high = validation_set_high[predictor_variable]\n",
    "co_validation_high_split = np.array_split(co_validation_high, 5)  \n",
    "\n",
    "co_validation_low = validation_set_low[predictor_variable]\n",
    "co_validation_low_split = np.array_split(co_validation_low, 5)  \n"
   ]
  },
  {
   "cell_type": "code",
   "execution_count": 4,
   "id": "e12dc6fa",
   "metadata": {},
   "outputs": [],
   "source": [
    "out_train_hemorrhage_gpop = train_set['Out_Hemorrhage_RC1']\n",
    "\n",
    "out_train_hemorrhage_high = train_set_high['Out_Hemorrhage_RC1']\n",
    "out_train_hemorrhage_low = train_set_low['Out_Hemorrhage_RC1']\n",
    "\n",
    "out_validation_hemorrhage_gpop_split = [] \n",
    "out_validation_hemorrhage_gpop = validation_set['Out_Hemorrhage_RC1']\n",
    "for parts in co_validation_gpop_split:\n",
    "    out_validation_hemorrhage_gpop_split.append(out_validation_hemorrhage_gpop[parts.index])\n",
    "\n",
    "out_validation_hemorrhage_high_split = [] \n",
    "out_validation_hemorrhage_high = validation_set_high['Out_Hemorrhage_RC1']\n",
    "for parts in co_validation_high_split:\n",
    "    out_validation_hemorrhage_high_split.append(out_validation_hemorrhage_high[parts.index])\n",
    "\n",
    "out_validation_hemorrhage_low_split = [] \n",
    "out_validation_hemorrhage_low = validation_set_low['Out_Hemorrhage_RC1']\n",
    "for parts in co_validation_low_split:\n",
    "    out_validation_hemorrhage_low_split.append(out_validation_hemorrhage_low[parts.index])"
   ]
  },
  {
   "cell_type": "code",
   "execution_count": 5,
   "id": "45ed1600",
   "metadata": {},
   "outputs": [],
   "source": [
    "def rf(X_train, y_train):\n",
    "    from sklearn.ensemble import RandomForestClassifier\n",
    "    from sklearn.model_selection import GridSearchCV\n",
    "\n",
    "    param_grid = {'bootstrap': [True],\n",
    "         'max_depth': [6, 10],\n",
    "         'min_samples_leaf': [3, 5],\n",
    "         'min_samples_split': [4, 6],\n",
    "         'n_estimators': [100, 350]\n",
    "        }\n",
    "\n",
    "\n",
    "    forest_clf = RandomForestClassifier()\n",
    "\n",
    "    forest_grid_search = GridSearchCV(forest_clf, param_grid, cv=5,\n",
    "                                      scoring=\"accuracy\",\n",
    "                                      return_train_score=True,\n",
    "                                      verbose=True,\n",
    "                                      n_jobs=10)\n",
    "\n",
    "    best_clf = forest_grid_search.fit(X_train, y_train)\n",
    "    return best_clf \n"
   ]
  },
  {
   "cell_type": "code",
   "execution_count": 6,
   "id": "9cb5cb41",
   "metadata": {},
   "outputs": [],
   "source": [
    "def scores(X,y):\n",
    "    from sklearn.metrics import accuracy_score\n",
    "    from sklearn.metrics import f1_score\n",
    "    from sklearn.metrics import fbeta_score\n",
    "    from sklearn.metrics import roc_auc_score \n",
    "    from sklearn.metrics import log_loss\n",
    "\n",
    "    pred = best_clf.predict(X)\n",
    "    actual = y\n",
    "    #file = open('hem_smote_rf_ehr.out', 'a')\n",
    "    print(accuracy_score(actual,pred))\n",
    "    print(f1_score(actual,pred))\n",
    "    print(fbeta_score(actual,pred, average = 'macro', beta = 2))\n",
    "    print(roc_auc_score(actual, best_clf.predict_proba(X)[:,1]))\n",
    "    print(log_loss(actual,best_clf.predict_proba(X)[:,1]))"
   ]
  },
  {
   "cell_type": "code",
   "execution_count": 10,
   "id": "67cf152c",
   "metadata": {},
   "outputs": [],
   "source": [
    "def cross_val(X,y,Or_X, Or_y):\n",
    "    from sklearn.model_selection import KFold\n",
    "    from sklearn.model_selection import cross_validate\n",
    "    from sklearn.metrics import log_loss\n",
    "    from sklearn.metrics import roc_auc_score\n",
    "    from sklearn.metrics import fbeta_score\n",
    "    import sklearn\n",
    "    import numpy as np\n",
    "    cv = KFold(n_splits=5, random_state=1, shuffle=True)\n",
    "    log_loss = [] \n",
    "    auc = [] \n",
    "    accuracy = [] \n",
    "    f1 = [] \n",
    "    f2 = [] \n",
    "    iter = 0\n",
    "    for train_index, test_index in cv.split(X):\n",
    "        \n",
    "        X_train, X_test, y_train, y_test = X.iloc[train_index], Or_X[iter], y.iloc[train_index], Or_y[iter]\n",
    "        model = rf(X_train, y_train)\n",
    "        prob = model.predict_proba(X_test)[:,1] # prob is a vector of probabilities \n",
    "        print(prob)\n",
    "        pred = np.round(prob) # pred is the rounded predictions \n",
    "        \n",
    "        log_loss.append(sklearn.metrics.log_loss(y_test, prob))\n",
    "        auc.append(sklearn.metrics.roc_auc_score(y_test, prob))\n",
    "        accuracy.append(sklearn.metrics.accuracy_score(y_test, pred))\n",
    "        f1.append(sklearn.metrics.f1_score(y_test, pred, average = 'macro'))\n",
    "        f2.append(fbeta_score(y_test,pred, average = 'macro', beta = 2))\n",
    "    print(np.mean(accuracy))\n",
    "    print(np.mean(f1))\n",
    "    print(np.mean(f2))\n",
    "    print(np.mean(auc))\n",
    "    print(np.mean(log_loss))\n",
    "#co_train_gpop_sm,out_train_hemorrhage_gpop_sm, co_validation_gpop_split, out_validation_hemorrhage_gpop_split"
   ]
  },
  {
   "cell_type": "markdown",
   "id": "a01769db",
   "metadata": {},
   "source": [
    "# General Population"
   ]
  },
  {
   "cell_type": "code",
   "execution_count": 11,
   "id": "3afd1c6e",
   "metadata": {},
   "outputs": [
    {
     "name": "stdout",
     "output_type": "stream",
     "text": [
      "Fitting 5 folds for each of 16 candidates, totalling 80 fits\n"
     ]
    }
   ],
   "source": [
    "from imblearn.over_sampling import SMOTE\n",
    "sm = SMOTE(random_state = 42)\n",
    "co_train_gpop_sm,out_train_hemorrhage_gpop_sm = sm.fit_resample(co_train_gpop,out_train_hemorrhage_gpop)\n",
    "\n",
    "best_clf = rf(co_train_gpop_sm, out_train_hemorrhage_gpop_sm)\n"
   ]
  },
  {
   "cell_type": "code",
   "execution_count": 12,
   "id": "f5e6e575",
   "metadata": {},
   "outputs": [
    {
     "name": "stdout",
     "output_type": "stream",
     "text": [
      "Fitting 5 folds for each of 16 candidates, totalling 80 fits\n",
      "[0.29220977 0.18380564 0.17256197 ... 0.33450388 0.46026403 0.28596844]\n",
      "Fitting 5 folds for each of 16 candidates, totalling 80 fits\n",
      "[0.30499179 0.16531811 0.17217911 ... 0.34952383 0.45080171 0.28479185]\n",
      "Fitting 5 folds for each of 16 candidates, totalling 80 fits\n",
      "[0.29159877 0.18807379 0.17673286 ... 0.35463727 0.44271672 0.28308242]\n",
      "Fitting 5 folds for each of 16 candidates, totalling 80 fits\n",
      "[0.27778633 0.19551642 0.17704743 ... 0.34557463 0.45002744 0.28098563]\n",
      "Fitting 5 folds for each of 16 candidates, totalling 80 fits\n",
      "[0.29524652 0.19031891 0.16791425 ... 0.38231499 0.44803648 0.27932956]\n",
      "0.856679960119641\n",
      "0.5071353183344932\n",
      "0.507007601976889\n",
      "0.6119119021337422\n",
      "0.4160794013696513\n",
      "\n",
      "0.8806368517426523\n",
      "0.17503217503217502\n",
      "0.552531566616522\n",
      "0.7523024531688816\n",
      "0.3809338394735238\n",
      "\n",
      "0.8532110091743119\n",
      "0.11164755582377792\n",
      "0.515050815672789\n",
      "0.6228177237177889\n",
      "0.42384995386337443\n"
     ]
    }
   ],
   "source": [
    "cross_val(co_train_gpop_sm, out_train_hemorrhage_gpop_sm, co_validation_gpop_split, out_validation_hemorrhage_gpop_split)\n",
    "#, file = open('hem_smote_rf_ehr.out', 'a')\n",
    "print(\"\")\n",
    "\n",
    "scores(co_train_gpop, out_train_hemorrhage_gpop)\n",
    "#, file = open('hem_smote_rf_ehr.out', 'a')\n",
    "print(\"\")\n",
    "\n",
    "scores(co_validation_gpop, out_validation_hemorrhage_gpop)"
   ]
  },
  {
   "cell_type": "markdown",
   "id": "c77f5545",
   "metadata": {},
   "source": [
    "# Low Continuity "
   ]
  },
  {
   "cell_type": "code",
   "execution_count": 13,
   "id": "5d7c3f36",
   "metadata": {},
   "outputs": [
    {
     "name": "stdout",
     "output_type": "stream",
     "text": [
      "Fitting 5 folds for each of 16 candidates, totalling 80 fits\n",
      "Fitting 5 folds for each of 16 candidates, totalling 80 fits\n",
      "[0.32495121 0.16042614 0.37256211 ... 0.4297048  0.55030043 0.5080647 ]\n",
      "Fitting 5 folds for each of 16 candidates, totalling 80 fits\n",
      "[0.36247433 0.1513747  0.38575819 ... 0.43966682 0.54044889 0.49910307]\n",
      "Fitting 5 folds for each of 16 candidates, totalling 80 fits\n",
      "[0.33804807 0.15841115 0.36971033 ... 0.39686478 0.52601026 0.49508424]\n",
      "Fitting 5 folds for each of 16 candidates, totalling 80 fits\n",
      "[0.32227469 0.14320652 0.38841652 ... 0.40076839 0.52859291 0.49460582]\n",
      "Fitting 5 folds for each of 16 candidates, totalling 80 fits\n",
      "[0.33394349 0.16545168 0.35579146 ... 0.40969591 0.52569734 0.4789893 ]\n",
      "0.8439885496183207\n",
      "0.5070682432457516\n",
      "0.507371893772557\n",
      "0.5474490043675856\n",
      "0.4788920860711139\n",
      "\n",
      "0.8632981820534386\n",
      "0.19320351279114165\n",
      "0.5572626539336857\n",
      "0.7430816492565352\n",
      "0.437694745115072\n",
      "\n",
      "0.8394731819049437\n",
      "0.12121212121212122\n",
      "0.5155808685149678\n",
      "0.5613547417087659\n",
      "0.48246676059023735\n"
     ]
    }
   ],
   "source": [
    "from imblearn.over_sampling import SMOTE\n",
    "sm = SMOTE(random_state = 42)\n",
    "co_train_low_sm,out_train_hemorrhage_low_sm = sm.fit_resample(co_train_low,out_train_hemorrhage_low)\n",
    "\n",
    "best_clf = rf(co_train_low_sm, out_train_hemorrhage_low_sm)\n",
    "\n",
    "cross_val(co_train_low_sm, out_train_hemorrhage_low_sm, co_validation_low_split, out_validation_hemorrhage_low_split)\n",
    "#, file = open('hem_smote_rf_ehr.out', 'a')\n",
    "print(\"\")\n",
    "\n",
    "scores(co_train_low, out_train_hemorrhage_low)\n",
    "\n",
    "#, file = open('hem_smote_rf_ehr.out', 'a')\n",
    "print(\"\")\n",
    "\n",
    "scores(co_validation_low, out_validation_hemorrhage_low)\n",
    "\n"
   ]
  },
  {
   "cell_type": "markdown",
   "id": "8578c047",
   "metadata": {},
   "source": [
    "# High Continuity"
   ]
  },
  {
   "cell_type": "code",
   "execution_count": 14,
   "id": "a2720811",
   "metadata": {},
   "outputs": [
    {
     "name": "stdout",
     "output_type": "stream",
     "text": [
      "Fitting 5 folds for each of 16 candidates, totalling 80 fits\n",
      "Fitting 5 folds for each of 16 candidates, totalling 80 fits\n",
      "[0.16611582 0.10144624 0.13581071 ... 0.22487158 0.32069961 0.20830339]\n",
      "Fitting 5 folds for each of 16 candidates, totalling 80 fits\n",
      "[0.20402837 0.10954813 0.11264117 ... 0.23100262 0.30147268 0.17425273]\n",
      "Fitting 5 folds for each of 16 candidates, totalling 80 fits\n",
      "[0.18874732 0.11961381 0.11612141 ... 0.2145962  0.32398177 0.23497526]\n",
      "Fitting 5 folds for each of 16 candidates, totalling 80 fits\n",
      "[0.18602895 0.11702076 0.11266999 ... 0.20476657 0.30668621 0.18179782]\n",
      "Fitting 5 folds for each of 16 candidates, totalling 80 fits\n",
      "[0.1658352  0.10726337 0.11677146 ... 0.20936004 0.34047752 0.19977819]\n",
      "0.9184759916492693\n",
      "0.48506267625652855\n",
      "0.4943454072620536\n",
      "0.7205237979100614\n",
      "0.30704143649244553\n",
      "\n",
      "0.9371271772846576\n",
      "0.19541984732824427\n",
      "0.5594237560410633\n",
      "0.8956777313162342\n",
      "0.25941353875436024\n",
      "\n",
      "0.9187721862601795\n",
      "0.029925187032418945\n",
      "0.5000248273088714\n",
      "0.7125152439912568\n",
      "0.30790587445377277\n"
     ]
    }
   ],
   "source": [
    "from imblearn.over_sampling import SMOTE\n",
    "sm = SMOTE(random_state = 42)\n",
    "co_train_high_sm,out_train_hemorrhage_high_sm = sm.fit_resample(co_train_high,out_train_hemorrhage_high)\n",
    "\n",
    "best_clf = rf(co_train_high_sm, out_train_hemorrhage_high_sm)\n",
    "\n",
    "cross_val(co_train_high_sm, out_train_hemorrhage_high_sm, co_validation_high_split, out_validation_hemorrhage_high_split)\n",
    "#, file = open('hem_smote_rf_ehr.out', 'a')\n",
    "print(\"\")\n",
    "\n",
    "scores(co_train_high, out_train_hemorrhage_high)\n",
    "#, file = open('hem_smote_rf_ehr.out', 'a')\n",
    "print(\"\")\n",
    "\n",
    "scores(co_validation_high, out_validation_hemorrhage_high)\n"
   ]
  },
  {
   "cell_type": "code",
   "execution_count": null,
   "id": "375ae289",
   "metadata": {},
   "outputs": [],
   "source": []
  },
  {
   "cell_type": "code",
   "execution_count": null,
   "id": "b63ac6d2",
   "metadata": {},
   "outputs": [],
   "source": []
  },
  {
   "cell_type": "code",
   "execution_count": null,
   "id": "21a13f04",
   "metadata": {},
   "outputs": [],
   "source": []
  },
  {
   "cell_type": "code",
   "execution_count": null,
   "id": "e065efd3",
   "metadata": {},
   "outputs": [],
   "source": []
  }
 ],
 "metadata": {
  "kernelspec": {
   "display_name": "Python 3",
   "language": "python",
   "name": "python3"
  },
  "language_info": {
   "codemirror_mode": {
    "name": "ipython",
    "version": 3
   },
   "file_extension": ".py",
   "mimetype": "text/x-python",
   "name": "python",
   "nbconvert_exporter": "python",
   "pygments_lexer": "ipython3",
   "version": "3.8.8"
  }
 },
 "nbformat": 4,
 "nbformat_minor": 5
}
