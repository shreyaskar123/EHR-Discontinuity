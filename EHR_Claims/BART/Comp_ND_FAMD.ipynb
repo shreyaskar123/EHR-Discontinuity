{
 "cells": [
  {
   "cell_type": "code",
   "execution_count": 1,
   "id": "81991888",
   "metadata": {},
   "outputs": [],
   "source": [
    "import pandas as pd"
   ]
  },
  {
   "cell_type": "code",
   "execution_count": 2,
   "id": "f6955718",
   "metadata": {},
   "outputs": [],
   "source": [
    "medicare = pd.read_csv(\"/netapp2/home/se197/data/CMS/Data/medicare.csv\")"
   ]
  },
  {
   "cell_type": "code",
   "execution_count": 3,
   "id": "fae33ccd",
   "metadata": {},
   "outputs": [],
   "source": [
    "train_set = medicare[medicare.Hospital != 'BWH'] # MGH\n",
    "validation_set = medicare[medicare.Hospital == 'BWH'] # BWH and Neither \n",
    "import numpy as np\n",
    "\n",
    "fifty_perc_EHR_cont = np.percentile(medicare['Cal_MPEC_R0'],50)\n",
    "train_set_high = train_set[train_set.Cal_MPEC_R0 >= fifty_perc_EHR_cont]\n",
    "train_set_low= train_set[train_set.Cal_MPEC_R0 < fifty_perc_EHR_cont]\n",
    "\n",
    "validation_set_high = validation_set[validation_set.Cal_MPEC_R0 >= fifty_perc_EHR_cont]\n",
    "validation_set_low = validation_set[validation_set.Cal_MPEC_R0 < fifty_perc_EHR_cont]"
   ]
  },
  {
   "cell_type": "code",
   "execution_count": 4,
   "id": "2a2ddd56",
   "metadata": {},
   "outputs": [
    {
     "data": {
      "text/plain": [
       "125"
      ]
     },
     "execution_count": 4,
     "metadata": {},
     "output_type": "execute_result"
    }
   ],
   "source": [
    "predictor_variable = [\n",
    "    'Co_CAD_RC0', 'Co_Embolism_RC0', 'Co_DVT_RC0', 'Co_PE_RC0', 'Co_AFib_RC0',\n",
    "        'Co_Hypertension_RC0', 'Co_Hyperlipidemia_RC0', 'Co_Atherosclerosis_RC0',\n",
    "        'Co_HF_RC0', 'Co_HemoStroke_RC0', 'Co_IscheStroke_RC0', 'Co_OthStroke_RC0',\n",
    "        'Co_TIA_RC0', 'Co_COPD_RC0', 'Co_Asthma_RC0', 'Co_Pneumonia_RC0', 'Co_Alcoholabuse_RC0',\n",
    "        'Co_Drugabuse_RC0', 'Co_Epilepsy_RC0', 'Co_Cancer_RC0', 'Co_MorbidObesity_RC0',\n",
    "        'Co_Dementia_RC0', 'Co_Depression_RC0', 'Co_Bipolar_RC0', 'Co_Psychosis_RC0',\n",
    "        'Co_Personalitydisorder_RC0', 'Co_Adjustmentdisorder_RC0', 'Co_Anxiety_RC0',\n",
    "        'Co_Generalizedanxiety_RC0', 'Co_OldMI_RC0', 'Co_AcuteMI_RC0', 'Co_PUD_RC0',\n",
    "        'Co_UpperGIbleed_RC0', 'Co_LowerGIbleed_RC0', 'Co_Urogenitalbleed_RC0',\n",
    "        'Co_Othbleed_RC0', 'Co_PVD_RC0', 'Co_LiverDisease_RC0', 'Co_MRI_RC0',\n",
    "        'Co_ESRD_RC0', 'Co_Obesity_RC0', 'Co_Sepsis_RC0', 'Co_Osteoarthritis_RC0',\n",
    "        'Co_RA_RC0', 'Co_NeuroPain_RC0', 'Co_NeckPain_RC0', 'Co_OthArthritis_RC0',\n",
    "        'Co_Osteoporosis_RC0', 'Co_Fibromyalgia_RC0', 'Co_Migraine_RC0', 'Co_Headache_RC0',\n",
    "        'Co_OthPain_RC0', 'Co_GeneralizedPain_RC0', 'Co_PainDisorder_RC0',\n",
    "        'Co_Falls_RC0', 'Co_CoagulationDisorder_RC0', 'Co_WhiteBloodCell_RC0', 'Co_Parkinson_RC0',\n",
    "        'Co_Anemia_RC0', 'Co_UrinaryIncontinence_RC0', 'Co_DecubitusUlcer_RC0',\n",
    "        'Co_Oxygen_RC0', 'Co_Mammography_RC0', 'Co_PapTest_RC0', 'Co_PSATest_RC0',\n",
    "        'Co_Colonoscopy_RC0', 'Co_FecalOccultTest_RC0', 'Co_FluShot_RC0', 'Co_PneumococcalVaccine_RC0' , 'Co_RenalDysfunction_RC0', 'Co_Valvular_RC0', 'Co_Hosp_Prior30Days_RC0',\n",
    "        'Co_RX_Antibiotic_RC0', 'Co_RX_Corticosteroid_RC0', 'Co_RX_Aspirin_RC0', 'Co_RX_Dipyridamole_RC0',\n",
    "        'Co_RX_Clopidogrel_RC0', 'Co_RX_Prasugrel_RC0', 'Co_RX_Cilostazol_RC0', 'Co_RX_Ticlopidine_RC0',\n",
    "        'Co_RX_Ticagrelor_RC0', 'Co_RX_OthAntiplatelet_RC0', 'Co_RX_NSAIDs_RC0',\n",
    "        'Co_RX_Opioid_RC0', 'Co_RX_Antidepressant_RC0', 'Co_RX_AAntipsychotic_RC0', 'Co_RX_TAntipsychotic_RC0',\n",
    "        'Co_RX_Anticonvulsant_RC0', 'Co_RX_PPI_RC0', 'Co_RX_H2Receptor_RC0', 'Co_RX_OthGastro_RC0',\n",
    "        'Co_RX_ACE_RC0', 'Co_RX_ARB_RC0', 'Co_RX_BBlocker_RC0', 'Co_RX_CCB_RC0', 'Co_RX_Thiazide_RC0',\n",
    "        'Co_RX_Loop_RC0', 'Co_RX_Potassium_RC0', 'Co_RX_Nitrates_RC0', 'Co_RX_Aliskiren_RC0',\n",
    "        'Co_RX_OthAntihypertensive_RC0', 'Co_RX_Antiarrhythmic_RC0', 'Co_RX_OthAnticoagulant_RC0',\n",
    "        'Co_RX_Insulin_RC0', 'Co_RX_Noninsulin_RC0', 'Co_RX_Digoxin_RC0', 'Co_RX_Statin_RC0',\n",
    "        'Co_RX_Lipid_RC0', 'Co_RX_Lithium_RC0', 'Co_RX_Benzo_RC0', 'Co_RX_ZDrugs_RC0',\n",
    "        'Co_RX_OthAnxiolytic_RC0', 'Co_RX_Dementia_RC0', 'Co_RX_Hormone_RC0',\n",
    "        'Co_RX_Osteoporosis_RC0', 'Co_N_Drugs_RC0', 'Co_N_Hosp_RC0', 'Co_Total_HospLOS_RC0',\n",
    "        'Co_N_MDVisit_RC0', 'Co_RX_AnyAspirin_RC0', 'Co_RX_AspirinMono_RC0', 'Co_RX_ClopidogrelMono_RC0',\n",
    "        'Co_RX_AspirinClopidogrel_RC0', 'Co_RX_DM_RC0', 'Co_RX_Antipsychotic_RC0'\n",
    "]\n",
    "\n",
    "co_train_gpop = train_set[predictor_variable]\n",
    "co_train_high = train_set_high[predictor_variable]\n",
    "co_train_low = train_set_low[predictor_variable]\n",
    "\n",
    "co_validation_gpop = validation_set[predictor_variable]\n",
    "co_validation_high = validation_set_high[predictor_variable]\n",
    "co_validation_low = validation_set_low[predictor_variable]\n",
    "len(predictor_variable)\n",
    "\n"
   ]
  },
  {
   "cell_type": "code",
   "execution_count": 5,
   "id": "b135ec1a",
   "metadata": {},
   "outputs": [],
   "source": [
    "out_train_cardio_gpop = train_set['Out_comp_cardiovascular_nd_RC1']\n",
    "out_train_cardio_high = train_set_high['Out_comp_cardiovascular_nd_RC1']\n",
    "out_train_cardio_low = train_set_low['Out_comp_cardiovascular_nd_RC1']\n",
    "\n",
    "out_validation_cardio_gpop = validation_set['Out_comp_cardiovascular_nd_RC1']\n",
    "out_validation_cardio_high = validation_set_high['Out_comp_cardiovascular_nd_RC1']\n",
    "out_validation_cardio_low = validation_set_low['Out_comp_cardiovascular_nd_RC1']"
   ]
  },
  {
   "cell_type": "code",
   "execution_count": 6,
   "id": "4b8171fa",
   "metadata": {},
   "outputs": [],
   "source": [
    "def bart(X_train, y_train):\n",
    "    from bartpy.sklearnmodel import SklearnModel\n",
    "    from sklearn.model_selection import GridSearchCV\n",
    "    from bartpy.data import Data\n",
    "    from bartpy.sigma import Sigma\n",
    "    param_grid = [{\n",
    "        'n_trees': [10,30,50]\n",
    "    }]\n",
    "    model = SklearnModel()\n",
    "    clf = GridSearchCV(estimator = model, param_grid = param_grid, n_jobs = 10, verbose = True)\n",
    "    best_clf = clf.fit(X_train, y_train.to_numpy())\n",
    "    return best_clf"
   ]
  },
  {
   "cell_type": "code",
   "execution_count": 7,
   "id": "ac69e91b",
   "metadata": {},
   "outputs": [],
   "source": [
    "\"\"\"\n",
    "def scores(X_train,y_train, best_clf):\n",
    "    from sklearn.metrics import accuracy_score\n",
    "    from sklearn.metrics import f1_score\n",
    "    from sklearn.metrics import fbeta_score\n",
    "    from sklearn.metrics import roc_auc_score \n",
    "    from sklearn.metrics import log_loss\n",
    "    import numpy as np\n",
    "    pred = np.round(best_clf.predict(X_train))\n",
    "    print(pred)\n",
    "    actual = y_train\n",
    "    print(accuracy_score(actual,pred))\n",
    "    print(f1_score(actual,pred))\n",
    "    print(fbeta_score(actual,pred, average = 'macro', beta = 2))\n",
    "    print(roc_auc_score(actual, best_clf.predict(X_train)))\n",
    "    print(log_loss(actual,pred))\n",
    "\"\"\"\n",
    "def scores(X,y):\n",
    "    from sklearn.metrics import accuracy_score\n",
    "    from sklearn.metrics import f1_score\n",
    "    from sklearn.metrics import fbeta_score\n",
    "    from sklearn.metrics import roc_auc_score \n",
    "    from sklearn.metrics import log_loss\n",
    "\n",
    "    pred = best_clf.predict(X)\n",
    "    actual = y\n",
    "    print(accuracy_score(actual,np.round(pred)))\n",
    "    print(f1_score(actual,np.round(pred)))\n",
    "    print(fbeta_score(actual,np.round(pred), average = 'macro', beta = 2))\n",
    "    print(roc_auc_score(actual, best_clf.predict(X)))\n",
    "    print(log_loss(actual,best_clf.predict(X)))\n",
    "    \n"
   ]
  },
  {
   "cell_type": "code",
   "execution_count": 8,
   "id": "611db64b",
   "metadata": {},
   "outputs": [],
   "source": [
    "def cross_val(X,y):\n",
    "    from sklearn.model_selection import KFold\n",
    "    from sklearn.model_selection import cross_validate\n",
    "    from sklearn.metrics import log_loss\n",
    "    from sklearn.metrics import roc_auc_score\n",
    "    from sklearn.metrics import fbeta_score\n",
    "    import sklearn\n",
    "    import numpy as np\n",
    "    cv = KFold(n_splits=5, random_state=1, shuffle=True)\n",
    "    log_loss = [] \n",
    "    auc = [] \n",
    "    accuracy = []\n",
    "    f1 = []\n",
    "    f2 = [] \n",
    "    for train_index, test_index in cv.split(X):\n",
    "        X_train, X_test, y_train, y_test = X.iloc[train_index], X.iloc[test_index], y.iloc[train_index], y.iloc[test_index]\n",
    "        model = bart(X_train, y_train)\n",
    "        prob = model.predict(X_test) # prob is a vector of probabilities \n",
    "        pred = np.round(model.predict(X_test)) # pred is the rounded predictions \n",
    "        log_loss.append(sklearn.metrics.log_loss(y_test, prob))\n",
    "        auc.append(sklearn.metrics.roc_auc_score(y_test, prob))\n",
    "        accuracy.append(sklearn.metrics.accuracy_score(y_test, pred))\n",
    "        f1.append(sklearn.metrics.f1_score(y_test, pred, average = 'macro'))\n",
    "        f2.append(fbeta_score(y_test,pred, average = 'macro', beta = 2))\n",
    "    print(np.mean(accuracy))\n",
    "    print(np.mean(f1))\n",
    "    print(np.mean(f2))\n",
    "    print(np.mean(auc))\n",
    "    print(np.mean(log_loss))"
   ]
  },
  {
   "cell_type": "code",
   "execution_count": 9,
   "id": "93331bb0",
   "metadata": {},
   "outputs": [
    {
     "name": "stderr",
     "output_type": "stream",
     "text": [
      "/PHShome/se197/anaconda3/lib/python3.8/site-packages/pandas/core/series.py:4509: SettingWithCopyWarning: \n",
      "A value is trying to be set on a copy of a slice from a DataFrame\n",
      "\n",
      "See the caveats in the documentation: https://pandas.pydata.org/pandas-docs/stable/user_guide/indexing.html#returning-a-view-versus-a-copy\n",
      "  return super().replace(\n"
     ]
    }
   ],
   "source": [
    "from prince import FAMD\n",
    "famd = FAMD(n_components = 15, n_iter = 3, random_state = 101)\n",
    "\n",
    "for (colName, colData) in co_train_gpop.iteritems():\n",
    "    if (colName != 'Co_N_Drugs_RC0' and colName!= 'Co_N_Hosp_RC0' and colName != 'Co_Total_HospLOS_RC0' and colName != 'Co_N_MDVisit_RC0'):\n",
    "        co_train_gpop[colName].replace((1,0) ,('yes','no'), inplace = True)\n",
    "        co_train_low[colName].replace((1,0) ,('yes','no'), inplace = True)\n",
    "        co_train_high[colName].replace((1,0) ,('yes','no'), inplace = True)\n",
    "        co_validation_gpop[colName].replace((1,0), ('yes','no'), inplace = True)\n",
    "        co_validation_high[colName].replace((1,0), ('yes','no'), inplace = True)\n",
    "        co_validation_low[colName].replace((1,0), ('yes','no'), inplace = True)\n",
    "\n",
    "\n",
    "\n",
    "\n",
    "famd.fit(co_train_gpop)\n",
    "co_train_gpop_FAMD = famd.transform(co_train_gpop)  \n",
    "\n",
    "famd.fit(co_train_high)\n",
    "co_train_high_FAMD = famd.transform(co_train_high)  \n",
    "\n",
    "famd.fit(co_train_low)\n",
    "co_train_low_FAMD = famd.transform(co_train_low)  \n",
    "\n",
    "famd.fit(co_validation_gpop)\n",
    "co_validation_gpop_FAMD = famd.transform(co_validation_gpop)    \n",
    "\n",
    "famd.fit(co_validation_high)\n",
    "co_validation_high_FAMD = famd.transform(co_validation_high)    \n",
    "\n",
    "famd.fit(co_validation_low)\n",
    "co_validation_low_FAMD = famd.transform(co_validation_low)    \n",
    "\n"
   ]
  },
  {
   "cell_type": "code",
   "execution_count": 10,
   "id": "d57a6cc4",
   "metadata": {
    "scrolled": true
   },
   "outputs": [
    {
     "name": "stdout",
     "output_type": "stream",
     "text": [
      "Fitting 5 folds for each of 3 candidates, totalling 15 fits\n"
     ]
    },
    {
     "name": "stderr",
     "output_type": "stream",
     "text": [
      "/PHShome/se197/anaconda3/lib/python3.8/site-packages/sklearn/model_selection/_search.py:918: UserWarning: One or more of the test scores are non-finite: [       nan        nan 0.01377992]\n",
      "  warnings.warn(\n"
     ]
    },
    {
     "name": "stdout",
     "output_type": "stream",
     "text": [
      "Fitting 5 folds for each of 3 candidates, totalling 15 fits\n"
     ]
    },
    {
     "name": "stderr",
     "output_type": "stream",
     "text": [
      "/PHShome/se197/anaconda3/lib/python3.8/site-packages/sklearn/model_selection/_search.py:918: UserWarning: One or more of the test scores are non-finite: [0.00828553        nan 0.01295875]\n",
      "  warnings.warn(\n"
     ]
    },
    {
     "name": "stdout",
     "output_type": "stream",
     "text": [
      "Fitting 5 folds for each of 3 candidates, totalling 15 fits\n"
     ]
    },
    {
     "name": "stderr",
     "output_type": "stream",
     "text": [
      "/PHShome/se197/anaconda3/lib/python3.8/site-packages/sklearn/model_selection/_search.py:918: UserWarning: One or more of the test scores are non-finite: [       nan        nan 0.01492132]\n",
      "  warnings.warn(\n"
     ]
    },
    {
     "name": "stdout",
     "output_type": "stream",
     "text": [
      "Fitting 5 folds for each of 3 candidates, totalling 15 fits\n"
     ]
    },
    {
     "name": "stderr",
     "output_type": "stream",
     "text": [
      "/PHShome/se197/anaconda3/lib/python3.8/site-packages/sklearn/model_selection/_search.py:918: UserWarning: One or more of the test scores are non-finite: [0.00818547        nan 0.0122879 ]\n",
      "  warnings.warn(\n"
     ]
    },
    {
     "name": "stdout",
     "output_type": "stream",
     "text": [
      "Fitting 5 folds for each of 3 candidates, totalling 15 fits\n"
     ]
    },
    {
     "name": "stderr",
     "output_type": "stream",
     "text": [
      "/PHShome/se197/anaconda3/lib/python3.8/site-packages/sklearn/model_selection/_search.py:918: UserWarning: One or more of the test scores are non-finite: [nan nan nan]\n",
      "  warnings.warn(\n"
     ]
    },
    {
     "name": "stdout",
     "output_type": "stream",
     "text": [
      "Fitting 5 folds for each of 3 candidates, totalling 15 fits\n"
     ]
    },
    {
     "name": "stderr",
     "output_type": "stream",
     "text": [
      "/PHShome/se197/anaconda3/lib/python3.8/site-packages/sklearn/model_selection/_search.py:918: UserWarning: One or more of the test scores are non-finite: [       nan 0.0127371  0.01378092]\n",
      "  warnings.warn(\n"
     ]
    },
    {
     "name": "stdout",
     "output_type": "stream",
     "text": [
      "0.9595605705345186\n",
      "0.48968120959870365\n",
      "0.49582065863205027\n",
      "0.6666138614046921\n",
      "0.16277621600186049\n",
      "\n",
      "0.9590147586757081\n",
      "0.0\n",
      "0.4957625371164632\n",
      "0.5676343114016213\n",
      "0.18260696984782657\n",
      "0:40:06.012619\n"
     ]
    }
   ],
   "source": [
    "import datetime\n",
    "begin_time = datetime.datetime.now()\n",
    "\n",
    "best_clf = bart(co_train_gpop_FAMD,out_train_cardio_gpop)\n",
    "cross_val(co_train_gpop_FAMD,out_train_cardio_gpop)\n",
    "print()\n",
    "scores(co_validation_gpop_FAMD, out_validation_cardio_gpop)\n",
    "\n",
    "print(datetime.datetime.now() - begin_time)\n"
   ]
  },
  {
   "cell_type": "code",
   "execution_count": 11,
   "id": "13c4e77d",
   "metadata": {},
   "outputs": [
    {
     "name": "stdout",
     "output_type": "stream",
     "text": [
      "Fitting 5 folds for each of 3 candidates, totalling 15 fits\n",
      "Fitting 5 folds for each of 3 candidates, totalling 15 fits\n",
      "Fitting 5 folds for each of 3 candidates, totalling 15 fits\n",
      "Fitting 5 folds for each of 3 candidates, totalling 15 fits\n",
      "Fitting 5 folds for each of 3 candidates, totalling 15 fits\n"
     ]
    },
    {
     "name": "stderr",
     "output_type": "stream",
     "text": [
      "/PHShome/se197/anaconda3/lib/python3.8/site-packages/sklearn/model_selection/_search.py:918: UserWarning: One or more of the test scores are non-finite: [0.00340756        nan 0.0069923 ]\n",
      "  warnings.warn(\n"
     ]
    },
    {
     "name": "stdout",
     "output_type": "stream",
     "text": [
      "Fitting 5 folds for each of 3 candidates, totalling 15 fits\n",
      "0.9503138938193469\n",
      "0.48726172816057833\n",
      "0.49482551970341404\n",
      "0.6393347198605696\n",
      "0.19385944819534612\n",
      "\n",
      "0.9501813323153273\n",
      "0.0\n",
      "0.4948113395093634\n",
      "0.5596088305786842\n",
      "0.20409852543847093\n",
      "0:32:36.225464\n"
     ]
    }
   ],
   "source": [
    "import datetime\n",
    "begin_time = datetime.datetime.now()\n",
    "\n",
    "best_clf = bart(co_train_low_FAMD,out_train_cardio_low)\n",
    "cross_val(co_train_low_FAMD,out_train_cardio_low)\n",
    "print()\n",
    "scores(co_validation_low_FAMD,out_validation_cardio_low)\n",
    "\n",
    "print(datetime.datetime.now() - begin_time)\n"
   ]
  },
  {
   "cell_type": "code",
   "execution_count": null,
   "id": "2f54d34e",
   "metadata": {},
   "outputs": [
    {
     "name": "stdout",
     "output_type": "stream",
     "text": [
      "Fitting 5 folds for each of 3 candidates, totalling 15 fits\n"
     ]
    },
    {
     "name": "stderr",
     "output_type": "stream",
     "text": [
      "/PHShome/se197/anaconda3/lib/python3.8/site-packages/sklearn/model_selection/_search.py:918: UserWarning: One or more of the test scores are non-finite: [       nan 0.01230093        nan]\n",
      "  warnings.warn(\n"
     ]
    },
    {
     "name": "stdout",
     "output_type": "stream",
     "text": [
      "Fitting 5 folds for each of 3 candidates, totalling 15 fits\n",
      "Fitting 5 folds for each of 3 candidates, totalling 15 fits\n"
     ]
    }
   ],
   "source": [
    "import datetime\n",
    "begin_time = datetime.datetime.now()\n",
    "\n",
    "best_clf = bart(co_train_high_FAMD,out_train_cardio_high)\n",
    "cross_val(co_train_high_FAMD,out_train_cardio_high)\n",
    "print()\n",
    "scores(co_validation_high_FAMD,out_validation_cardio_high)\n",
    "\n",
    "print(datetime.datetime.now() - begin_time)\n"
   ]
  },
  {
   "cell_type": "code",
   "execution_count": null,
   "id": "f767f78c",
   "metadata": {},
   "outputs": [],
   "source": []
  },
  {
   "cell_type": "code",
   "execution_count": null,
   "id": "a34a47d2",
   "metadata": {},
   "outputs": [],
   "source": []
  },
  {
   "cell_type": "code",
   "execution_count": null,
   "id": "01c008cd",
   "metadata": {},
   "outputs": [],
   "source": []
  }
 ],
 "metadata": {
  "kernelspec": {
   "display_name": "Python 3",
   "language": "python",
   "name": "python3"
  },
  "language_info": {
   "codemirror_mode": {
    "name": "ipython",
    "version": 3
   },
   "file_extension": ".py",
   "mimetype": "text/x-python",
   "name": "python",
   "nbconvert_exporter": "python",
   "pygments_lexer": "ipython3",
   "version": "3.8.8"
  }
 },
 "nbformat": 4,
 "nbformat_minor": 5
}
