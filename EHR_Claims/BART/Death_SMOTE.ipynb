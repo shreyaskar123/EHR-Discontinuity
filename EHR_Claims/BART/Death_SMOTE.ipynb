{
 "cells": [
  {
   "cell_type": "code",
   "execution_count": 8,
   "id": "6d8c96db",
   "metadata": {},
   "outputs": [],
   "source": [
    "import pandas as pd\n",
    "medicare = pd.read_csv(\"/netapp2/home/se197/data/CMS/Data/medicare.csv\")"
   ]
  },
  {
   "cell_type": "code",
   "execution_count": 9,
   "id": "d20796df",
   "metadata": {},
   "outputs": [],
   "source": [
    "train_set = medicare[medicare.Hospital != 'BWH'] # MGH\n",
    "validation_set = medicare[medicare.Hospital == 'BWH'] # BWH and Neither \n",
    "import numpy as np\n",
    "\n",
    "fifty_perc_EHR_cont = np.percentile(medicare['Cal_MPEC_R0'],50)\n",
    "train_set_high = train_set[train_set.Cal_MPEC_R0 >= fifty_perc_EHR_cont]\n",
    "train_set_low= train_set[train_set.Cal_MPEC_R0 < fifty_perc_EHR_cont]\n",
    "\n",
    "validation_set_high = validation_set[validation_set.Cal_MPEC_R0 >= fifty_perc_EHR_cont]\n",
    "validation_set_low = validation_set[validation_set.Cal_MPEC_R0 < fifty_perc_EHR_cont]"
   ]
  },
  {
   "cell_type": "code",
   "execution_count": 10,
   "id": "e6e3b8ad",
   "metadata": {},
   "outputs": [
    {
     "data": {
      "text/plain": [
       "125"
      ]
     },
     "execution_count": 10,
     "metadata": {},
     "output_type": "execute_result"
    }
   ],
   "source": [
    "predictor_variable = [\n",
    "    'Co_CAD_RC0', 'Co_Embolism_RC0', 'Co_DVT_RC0', 'Co_PE_RC0', 'Co_AFib_RC0',\n",
    "        'Co_Hypertension_RC0', 'Co_Hyperlipidemia_RC0', 'Co_Atherosclerosis_RC0',\n",
    "        'Co_HF_RC0', 'Co_HemoStroke_RC0', 'Co_IscheStroke_RC0', 'Co_OthStroke_RC0',\n",
    "        'Co_TIA_RC0', 'Co_COPD_RC0', 'Co_Asthma_RC0', 'Co_Pneumonia_RC0', 'Co_Alcoholabuse_RC0',\n",
    "        'Co_Drugabuse_RC0', 'Co_Epilepsy_RC0', 'Co_Cancer_RC0', 'Co_MorbidObesity_RC0',\n",
    "        'Co_Dementia_RC0', 'Co_Depression_RC0', 'Co_Bipolar_RC0', 'Co_Psychosis_RC0',\n",
    "        'Co_Personalitydisorder_RC0', 'Co_Adjustmentdisorder_RC0', 'Co_Anxiety_RC0',\n",
    "        'Co_Generalizedanxiety_RC0', 'Co_OldMI_RC0', 'Co_AcuteMI_RC0', 'Co_PUD_RC0',\n",
    "        'Co_UpperGIbleed_RC0', 'Co_LowerGIbleed_RC0', 'Co_Urogenitalbleed_RC0',\n",
    "        'Co_Othbleed_RC0', 'Co_PVD_RC0', 'Co_LiverDisease_RC0', 'Co_MRI_RC0',\n",
    "        'Co_ESRD_RC0', 'Co_Obesity_RC0', 'Co_Sepsis_RC0', 'Co_Osteoarthritis_RC0',\n",
    "        'Co_RA_RC0', 'Co_NeuroPain_RC0', 'Co_NeckPain_RC0', 'Co_OthArthritis_RC0',\n",
    "        'Co_Osteoporosis_RC0', 'Co_Fibromyalgia_RC0', 'Co_Migraine_RC0', 'Co_Headache_RC0',\n",
    "        'Co_OthPain_RC0', 'Co_GeneralizedPain_RC0', 'Co_PainDisorder_RC0',\n",
    "        'Co_Falls_RC0', 'Co_CoagulationDisorder_RC0', 'Co_WhiteBloodCell_RC0', 'Co_Parkinson_RC0',\n",
    "        'Co_Anemia_RC0', 'Co_UrinaryIncontinence_RC0', 'Co_DecubitusUlcer_RC0',\n",
    "        'Co_Oxygen_RC0', 'Co_Mammography_RC0', 'Co_PapTest_RC0', 'Co_PSATest_RC0',\n",
    "        'Co_Colonoscopy_RC0', 'Co_FecalOccultTest_RC0', 'Co_FluShot_RC0', 'Co_PneumococcalVaccine_RC0' , 'Co_RenalDysfunction_RC0', 'Co_Valvular_RC0', 'Co_Hosp_Prior30Days_RC0',\n",
    "        'Co_RX_Antibiotic_RC0', 'Co_RX_Corticosteroid_RC0', 'Co_RX_Aspirin_RC0', 'Co_RX_Dipyridamole_RC0',\n",
    "        'Co_RX_Clopidogrel_RC0', 'Co_RX_Prasugrel_RC0', 'Co_RX_Cilostazol_RC0', 'Co_RX_Ticlopidine_RC0',\n",
    "        'Co_RX_Ticagrelor_RC0', 'Co_RX_OthAntiplatelet_RC0', 'Co_RX_NSAIDs_RC0',\n",
    "        'Co_RX_Opioid_RC0', 'Co_RX_Antidepressant_RC0', 'Co_RX_AAntipsychotic_RC0', 'Co_RX_TAntipsychotic_RC0',\n",
    "        'Co_RX_Anticonvulsant_RC0', 'Co_RX_PPI_RC0', 'Co_RX_H2Receptor_RC0', 'Co_RX_OthGastro_RC0',\n",
    "        'Co_RX_ACE_RC0', 'Co_RX_ARB_RC0', 'Co_RX_BBlocker_RC0', 'Co_RX_CCB_RC0', 'Co_RX_Thiazide_RC0',\n",
    "        'Co_RX_Loop_RC0', 'Co_RX_Potassium_RC0', 'Co_RX_Nitrates_RC0', 'Co_RX_Aliskiren_RC0',\n",
    "        'Co_RX_OthAntihypertensive_RC0', 'Co_RX_Antiarrhythmic_RC0', 'Co_RX_OthAnticoagulant_RC0',\n",
    "        'Co_RX_Insulin_RC0', 'Co_RX_Noninsulin_RC0', 'Co_RX_Digoxin_RC0', 'Co_RX_Statin_RC0',\n",
    "        'Co_RX_Lipid_RC0', 'Co_RX_Lithium_RC0', 'Co_RX_Benzo_RC0', 'Co_RX_ZDrugs_RC0',\n",
    "        'Co_RX_OthAnxiolytic_RC0', 'Co_RX_Dementia_RC0', 'Co_RX_Hormone_RC0',\n",
    "        'Co_RX_Osteoporosis_RC0', 'Co_N_Drugs_RC0', 'Co_N_Hosp_RC0', 'Co_Total_HospLOS_RC0',\n",
    "        'Co_N_MDVisit_RC0', 'Co_RX_AnyAspirin_RC0', 'Co_RX_AspirinMono_RC0', 'Co_RX_ClopidogrelMono_RC0',\n",
    "        'Co_RX_AspirinClopidogrel_RC0', 'Co_RX_DM_RC0', 'Co_RX_Antipsychotic_RC0'\n",
    "]\n",
    "\n",
    "co_train_gpop = train_set[predictor_variable]\n",
    "co_train_high = train_set_high[predictor_variable]\n",
    "co_train_low = train_set_low[predictor_variable]\n",
    "\n",
    "co_validation_gpop = validation_set[predictor_variable]\n",
    "co_validation_high = validation_set_high[predictor_variable]\n",
    "co_validation_low = validation_set_low[predictor_variable]\n",
    "len(predictor_variable)\n",
    "\n"
   ]
  },
  {
   "cell_type": "code",
   "execution_count": 11,
   "id": "e2f5a4db",
   "metadata": {},
   "outputs": [],
   "source": [
    "out_train_death_gpop = train_set['ehr_claims_death']\n",
    "out_train_death_high = train_set_high['ehr_claims_death']\n",
    "out_train_death_low = train_set_low['ehr_claims_death']\n",
    "\n",
    "out_validation_death_gpop = validation_set['ehr_claims_death']\n",
    "out_validation_death_high = validation_set_high['ehr_claims_death']\n",
    "out_validation_death_low = validation_set_low['ehr_claims_death']"
   ]
  },
  {
   "cell_type": "code",
   "execution_count": 12,
   "id": "8dad1869",
   "metadata": {},
   "outputs": [],
   "source": [
    "def bart(X_train, y_train):\n",
    "    from bartpy.sklearnmodel import SklearnModel\n",
    "    from sklearn.model_selection import GridSearchCV\n",
    "    from bartpy.data import Data\n",
    "    from bartpy.sigma import Sigma\n",
    "    param_grid = [{\n",
    "        'n_trees': [10,30,50] #\n",
    "    }]\n",
    "    model = SklearnModel()\n",
    "    clf = GridSearchCV(estimator = model, param_grid = param_grid, n_jobs = 10, verbose = True)\n",
    "    best_clf = clf.fit(X_train, y_train.to_numpy())\n",
    "    print(best_clf)\n",
    "    return best_clf "
   ]
  },
  {
   "cell_type": "code",
   "execution_count": 13,
   "id": "7273b77b",
   "metadata": {},
   "outputs": [],
   "source": [
    "def scores(X_train,y_train, best_clf):\n",
    "    from sklearn.metrics import accuracy_score\n",
    "    from sklearn.metrics import f1_score\n",
    "    from sklearn.metrics import fbeta_score\n",
    "    from sklearn.metrics import roc_auc_score \n",
    "    from sklearn.metrics import log_loss\n",
    "    import numpy as np\n",
    "    pred = np.round(best_clf.predict(X_train))\n",
    "    print(pred)\n",
    "    actual = y_train\n",
    "    print(accuracy_score(actual,pred))\n",
    "    print(f1_score(actual,pred))\n",
    "    print(fbeta_score(actual,pred, average = 'macro', beta = 2))\n",
    "    print(roc_auc_score(actual, best_clf.predict(X_train)))\n",
    "    print(log_loss(actual,best_clf.predict(X_train)))"
   ]
  },
  {
   "cell_type": "code",
   "execution_count": 14,
   "id": "a406d5cc",
   "metadata": {},
   "outputs": [],
   "source": [
    "def cross_val(X,y):\n",
    "    from sklearn.model_selection import KFold\n",
    "    from sklearn.model_selection import cross_validate\n",
    "    from sklearn.metrics import log_loss\n",
    "    from sklearn.metrics import roc_auc_score\n",
    "    from sklearn.metrics import fbeta_score\n",
    "    import sklearn\n",
    "    import numpy as np\n",
    "    cv = KFold(n_splits=5, random_state=1, shuffle=True)\n",
    "    log_loss = [] \n",
    "    auc = [] \n",
    "    accuracy = []\n",
    "    f1 = []\n",
    "    f2 = [] \n",
    "    for train_index, test_index in cv.split(X):\n",
    "        X_train, X_test, y_train, y_test = X.iloc[train_index], X.iloc[test_index], y.iloc[train_index], y.iloc[test_index]\n",
    "        model = bart(X_train, y_train)\n",
    "        prob = model.predict(X_test) # prob is a vector of probabilities \n",
    "        pred = np.round(model.predict(X_test)) # pred is the rounded predictions \n",
    "        log_loss.append(sklearn.metrics.log_loss(y_test, prob))\n",
    "        auc.append(sklearn.metrics.roc_auc_score(y_test, prob))\n",
    "        accuracy.append(sklearn.metrics.accuracy_score(y_test, pred))\n",
    "        f1.append(sklearn.metrics.f1_score(y_test, pred, average = 'macro'))\n",
    "        f2.append(fbeta_score(y_test,pred, average = 'macro', beta = 2))\n",
    "    print(np.mean(accuracy))\n",
    "    print(np.mean(f1))\n",
    "    print(np.mean(f2))\n",
    "    print(np.mean(auc))\n",
    "    print(np.mean(log_loss))"
   ]
  },
  {
   "cell_type": "code",
   "execution_count": 15,
   "id": "f4cece11",
   "metadata": {
    "scrolled": true
   },
   "outputs": [
    {
     "name": "stdout",
     "output_type": "stream",
     "text": [
      "Fitting 5 folds for each of 3 candidates, totalling 15 fits\n"
     ]
    },
    {
     "name": "stderr",
     "output_type": "stream",
     "text": [
      "/PHShome/se197/anaconda3/lib/python3.8/site-packages/sklearn/model_selection/_search.py:918: UserWarning: One or more of the test scores are non-finite: [0.01175388        nan 0.16642552]\n",
      "  warnings.warn(\n"
     ]
    },
    {
     "name": "stdout",
     "output_type": "stream",
     "text": [
      "GridSearchCV(estimator=SklearnModel(), n_jobs=10,\n",
      "             param_grid=[{'n_trees': [10, 30, 50]}], verbose=True)\n",
      "Fitting 5 folds for each of 3 candidates, totalling 15 fits\n"
     ]
    },
    {
     "name": "stderr",
     "output_type": "stream",
     "text": [
      "/PHShome/se197/anaconda3/lib/python3.8/site-packages/sklearn/model_selection/_search.py:918: UserWarning: One or more of the test scores are non-finite: [-0.01138059         nan  0.1620341 ]\n",
      "  warnings.warn(\n"
     ]
    },
    {
     "name": "stdout",
     "output_type": "stream",
     "text": [
      "GridSearchCV(estimator=SklearnModel(), n_jobs=10,\n",
      "             param_grid=[{'n_trees': [10, 30, 50]}], verbose=True)\n",
      "Fitting 5 folds for each of 3 candidates, totalling 15 fits\n",
      "GridSearchCV(estimator=SklearnModel(), n_jobs=10,\n",
      "             param_grid=[{'n_trees': [10, 30, 50]}], verbose=True)\n",
      "Fitting 5 folds for each of 3 candidates, totalling 15 fits\n"
     ]
    },
    {
     "name": "stderr",
     "output_type": "stream",
     "text": [
      "/PHShome/se197/anaconda3/lib/python3.8/site-packages/sklearn/model_selection/_search.py:918: UserWarning: One or more of the test scores are non-finite: [0.02402406 0.13524671        nan]\n",
      "  warnings.warn(\n"
     ]
    },
    {
     "name": "stdout",
     "output_type": "stream",
     "text": [
      "GridSearchCV(estimator=SklearnModel(), n_jobs=10,\n",
      "             param_grid=[{'n_trees': [10, 30, 50]}], verbose=True)\n",
      "Fitting 5 folds for each of 3 candidates, totalling 15 fits\n",
      "GridSearchCV(estimator=SklearnModel(), n_jobs=10,\n",
      "             param_grid=[{'n_trees': [10, 30, 50]}], verbose=True)\n",
      "Fitting 5 folds for each of 3 candidates, totalling 15 fits\n"
     ]
    },
    {
     "name": "stderr",
     "output_type": "stream",
     "text": [
      "/PHShome/se197/anaconda3/lib/python3.8/site-packages/sklearn/model_selection/_search.py:918: UserWarning: One or more of the test scores are non-finite: [       nan 0.13598931 0.15761603]\n",
      "  warnings.warn(\n"
     ]
    },
    {
     "name": "stdout",
     "output_type": "stream",
     "text": [
      "GridSearchCV(estimator=SklearnModel(), n_jobs=10,\n",
      "             param_grid=[{'n_trees': [10, 30, 50]}], verbose=True)\n",
      "0.9379729498373566\n",
      "0.9378228115239832\n",
      "0.9373860622346728\n",
      "0.980900183287925\n",
      "0.22558757753846764\n",
      "\n"
     ]
    },
    {
     "ename": "TypeError",
     "evalue": "scores() missing 1 required positional argument: 'best_clf'",
     "output_type": "error",
     "traceback": [
      "\u001b[0;31m---------------------------------------------------------------------------\u001b[0m",
      "\u001b[0;31mTypeError\u001b[0m                                 Traceback (most recent call last)",
      "\u001b[0;32m<ipython-input-15-9401a1c4018e>\u001b[0m in \u001b[0;36m<module>\u001b[0;34m\u001b[0m\n\u001b[1;32m     12\u001b[0m \u001b[0mprint\u001b[0m\u001b[0;34m(\u001b[0m\u001b[0;34m)\u001b[0m\u001b[0;34m\u001b[0m\u001b[0;34m\u001b[0m\u001b[0m\n\u001b[1;32m     13\u001b[0m \u001b[0;34m\u001b[0m\u001b[0m\n\u001b[0;32m---> 14\u001b[0;31m \u001b[0mscores\u001b[0m\u001b[0;34m(\u001b[0m\u001b[0mco_train_gpop\u001b[0m\u001b[0;34m,\u001b[0m \u001b[0mout_train_death_gpop\u001b[0m\u001b[0;34m)\u001b[0m\u001b[0;34m\u001b[0m\u001b[0;34m\u001b[0m\u001b[0m\n\u001b[0m\u001b[1;32m     15\u001b[0m \u001b[0;34m\u001b[0m\u001b[0m\n\u001b[1;32m     16\u001b[0m \u001b[0mprint\u001b[0m\u001b[0;34m(\u001b[0m\u001b[0;34m)\u001b[0m\u001b[0;34m\u001b[0m\u001b[0;34m\u001b[0m\u001b[0m\n",
      "\u001b[0;31mTypeError\u001b[0m: scores() missing 1 required positional argument: 'best_clf'"
     ]
    }
   ],
   "source": [
    "import datetime\n",
    "begin_time = datetime.datetime.now()\n",
    "\n",
    "from imblearn.over_sampling import SMOTE\n",
    "sm = SMOTE(random_state = 42)\n",
    "co_train_gpop_sm,out_train_death_gpop_sm = sm.fit_resample(co_train_gpop,out_train_death_gpop)\n",
    "\n",
    "best_clf = bart(co_train_gpop_sm,out_train_death_gpop_sm)\n",
    "\n",
    "cross_val(co_train_gpop_sm,out_train_death_gpop_sm)\n",
    "\n",
    "print()\n",
    "\n",
    "scores(co_train_gpop, out_train_death_gpop, best_clf)\n",
    "\n",
    "print() \n",
    "\n",
    "scores(co_validation_gpop,out_validation_death_gpop, best_clf)\n",
    "\n",
    "\n",
    "print(datetime.datetime.now() - begin_time)"
   ]
  },
  {
   "cell_type": "code",
   "execution_count": 16,
   "id": "7f6f07b3",
   "metadata": {},
   "outputs": [
    {
     "name": "stdout",
     "output_type": "stream",
     "text": [
      "[0. 0. 0. ... 0. 0. 0.]\n",
      "0.9093448372179634\n",
      "0.17972479640550407\n",
      "0.551338674137878\n",
      "0.8373725453065021\n",
      "0.2842284361713935\n",
      "\n",
      "[0. 0. 0. ... 0. 0. 0.]\n",
      "0.8980853609892302\n",
      "0.15953947368421054\n",
      "0.5422010784127999\n",
      "0.8246557979875679\n",
      "0.31058521191160965\n"
     ]
    }
   ],
   "source": [
    "scores(co_train_gpop, out_train_death_gpop, best_clf)\n",
    "\n",
    "print() \n",
    "\n",
    "scores(co_validation_gpop,out_validation_death_gpop, best_clf)"
   ]
  },
  {
   "cell_type": "code",
   "execution_count": 9,
   "id": "fa1a4b48",
   "metadata": {},
   "outputs": [
    {
     "name": "stdout",
     "output_type": "stream",
     "text": [
      "Fitting 5 folds for each of 3 candidates, totalling 15 fits\n"
     ]
    },
    {
     "name": "stderr",
     "output_type": "stream",
     "text": [
      "/PHShome/se197/anaconda3/lib/python3.8/site-packages/sklearn/model_selection/_search.py:918: UserWarning: One or more of the test scores are non-finite: [       nan 0.12853905 0.14334549]\n",
      "  warnings.warn(\n"
     ]
    },
    {
     "name": "stdout",
     "output_type": "stream",
     "text": [
      "GridSearchCV(estimator=SklearnModel(), n_jobs=10,\n",
      "             param_grid=[{'n_trees': [10, 30, 50]}], verbose=True)\n",
      "Fitting 5 folds for each of 3 candidates, totalling 15 fits\n",
      "GridSearchCV(estimator=SklearnModel(), n_jobs=10,\n",
      "             param_grid=[{'n_trees': [10, 30, 50]}], verbose=True)\n",
      "Fitting 5 folds for each of 3 candidates, totalling 15 fits\n"
     ]
    },
    {
     "name": "stderr",
     "output_type": "stream",
     "text": [
      "/PHShome/se197/anaconda3/lib/python3.8/site-packages/sklearn/model_selection/_search.py:918: UserWarning: One or more of the test scores are non-finite: [       nan 0.11882162 0.13354214]\n",
      "  warnings.warn(\n"
     ]
    },
    {
     "name": "stdout",
     "output_type": "stream",
     "text": [
      "GridSearchCV(estimator=SklearnModel(), n_jobs=10,\n",
      "             param_grid=[{'n_trees': [10, 30, 50]}], verbose=True)\n",
      "Fitting 5 folds for each of 3 candidates, totalling 15 fits\n"
     ]
    },
    {
     "name": "stderr",
     "output_type": "stream",
     "text": [
      "/PHShome/se197/anaconda3/lib/python3.8/site-packages/sklearn/model_selection/_search.py:918: UserWarning: One or more of the test scores are non-finite: [       nan 0.12444816 0.14021882]\n",
      "  warnings.warn(\n"
     ]
    },
    {
     "name": "stdout",
     "output_type": "stream",
     "text": [
      "GridSearchCV(estimator=SklearnModel(), n_jobs=10,\n",
      "             param_grid=[{'n_trees': [10, 30, 50]}], verbose=True)\n",
      "Fitting 5 folds for each of 3 candidates, totalling 15 fits\n",
      "GridSearchCV(estimator=SklearnModel(), n_jobs=10,\n",
      "             param_grid=[{'n_trees': [10, 30, 50]}], verbose=True)\n",
      "Fitting 5 folds for each of 3 candidates, totalling 15 fits\n"
     ]
    },
    {
     "name": "stderr",
     "output_type": "stream",
     "text": [
      "/PHShome/se197/anaconda3/lib/python3.8/site-packages/sklearn/model_selection/_search.py:918: UserWarning: One or more of the test scores are non-finite: [0.05070436        nan 0.13960879]\n",
      "  warnings.warn(\n"
     ]
    },
    {
     "name": "stdout",
     "output_type": "stream",
     "text": [
      "GridSearchCV(estimator=SklearnModel(), n_jobs=10,\n",
      "             param_grid=[{'n_trees': [10, 30, 50]}], verbose=True)\n",
      "0.9194556822361161\n",
      "0.9191996498797244\n",
      "0.9187123772382908\n",
      "0.9729928322493837\n",
      "0.27386192423084404\n",
      "\n",
      "[0. 0. 0. ... 0. 0. 0.]\n",
      "0.8841948631687908\n",
      "0.3255463451394122\n",
      "0.6102844142029223\n",
      "0.8371551942431606\n",
      "0.3380479924502778\n",
      "\n",
      "[ 0.  0. -0. ...  0.  0.  1.]\n",
      "0.86438251574728\n",
      "0.28196058615462355\n",
      "0.587555793444083\n",
      "0.8060882262092665\n",
      "0.373981566085589\n",
      "1:08:24.992987\n"
     ]
    }
   ],
   "source": [
    "import datetime\n",
    "begin_time = datetime.datetime.now()\n",
    "\n",
    "from imblearn.over_sampling import SMOTE\n",
    "sm = SMOTE(random_state = 42)\n",
    "co_train_low_sm,out_train_death_low_sm = sm.fit_resample(co_train_low,out_train_death_low)\n",
    "\n",
    "best_clf = bart(co_train_low_sm,out_train_death_low_sm)\n",
    "\n",
    "cross_val(co_train_low_sm,out_train_death_low_sm)\n",
    "\n",
    "print()\n",
    "\n",
    "scores(co_train_low, out_train_death_low, best_clf)\n",
    "\n",
    "print() \n",
    "\n",
    "scores(co_validation_low,out_validation_death_low, best_clf)\n",
    "\n",
    "\n",
    "print(datetime.datetime.now() - begin_time)"
   ]
  },
  {
   "cell_type": "code",
   "execution_count": 9,
   "id": "a21d8643",
   "metadata": {},
   "outputs": [
    {
     "name": "stdout",
     "output_type": "stream",
     "text": [
      "Fitting 5 folds for each of 3 candidates, totalling 15 fits\n",
      "GridSearchCV(estimator=SklearnModel(), n_jobs=10,\n",
      "             param_grid=[{'n_trees': [10, 30, 50]}], verbose=True)\n",
      "Fitting 5 folds for each of 3 candidates, totalling 15 fits\n",
      "GridSearchCV(estimator=SklearnModel(), n_jobs=10,\n",
      "             param_grid=[{'n_trees': [10, 30, 50]}], verbose=True)\n",
      "Fitting 5 folds for each of 3 candidates, totalling 15 fits\n"
     ]
    },
    {
     "name": "stderr",
     "output_type": "stream",
     "text": [
      "/PHShome/se197/anaconda3/lib/python3.8/site-packages/sklearn/model_selection/_search.py:918: UserWarning: One or more of the test scores are non-finite: [-0.06126924         nan  0.11287813]\n",
      "  warnings.warn(\n"
     ]
    },
    {
     "name": "stdout",
     "output_type": "stream",
     "text": [
      "GridSearchCV(estimator=SklearnModel(), n_jobs=10,\n",
      "             param_grid=[{'n_trees': [10, 30, 50]}], verbose=True)\n",
      "Fitting 5 folds for each of 3 candidates, totalling 15 fits\n",
      "GridSearchCV(estimator=SklearnModel(), n_jobs=10,\n",
      "             param_grid=[{'n_trees': [10, 30, 50]}], verbose=True)\n",
      "Fitting 5 folds for each of 3 candidates, totalling 15 fits\n"
     ]
    },
    {
     "name": "stderr",
     "output_type": "stream",
     "text": [
      "/PHShome/se197/anaconda3/lib/python3.8/site-packages/sklearn/model_selection/_search.py:918: UserWarning: One or more of the test scores are non-finite: [       nan        nan 0.10890276]\n",
      "  warnings.warn(\n"
     ]
    },
    {
     "name": "stdout",
     "output_type": "stream",
     "text": [
      "GridSearchCV(estimator=SklearnModel(), n_jobs=10,\n",
      "             param_grid=[{'n_trees': [10, 30, 50]}], verbose=True)\n",
      "Fitting 5 folds for each of 3 candidates, totalling 15 fits\n",
      "GridSearchCV(estimator=SklearnModel(), n_jobs=10,\n",
      "             param_grid=[{'n_trees': [10, 30, 50]}], verbose=True)\n",
      "0.9545803971812941\n",
      "0.9544926953709798\n",
      "0.9541698283035395\n",
      "0.9865495593307502\n",
      "0.20471477570784868\n",
      "\n",
      "[-0.  0.  0. ...  0.  0.  0.]\n",
      "0.9311620138391792\n",
      "0.1244309559939302\n",
      "0.5340307539850592\n",
      "0.8434033309758999\n",
      "0.2393684193093201\n",
      "\n",
      "[0. 0. 0. ... 0. 0. 0.]\n",
      "0.9290039674253497\n",
      "0.12144702842377263\n",
      "0.5328243569355763\n",
      "0.8261646408527018\n",
      "0.24254771046454277\n",
      "1:26:51.008614\n"
     ]
    }
   ],
   "source": [
    "import datetime\n",
    "begin_time = datetime.datetime.now()\n",
    "\n",
    "from imblearn.over_sampling import SMOTE\n",
    "sm = SMOTE(random_state = 42)\n",
    "co_train_high_sm,out_train_death_high_sm = sm.fit_resample(co_train_high,out_train_death_high)\n",
    "\n",
    "best_clf = bart(co_train_high_sm,out_train_death_high_sm)\n",
    "\n",
    "cross_val(co_train_high_sm,out_train_death_high_sm)\n",
    "\n",
    "print()\n",
    "\n",
    "scores(co_train_high, out_train_death_high, best_clf)\n",
    "\n",
    "print() \n",
    "\n",
    "scores(co_validation_high,out_validation_death_high, best_clf)\n",
    "\n",
    "\n",
    "print(datetime.datetime.now() - begin_time)"
   ]
  },
  {
   "cell_type": "code",
   "execution_count": null,
   "id": "ebc484ec",
   "metadata": {},
   "outputs": [],
   "source": []
  },
  {
   "cell_type": "code",
   "execution_count": null,
   "id": "ac7cb4e5",
   "metadata": {},
   "outputs": [],
   "source": [
    "\n"
   ]
  },
  {
   "cell_type": "code",
   "execution_count": null,
   "id": "15823ee5",
   "metadata": {},
   "outputs": [],
   "source": []
  }
 ],
 "metadata": {
  "kernelspec": {
   "display_name": "Python 3",
   "language": "python",
   "name": "python3"
  },
  "language_info": {
   "codemirror_mode": {
    "name": "ipython",
    "version": 3
   },
   "file_extension": ".py",
   "mimetype": "text/x-python",
   "name": "python",
   "nbconvert_exporter": "python",
   "pygments_lexer": "ipython3",
   "version": "3.8.8"
  }
 },
 "nbformat": 4,
 "nbformat_minor": 5
}
