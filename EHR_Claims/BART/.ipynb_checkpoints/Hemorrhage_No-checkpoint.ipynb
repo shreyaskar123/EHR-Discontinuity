{
 "cells": [
  {
   "cell_type": "code",
   "execution_count": 1,
   "id": "f6955718",
   "metadata": {},
   "outputs": [],
   "source": [
    "import pandas as pd\n",
    "medicare = pd.read_csv(\"/netapp2/home/se197/data/CMS/Data/medicare.csv\")"
   ]
  },
  {
   "cell_type": "code",
   "execution_count": 2,
   "id": "fae33ccd",
   "metadata": {},
   "outputs": [],
   "source": [
    "train_set = medicare[medicare.Hospital != 'BWH'] # MGH\n",
    "validation_set = medicare[medicare.Hospital == 'BWH'] # BWH and Neither \n",
    "import numpy as np\n",
    "\n",
    "fifty_perc_EHR_cont = np.percentile(medicare['Cal_MPEC_R0'],50)\n",
    "train_set_high = train_set[train_set.Cal_MPEC_R0 >= fifty_perc_EHR_cont]\n",
    "train_set_low= train_set[train_set.Cal_MPEC_R0 < fifty_perc_EHR_cont]\n",
    "\n",
    "validation_set_high = validation_set[validation_set.Cal_MPEC_R0 >= fifty_perc_EHR_cont]\n",
    "validation_set_low = validation_set[validation_set.Cal_MPEC_R0 < fifty_perc_EHR_cont]"
   ]
  },
  {
   "cell_type": "code",
   "execution_count": 3,
   "id": "2a2ddd56",
   "metadata": {},
   "outputs": [
    {
     "data": {
      "text/plain": [
       "126"
      ]
     },
     "execution_count": 3,
     "metadata": {},
     "output_type": "execute_result"
    }
   ],
   "source": [
    "predictor_variable = [\n",
    "        'Co_CAD_R0', 'Co_Embolism_R0', 'Co_DVT_R0', 'Co_PE_R0', 'Co_AFib_R0',\n",
    "        'Co_Hypertension_R0', 'Co_Hyperlipidemia_R0', 'Co_Atherosclerosis_R0',\n",
    "        'Co_HF_R0', 'Co_HemoStroke_R0', 'Co_IscheStroke_R0', 'Co_OthStroke_R0',\n",
    "        'Co_TIA_R0', 'Co_COPD_R0', 'Co_Asthma_R0', 'Co_Pneumonia_R0', 'Co_Alcoholabuse_R0',\n",
    "        'Co_Drugabuse_R0', 'Co_Epilepsy_R0', 'Co_Cancer_R0', 'Co_MorbidObesity_R0',\n",
    "        'Co_Dementia_R0', 'Co_Depression_R0', 'Co_Bipolar_R0', 'Co_Psychosis_R0',\n",
    "        'Co_Personalitydisorder_R0', 'Co_Adjustmentdisorder_R0', 'Co_Anxiety_R0',\n",
    "        'Co_Generalizedanxiety_R0', 'Co_OldMI_R0', 'Co_AcuteMI_R0', 'Co_PUD_R0',\n",
    "        'Co_UpperGIbleed_R0', 'Co_LowerGIbleed_R0', 'Co_Urogenitalbleed_R0',\n",
    "        'Co_Othbleed_R0', 'Co_PVD_R0', 'Co_LiverDisease_R0', 'Co_MRI_R0',\n",
    "        'Co_ESRD_R0', 'Co_Obesity_R0', 'Co_Sepsis_R0', 'Co_Osteoarthritis_R0',\n",
    "        'Co_RA_R0', 'Co_NeuroPain_R0', 'Co_NeckPain_R0', 'Co_OthArthritis_R0',\n",
    "        'Co_Osteoporosis_R0', 'Co_Fibromyalgia_R0', 'Co_Migraine_R0', 'Co_Headache_R0',\n",
    "        'Co_OthPain_R0', 'Co_GeneralizedPain_R0', 'Co_PainDisorder_R0',\n",
    "        'Co_Falls_R0', 'Co_CoagulationDisorder_R0', 'Co_WhiteBloodCell_R0', 'Co_Parkinson_R0',\n",
    "        'Co_Anemia_R0', 'Co_UrinaryIncontinence_R0', 'Co_DecubitusUlcer_R0',\n",
    "        'Co_Oxygen_R0', 'Co_Mammography_R0', 'Co_PapTest_R0', 'Co_PSATest_R0',\n",
    "        'Co_Colonoscopy_R0', 'Co_FecalOccultTest_R0', 'Co_FluShot_R0', 'Co_PneumococcalVaccine_R0', 'Co_RenalDysfunction_R0', 'Co_Valvular_R0', 'Co_Hosp_Prior30Days_R0',\n",
    "        'Co_RX_Antibiotic_R0', 'Co_RX_Corticosteroid_R0', 'Co_RX_Aspirin_R0', 'Co_RX_Dipyridamole_R0',\n",
    "        'Co_RX_Clopidogrel_R0', 'Co_RX_Prasugrel_R0', 'Co_RX_Cilostazol_R0', 'Co_RX_Ticlopidine_R0',\n",
    "        'Co_RX_Ticagrelor_R0', 'Co_RX_OthAntiplatelet_R0', 'Co_RX_NSAIDs_R0',\n",
    "        'Co_RX_Opioid_R0', 'Co_RX_Antidepressant_R0', 'Co_RX_AAntipsychotic_R0', 'Co_RX_TAntipsychotic_R0',\n",
    "        'Co_RX_Anticonvulsant_R0', 'Co_RX_PPI_R0', 'Co_RX_H2Receptor_R0', 'Co_RX_OthGastro_R0',\n",
    "        'Co_RX_ACE_R0', 'Co_RX_ARB_R0', 'Co_RX_BBlocker_R0', 'Co_RX_CCB_R0', 'Co_RX_Thiazide_R0',\n",
    "        'Co_RX_Loop_R0', 'Co_RX_Potassium_R0', 'Co_RX_Nitrates_R0', 'Co_RX_Aliskiren_R0',\n",
    "        'Co_RX_OthAntihypertensive_R0', 'Co_RX_Antiarrhythmic_R0', 'Co_RX_OthAnticoagulant_R0',\n",
    "        'Co_RX_Insulin_R0', 'Co_RX_Noninsulin_R0', 'Co_RX_Digoxin_R0', 'Co_RX_Statin_R0',\n",
    "        'Co_RX_Lipid_R0', 'Co_RX_Lithium_R0', 'Co_RX_Benzo_R0', 'Co_RX_ZDrugs_R0',\n",
    "        'Co_RX_OthAnxiolytic_R0', 'Co_RX_Barbiturate_R0', 'Co_RX_Dementia_R0', 'Co_RX_Hormone_R0',\n",
    "        'Co_RX_Osteoporosis_R0', 'Co_N_Drugs_R0', 'Co_N_Hosp_R0', 'Co_Total_HospLOS_R0',\n",
    "        'Co_N_MDVisit_R0', 'Co_RX_AnyAspirin_R0', 'Co_RX_AspirinMono_R0', 'Co_RX_ClopidogrelMono_R0',\n",
    "        'Co_RX_AspirinClopidogrel_R0', 'Co_RX_DM_R0', 'Co_RX_Antipsychotic_R0'\n",
    "]\n",
    "\n",
    "co_train_gpop = train_set[predictor_variable]\n",
    "co_train_high = train_set_high[predictor_variable]\n",
    "co_train_low = train_set_low[predictor_variable]\n",
    "\n",
    "co_validation_gpop = validation_set[predictor_variable]\n",
    "co_validation_high = validation_set_high[predictor_variable]\n",
    "co_validation_low = validation_set_low[predictor_variable]\n",
    "len(predictor_variable)\n",
    "\n"
   ]
  },
  {
   "cell_type": "code",
   "execution_count": 4,
   "id": "b135ec1a",
   "metadata": {},
   "outputs": [],
   "source": [
    "out_train_death_gpop = train_set['ehr_death']\n",
    "out_train_death_high = train_set_high['ehr_death']\n",
    "out_train_death_low = train_set_low['ehr_death']\n",
    "\n",
    "out_validation_death_gpop = validation_set['ehr_death']\n",
    "out_validation_death_high = validation_set_high['ehr_death']\n",
    "out_validation_death_low = validation_set_low['ehr_death']"
   ]
  },
  {
   "cell_type": "code",
   "execution_count": 30,
   "id": "4b8171fa",
   "metadata": {},
   "outputs": [],
   "source": [
    "def bart(X_train, y_train):\n",
    "    from bartpy.sklearnmodel import SklearnModel\n",
    "    from sklearn.model_selection import GridSearchCV\n",
    "    from bartpy.data import Data\n",
    "    from bartpy.sigma import Sigma\n",
    "    param_grid = [{\n",
    "        'n_trees': [10,30,50]\n",
    "    }]\n",
    "    model = SklearnModel()\n",
    "    clf = GridSearchCV(estimator = model, param_grid = param_grid, verbose = True)\n",
    "    best_clf = clf.fit(X_train, y_train.to_numpy())\n"
   ]
  },
  {
   "cell_type": "code",
   "execution_count": 31,
   "id": "ac69e91b",
   "metadata": {},
   "outputs": [],
   "source": [
    "def scores(X_train,y_train):\n",
    "    from sklearn.metrics import accuracy_score\n",
    "    from sklearn.metrics import f1_score\n",
    "    from sklearn.metrics import fbeta_score\n",
    "    from sklearn.metrics import roc_auc_score \n",
    "    from sklearn.metrics import log_loss\n",
    "    import numpy as np\n",
    "    pred = np.round(best_clf.predict(X_train))\n",
    "    print(pred)\n",
    "    actual = y_train\n",
    "    print(accuracy_score(actual,pred))\n",
    "    print(f1_score(actual,pred))\n",
    "    print(fbeta_score(actual,pred, average = 'macro', beta = 2))\n",
    "    print(roc_auc_score(actual, best_clf.predict(X_train)))\n",
    "    print(log_loss(actual,pred))"
   ]
  },
  {
   "cell_type": "code",
   "execution_count": 32,
   "id": "d57a6cc4",
   "metadata": {},
   "outputs": [
    {
     "name": "stdout",
     "output_type": "stream",
     "text": [
      "Fitting 5 folds for each of 3 candidates, totalling 15 fits\n",
      "[0. 0. 0. ... 0. 0. 0.]\n",
      "0.9225970640265665\n",
      "0.010317460317460317\n",
      "0.4949731518815222\n",
      "0.802518539049945\n",
      "2.6734027227120416\n",
      "\n",
      "[ 0. -0.  0. ...  0.  0.  0.]\n",
      "0.9104507379337854\n",
      "0.00663716814159292\n",
      "0.4923854062458118\n",
      "0.7823194545252434\n",
      "3.0929220584389654\n"
     ]
    }
   ],
   "source": [
    "bart(co_train_gpop,out_train_death_gpop)\n",
    "scores(co_train_gpop,out_train_death_gpop)\n",
    "print()\n",
    "scores(co_validation_gpop,out_validation_death_gpop)"
   ]
  },
  {
   "cell_type": "code",
   "execution_count": 33,
   "id": "13c4e77d",
   "metadata": {},
   "outputs": [
    {
     "name": "stdout",
     "output_type": "stream",
     "text": [
      "Fitting 5 folds for each of 3 candidates, totalling 15 fits\n",
      "[0. 0. 0. ... 0. 0. 0.]\n",
      "0.9020508507472342\n",
      "0.013037809647979142\n",
      "0.4934405622937564\n",
      "0.7921823744449138\n",
      "3.3830438158434504\n",
      "\n",
      "[ 0. -0.  0. ...  0.  0.  0.]\n",
      "0.8846153846153846\n",
      "0.004938271604938272\n",
      "0.48877061880760186\n",
      "0.7657078742460506\n",
      "3.985243582806058\n"
     ]
    }
   ],
   "source": [
    "bart(co_train_low,out_train_death_low)\n",
    "scores(co_train_low,out_train_death_low)\n",
    "print()\n",
    "scores(co_validation_low,out_validation_death_low)"
   ]
  },
  {
   "cell_type": "code",
   "execution_count": 34,
   "id": "2f54d34e",
   "metadata": {},
   "outputs": [
    {
     "name": "stdout",
     "output_type": "stream",
     "text": [
      "Fitting 5 folds for each of 3 candidates, totalling 15 fits\n",
      "[0. 0. 0. ... 0. 0. 0.]\n",
      "0.9415413982343116\n",
      "0.006085192697768763\n",
      "0.4957721546832847\n",
      "0.8049123612920825\n",
      "2.019088574744242\n",
      "\n",
      "[0. 0. 0. ... 0. 0. 0.]\n",
      "0.9387137189392357\n",
      "0.010118043844856662\n",
      "0.49669872164748885\n",
      "0.7855484943774894\n",
      "2.1167532411161\n"
     ]
    }
   ],
   "source": [
    "bart(co_train_high,out_train_death_high)\n",
    "scores(co_train_high,out_train_death_high)\n",
    "print()\n",
    "scores(co_validation_high,out_validation_death_high)"
   ]
  },
  {
   "cell_type": "code",
   "execution_count": null,
   "id": "0c239e89",
   "metadata": {},
   "outputs": [],
   "source": []
  }
 ],
 "metadata": {
  "kernelspec": {
   "display_name": "Python 3",
   "language": "python",
   "name": "python3"
  },
  "language_info": {
   "codemirror_mode": {
    "name": "ipython",
    "version": 3
   },
   "file_extension": ".py",
   "mimetype": "text/x-python",
   "name": "python",
   "nbconvert_exporter": "python",
   "pygments_lexer": "ipython3",
   "version": "3.8.8"
  }
 },
 "nbformat": 4,
 "nbformat_minor": 5
}
