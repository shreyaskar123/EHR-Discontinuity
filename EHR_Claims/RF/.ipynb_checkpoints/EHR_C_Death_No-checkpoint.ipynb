{
 "cells": [
  {
   "cell_type": "code",
   "execution_count": 1,
   "id": "0dc30a69",
   "metadata": {},
   "outputs": [],
   "source": [
    "import pandas as pd \n",
    "medicare = pd.read_csv(\"/netapp2/home/se197/RPDR/Josh Lin/3_EHR_V2/CMS/final_medicare.csv\")"
   ]
  },
  {
   "cell_type": "code",
   "execution_count": 2,
   "id": "f7d241f7",
   "metadata": {},
   "outputs": [],
   "source": [
    "train_set = medicare[medicare.Hospital != 'BWH'] # MGH; n = 204014\n",
    "validation_set = medicare[medicare.Hospital == 'BWH'] # BWH and Neither; n = 115726\n",
    "import numpy as np\n",
    "\n",
    "fifty_perc_EHR_cont = np.percentile(medicare['Cal_MPEC_R0'],50)\n",
    "train_set_high = train_set[train_set.Cal_MPEC_R0 >= fifty_perc_EHR_cont]\n",
    "train_set_low= train_set[train_set.Cal_MPEC_R0 < fifty_perc_EHR_cont]\n",
    "\n",
    "validation_set_high = validation_set[validation_set.Cal_MPEC_R0 >= fifty_perc_EHR_cont]\n",
    "validation_set_low = validation_set[validation_set.Cal_MPEC_R0 < fifty_perc_EHR_cont]\n"
   ]
  },
  {
   "cell_type": "code",
   "execution_count": 3,
   "id": "323bfa55",
   "metadata": {},
   "outputs": [],
   "source": [
    "predictor_variable_claims = [\n",
    "    'Co_CAD_RC0', 'Co_Embolism_RC0', 'Co_DVT_RC0', 'Co_PE_RC0', 'Co_AFib_RC0',\n",
    "        'Co_Hypertension_RC0', 'Co_Hyperlipidemia_RC0', 'Co_Atherosclerosis_RC0',\n",
    "        'Co_HF_RC0', 'Co_HemoStroke_RC0', 'Co_IscheStroke_RC0', 'Co_OthStroke_RC0',\n",
    "        'Co_TIA_RC0', 'Co_COPD_RC0', 'Co_Asthma_RC0', 'Co_Pneumonia_RC0', 'Co_Alcoholabuse_RC0',\n",
    "        'Co_Drugabuse_RC0', 'Co_Epilepsy_RC0', 'Co_Cancer_RC0', 'Co_MorbidObesity_RC0',\n",
    "        'Co_Dementia_RC0', 'Co_Depression_RC0', 'Co_Bipolar_RC0', 'Co_Psychosis_RC0',\n",
    "        'Co_Personalitydisorder_RC0', 'Co_Adjustmentdisorder_RC0', 'Co_Anxiety_RC0',\n",
    "        'Co_Generalizedanxiety_RC0', 'Co_OldMI_RC0', 'Co_AcuteMI_RC0', 'Co_PUD_RC0',\n",
    "        'Co_UpperGIbleed_RC0', 'Co_LowerGIbleed_RC0', 'Co_Urogenitalbleed_RC0',\n",
    "        'Co_Othbleed_RC0', 'Co_PVD_RC0', 'Co_LiverDisease_RC0', 'Co_MRI_RC0',\n",
    "        'Co_ESRD_RC0', 'Co_Obesity_RC0', 'Co_Sepsis_RC0', 'Co_Osteoarthritis_RC0',\n",
    "        'Co_RA_RC0', 'Co_NeuroPain_RC0', 'Co_NeckPain_RC0', 'Co_OthArthritis_RC0',\n",
    "        'Co_Osteoporosis_RC0', 'Co_Fibromyalgia_RC0', 'Co_Migraine_RC0', 'Co_Headache_RC0',\n",
    "        'Co_OthPain_RC0', 'Co_GeneralizedPain_RC0', 'Co_PainDisorder_RC0',\n",
    "        'Co_Falls_RC0', 'Co_CoagulationDisorder_RC0', 'Co_WhiteBloodCell_RC0', 'Co_Parkinson_RC0',\n",
    "        'Co_Anemia_RC0', 'Co_UrinaryIncontinence_RC0', 'Co_DecubitusUlcer_RC0',\n",
    "        'Co_Oxygen_RC0', 'Co_Mammography_RC0', 'Co_PapTest_RC0', 'Co_PSATest_RC0',\n",
    "        'Co_Colonoscopy_RC0', 'Co_FecalOccultTest_RC0', 'Co_FluShot_RC0', 'Co_PneumococcalVaccine_RC0' , 'Co_RenalDysfunction_RC0', 'Co_Valvular_RC0', 'Co_Hosp_Prior30Days_RC0',\n",
    "        'Co_RX_Antibiotic_RC0', 'Co_RX_Corticosteroid_RC0', 'Co_RX_Aspirin_RC0', 'Co_RX_Dipyridamole_RC0',\n",
    "        'Co_RX_Clopidogrel_RC0', 'Co_RX_Prasugrel_RC0', 'Co_RX_Cilostazol_RC0', 'Co_RX_Ticlopidine_RC0',\n",
    "        'Co_RX_Ticagrelor_RC0', 'Co_RX_OthAntiplatelet_RC0', 'Co_RX_NSAIDs_RC0',\n",
    "        'Co_RX_Opioid_RC0', 'Co_RX_Antidepressant_RC0', 'Co_RX_AAntipsychotic_RC0', 'Co_RX_TAntipsychotic_RC0',\n",
    "        'Co_RX_Anticonvulsant_RC0', 'Co_RX_PPI_RC0', 'Co_RX_H2Receptor_RC0', 'Co_RX_OthGastro_RC0',\n",
    "        'Co_RX_ACE_RC0', 'Co_RX_ARB_RC0', 'Co_RX_BBlocker_RC0', 'Co_RX_CCB_RC0', 'Co_RX_Thiazide_RC0',\n",
    "        'Co_RX_Loop_RC0', 'Co_RX_Potassium_RC0', 'Co_RX_Nitrates_RC0', 'Co_RX_Aliskiren_RC0',\n",
    "        'Co_RX_OthAntihypertensive_RC0', 'Co_RX_Antiarrhythmic_RC0', 'Co_RX_OthAnticoagulant_RC0',\n",
    "        'Co_RX_Insulin_RC0', 'Co_RX_Noninsulin_RC0', 'Co_RX_Digoxin_RC0', 'Co_RX_Statin_RC0',\n",
    "        'Co_RX_Lipid_RC0', 'Co_RX_Lithium_RC0', 'Co_RX_Benzo_RC0', 'Co_RX_ZDrugs_RC0',\n",
    "        'Co_RX_OthAnxiolytic_RC0', 'Co_RX_Barbiturate_RC0', 'Co_RX_Dementia_RC0', 'Co_RX_Hormone_RC0',\n",
    "        'Co_RX_Osteoporosis_RC0', 'Co_N_Drugs_RC0', 'Co_N_Hosp_RC0', 'Co_Total_HospLOS_RC0',\n",
    "        'Co_N_MDVisit_RC0', 'Co_RX_AnyAspirin_RC0', 'Co_RX_AspirinMono_RC0', 'Co_RX_ClopidogrelMono_RC0',\n",
    "        'Co_RX_AspirinClopidogrel_RC0', 'Co_RX_DM_RC0', 'Co_RX_Antipsychotic_RC0'\n",
    "]\n",
    "\n",
    "\n",
    "co_train_gpop = train_set[predictor_variable_claims]\n",
    "co_train_high = train_set_high[predictor_variable_claims]\n",
    "co_train_low = train_set_low[predictor_variable_claims]\n",
    "\n",
    "co_validation_gpop = validation_set[predictor_variable_claims]\n",
    "co_validation_high = validation_set_high[predictor_variable_claims]\n",
    "co_validation_low = validation_set_low[predictor_variable_claims]"
   ]
  },
  {
   "cell_type": "code",
   "execution_count": 4,
   "id": "20c3ecf7",
   "metadata": {},
   "outputs": [],
   "source": [
    "out_train_hemorrhage_gpop = train_set['Out_Hemorrhage_RC1']\n",
    "out_train_hemorrhage_high = train_set_high['Out_Hemorrhage_RC1']\n",
    "out_train_hemorrhage_low = train_set_low['Out_Hemorrhage_RC1']\n",
    "\n",
    "out_validation_hemorrhage_gpop = validation_set['Out_Hemorrhage_RC1']\n",
    "out_validation_hemorrhage_high = validation_set_high['Out_Hemorrhage_RC1']\n",
    "out_validation_hemorrhage_low = validation_set_low['Out_Hemorrhage_RC1']"
   ]
  },
  {
   "cell_type": "code",
   "execution_count": 5,
   "id": "9754ce1d",
   "metadata": {},
   "outputs": [],
   "source": [
    "def rf(X_train, y_train):\n",
    "    from sklearn.ensemble import RandomForestClassifier\n",
    "    from sklearn.model_selection import GridSearchCV\n",
    "\n",
    "    param_grid = {'bootstrap': [True],\n",
    "         'max_depth': [6, 10],\n",
    "         'min_samples_leaf': [3, 5],\n",
    "         'min_samples_split': [4, 6],\n",
    "         'n_estimators': [100, 350]\n",
    "        }\n",
    "\n",
    "\n",
    "    forest_clf = RandomForestClassifier()\n",
    "\n",
    "    forest_grid_search = GridSearchCV(forest_clf, param_grid, cv=5,\n",
    "                                      scoring=\"accuracy\",\n",
    "                                      return_train_score=True,\n",
    "                                      verbose=True,\n",
    "                                      n_jobs=-1)\n",
    "\n",
    "    best_clf = forest_grid_search.fit(X_train, y_train)\n",
    "    return best_clf \n"
   ]
  },
  {
   "cell_type": "code",
   "execution_count": 6,
   "id": "00e9f50a",
   "metadata": {},
   "outputs": [],
   "source": [
    "def scores(X,y):\n",
    "    from sklearn.metrics import accuracy_score\n",
    "    from sklearn.metrics import f1_score\n",
    "    from sklearn.metrics import fbeta_score\n",
    "    from sklearn.metrics import roc_auc_score \n",
    "    from sklearn.metrics import log_loss\n",
    "\n",
    "    pred = best_clf.predict(X)\n",
    "    actual = y\n",
    "    print(accuracy_score(actual,pred))\n",
    "    print(f1_score(actual,pred))\n",
    "    print(fbeta_score(actual,pred, average = 'macro', beta = 2))\n",
    "   \n",
    "    print(roc_auc_score(actual,best_clf.predict_proba(X)[:,1]))\n",
    "    print(log_loss(actual,pred))"
   ]
  },
  {
   "cell_type": "markdown",
   "id": "f76a17d5",
   "metadata": {},
   "source": [
    "# General Population"
   ]
  },
  {
   "cell_type": "code",
   "execution_count": 7,
   "id": "17f1952c",
   "metadata": {},
   "outputs": [
    {
     "name": "stdout",
     "output_type": "stream",
     "text": [
      "Fitting 5 folds for each of 16 candidates, totalling 80 fits\n",
      "0.9210452810279011\n",
      "0.020030816640986136\n",
      "0.4978719364297181\n",
      "0.8495530429417083\n",
      "2.726999383900338\n",
      "\n",
      "0.9069605105704028\n",
      "0.0\n",
      "0.48994785381830713\n",
      "0.7032287065140087\n",
      "3.213470121305512\n"
     ]
    }
   ],
   "source": [
    "best_clf = rf(co_train_gpop, out_train_hemorrhage_gpop)\n",
    "scores(co_train_gpop, out_train_hemorrhage_gpop)\n",
    "print()\n",
    "scores(co_validation_gpop, out_validation_hemorrhage_gpop)"
   ]
  },
  {
   "cell_type": "markdown",
   "id": "9aaa2e74",
   "metadata": {},
   "source": [
    "# Low Continuity \n"
   ]
  },
  {
   "cell_type": "code",
   "execution_count": 8,
   "id": "cc3d2cac",
   "metadata": {},
   "outputs": [
    {
     "name": "stdout",
     "output_type": "stream",
     "text": [
      "Fitting 5 folds for each of 16 candidates, totalling 80 fits\n",
      "0.9096202367859222\n",
      "0.0\n",
      "0.4902576118945004\n",
      "0.7529591453337827\n",
      "3.1216064322760064\n",
      "\n",
      "0.8943500668066425\n",
      "0.0\n",
      "0.48845961386097325\n",
      "0.66396897846544\n",
      "3.6490194187026272\n"
     ]
    }
   ],
   "source": [
    "best_clf = rf(co_train_low, out_train_hemorrhage_low)\n",
    "scores(co_train_low, out_train_hemorrhage_low)\n",
    "print()\n",
    "scores(co_validation_low, out_validation_hemorrhage_low)"
   ]
  },
  {
   "cell_type": "markdown",
   "id": "96482eaa",
   "metadata": {},
   "source": [
    "# High Continuity "
   ]
  },
  {
   "cell_type": "code",
   "execution_count": 9,
   "id": "27c28b89",
   "metadata": {},
   "outputs": [
    {
     "name": "stdout",
     "output_type": "stream",
     "text": [
      "Fitting 5 folds for each of 16 candidates, totalling 80 fits\n",
      "0.930088284418993\n",
      "0.0017035775127768314\n",
      "0.493126892322204\n",
      "0.7930681476618613\n",
      "2.414665111836992\n",
      "\n",
      "0.9207558989350595\n",
      "0.0\n",
      "0.49153921612342266\n",
      "0.7368476643658193\n",
      "2.7369942872976836\n"
     ]
    }
   ],
   "source": [
    "best_clf = rf(co_train_high, out_train_hemorrhage_high)\n",
    "scores(co_train_high, out_train_hemorrhage_high)\n",
    "print()\n",
    "scores(co_validation_high, out_validation_hemorrhage_high)"
   ]
  },
  {
   "cell_type": "code",
   "execution_count": null,
   "id": "d3fe7850",
   "metadata": {},
   "outputs": [],
   "source": []
  },
  {
   "cell_type": "code",
   "execution_count": null,
   "id": "db204368",
   "metadata": {},
   "outputs": [],
   "source": []
  }
 ],
 "metadata": {
  "kernelspec": {
   "display_name": "Python 3",
   "language": "python",
   "name": "python3"
  },
  "language_info": {
   "codemirror_mode": {
    "name": "ipython",
    "version": 3
   },
   "file_extension": ".py",
   "mimetype": "text/x-python",
   "name": "python",
   "nbconvert_exporter": "python",
   "pygments_lexer": "ipython3",
   "version": "3.8.8"
  }
 },
 "nbformat": 4,
 "nbformat_minor": 5
}
