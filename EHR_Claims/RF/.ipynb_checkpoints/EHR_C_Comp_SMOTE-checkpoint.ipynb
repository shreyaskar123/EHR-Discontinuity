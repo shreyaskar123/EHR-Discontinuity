{
 "cells": [
  {
   "cell_type": "code",
   "execution_count": 10,
   "id": "6967e526",
   "metadata": {},
   "outputs": [],
   "source": [
    "import pandas as pd \n",
    "medicare = pd.read_csv(\"/netapp2/home/se197/RPDR/Josh Lin/3_EHR_V2/CMS/final_medicare.csv\")"
   ]
  },
  {
   "cell_type": "code",
   "execution_count": 11,
   "id": "76c338df",
   "metadata": {},
   "outputs": [],
   "source": [
    "train_set = medicare[medicare.Hospital != 'BWH'] # MGH; n = 204014\n",
    "validation_set = medicare[medicare.Hospital == 'BWH'] # BWH and Neither; n = 115726\n",
    "import numpy as np\n",
    "\n",
    "fifty_perc_EHR_cont = np.percentile(medicare['Cal_MPEC_R0'],50)\n",
    "train_set_high = train_set[train_set.Cal_MPEC_R0 >= fifty_perc_EHR_cont]\n",
    "train_set_low= train_set[train_set.Cal_MPEC_R0 < fifty_perc_EHR_cont]\n",
    "\n",
    "validation_set_high = validation_set[validation_set.Cal_MPEC_R0 >= fifty_perc_EHR_cont]\n",
    "validation_set_low = validation_set[validation_set.Cal_MPEC_R0 < fifty_perc_EHR_cont]\n"
   ]
  },
  {
   "cell_type": "code",
   "execution_count": 12,
   "id": "4bcbe9e6",
   "metadata": {},
   "outputs": [],
   "source": [
    "predictor_variable_claims = [\n",
    "    'Co_CAD_RC0', 'Co_Embolism_RC0', 'Co_DVT_RC0', 'Co_PE_RC0', 'Co_AFib_RC0',\n",
    "        'Co_Hypertension_RC0', 'Co_Hyperlipidemia_RC0', 'Co_Atherosclerosis_RC0',\n",
    "        'Co_HF_RC0', 'Co_HemoStroke_RC0', 'Co_IscheStroke_RC0', 'Co_OthStroke_RC0',\n",
    "        'Co_TIA_RC0', 'Co_COPD_RC0', 'Co_Asthma_RC0', 'Co_Pneumonia_RC0', 'Co_Alcoholabuse_RC0',\n",
    "        'Co_Drugabuse_RC0', 'Co_Epilepsy_RC0', 'Co_Cancer_RC0', 'Co_MorbidObesity_RC0',\n",
    "        'Co_Dementia_RC0', 'Co_Depression_RC0', 'Co_Bipolar_RC0', 'Co_Psychosis_RC0',\n",
    "        'Co_Personalitydisorder_RC0', 'Co_Adjustmentdisorder_RC0', 'Co_Anxiety_RC0',\n",
    "        'Co_Generalizedanxiety_RC0', 'Co_OldMI_RC0', 'Co_AcuteMI_RC0', 'Co_PUD_RC0',\n",
    "        'Co_UpperGIbleed_RC0', 'Co_LowerGIbleed_RC0', 'Co_Urogenitalbleed_RC0',\n",
    "        'Co_Othbleed_RC0', 'Co_PVD_RC0', 'Co_LiverDisease_RC0', 'Co_MRI_RC0',\n",
    "        'Co_ESRD_RC0', 'Co_Obesity_RC0', 'Co_Sepsis_RC0', 'Co_Osteoarthritis_RC0',\n",
    "        'Co_RA_RC0', 'Co_NeuroPain_RC0', 'Co_NeckPain_RC0', 'Co_OthArthritis_RC0',\n",
    "        'Co_Osteoporosis_RC0', 'Co_Fibromyalgia_RC0', 'Co_Migraine_RC0', 'Co_Headache_RC0',\n",
    "        'Co_OthPain_RC0', 'Co_GeneralizedPain_RC0', 'Co_PainDisorder_RC0',\n",
    "        'Co_Falls_RC0', 'Co_CoagulationDisorder_RC0', 'Co_WhiteBloodCell_RC0', 'Co_Parkinson_RC0',\n",
    "        'Co_Anemia_RC0', 'Co_UrinaryIncontinence_RC0', 'Co_DecubitusUlcer_RC0',\n",
    "        'Co_Oxygen_RC0', 'Co_Mammography_RC0', 'Co_PapTest_RC0', 'Co_PSATest_RC0',\n",
    "        'Co_Colonoscopy_RC0', 'Co_FecalOccultTest_RC0', 'Co_FluShot_RC0', 'Co_PneumococcalVaccine_RC0' , 'Co_RenalDysfunction_RC0', 'Co_Valvular_RC0', 'Co_Hosp_Prior30Days_RC0',\n",
    "        'Co_RX_Antibiotic_RC0', 'Co_RX_Corticosteroid_RC0', 'Co_RX_Aspirin_RC0', 'Co_RX_Dipyridamole_RC0',\n",
    "        'Co_RX_Clopidogrel_RC0', 'Co_RX_Prasugrel_RC0', 'Co_RX_Cilostazol_RC0', 'Co_RX_Ticlopidine_RC0',\n",
    "        'Co_RX_Ticagrelor_RC0', 'Co_RX_OthAntiplatelet_RC0', 'Co_RX_NSAIDs_RC0',\n",
    "        'Co_RX_Opioid_RC0', 'Co_RX_Antidepressant_RC0', 'Co_RX_AAntipsychotic_RC0', 'Co_RX_TAntipsychotic_RC0',\n",
    "        'Co_RX_Anticonvulsant_RC0', 'Co_RX_PPI_RC0', 'Co_RX_H2Receptor_RC0', 'Co_RX_OthGastro_RC0',\n",
    "        'Co_RX_ACE_RC0', 'Co_RX_ARB_RC0', 'Co_RX_BBlocker_RC0', 'Co_RX_CCB_RC0', 'Co_RX_Thiazide_RC0',\n",
    "        'Co_RX_Loop_RC0', 'Co_RX_Potassium_RC0', 'Co_RX_Nitrates_RC0', 'Co_RX_Aliskiren_RC0',\n",
    "        'Co_RX_OthAntihypertensive_RC0', 'Co_RX_Antiarrhythmic_RC0', 'Co_RX_OthAnticoagulant_RC0',\n",
    "        'Co_RX_Insulin_RC0', 'Co_RX_Noninsulin_RC0', 'Co_RX_Digoxin_RC0', 'Co_RX_Statin_RC0',\n",
    "        'Co_RX_Lipid_RC0', 'Co_RX_Lithium_RC0', 'Co_RX_Benzo_RC0', 'Co_RX_ZDrugs_RC0',\n",
    "        'Co_RX_OthAnxiolytic_RC0', 'Co_RX_Barbiturate_RC0', 'Co_RX_Dementia_RC0', 'Co_RX_Hormone_RC0',\n",
    "        'Co_RX_Osteoporosis_RC0', 'Co_N_Drugs_RC0', 'Co_N_Hosp_RC0', 'Co_Total_HospLOS_RC0',\n",
    "        'Co_N_MDVisit_RC0', 'Co_RX_AnyAspirin_RC0', 'Co_RX_AspirinMono_RC0', 'Co_RX_ClopidogrelMono_RC0',\n",
    "        'Co_RX_AspirinClopidogrel_RC0', 'Co_RX_DM_RC0', 'Co_RX_Antipsychotic_RC0'\n",
    "]\n",
    "\n",
    "\n",
    "co_train_gpop = train_set[predictor_variable_claims]\n",
    "co_train_high = train_set_high[predictor_variable_claims]\n",
    "co_train_low = train_set_low[predictor_variable_claims]\n",
    "\n",
    "co_validation_gpop = validation_set[predictor_variable_claims]\n",
    "co_validation_high = validation_set_high[predictor_variable_claims]\n",
    "co_validation_low = validation_set_low[predictor_variable_claims]"
   ]
  },
  {
   "cell_type": "code",
   "execution_count": 13,
   "id": "8abd88e9",
   "metadata": {},
   "outputs": [],
   "source": [
    "out_train_death_gpop = train_set['ehr_claims_death']\n",
    "out_train_death_high = train_set_high['ehr_claims_death']\n",
    "out_train_death_low = train_set_low['ehr_claims_death']\n",
    "\n",
    "out_validation_death_gpop = validation_set['ehr_claims_death']\n",
    "out_validation_death_high = validation_set_high['ehr_claims_death']\n",
    "out_validation_death_low = validation_set_low['ehr_claims_death']"
   ]
  },
  {
   "cell_type": "code",
   "execution_count": 14,
   "id": "27e2fe3a",
   "metadata": {},
   "outputs": [],
   "source": [
    "def rf(X_train, y_train):\n",
    "    from sklearn.ensemble import RandomForestClassifier\n",
    "    from sklearn.model_selection import GridSearchCV\n",
    "\n",
    "    param_grid = {'bootstrap': [True],\n",
    "         'max_depth': [6, 10],\n",
    "         'min_samples_leaf': [3, 5],\n",
    "         'min_samples_split': [4, 6],\n",
    "         'n_estimators': [100, 350]\n",
    "        }\n",
    "\n",
    "\n",
    "    forest_clf = RandomForestClassifier()\n",
    "\n",
    "    forest_grid_search = GridSearchCV(forest_clf, param_grid, cv=5,\n",
    "                                      scoring=\"accuracy\",\n",
    "                                      return_train_score=True,\n",
    "                                      verbose=True,\n",
    "                                      n_jobs=-1)\n",
    "\n",
    "    best_clf = forest_grid_search.fit(X_train, y_train)\n",
    "    return best_clf \n"
   ]
  },
  {
   "cell_type": "code",
   "execution_count": 15,
   "id": "158d6ddb",
   "metadata": {},
   "outputs": [],
   "source": [
    "def scores(X,y):\n",
    "    from sklearn.metrics import accuracy_score\n",
    "    from sklearn.metrics import f1_score\n",
    "    from sklearn.metrics import fbeta_score\n",
    "    from sklearn.metrics import roc_auc_score \n",
    "    from sklearn.metrics import log_loss\n",
    "\n",
    "    pred = best_clf.predict(X)\n",
    "    actual = y\n",
    "    print(accuracy_score(actual,pred))\n",
    "    print(f1_score(actual,pred))\n",
    "    print(fbeta_score(actual,pred, average = 'macro', beta = 2))\n",
    "   \n",
    "    print(roc_auc_score(actual,best_clf.predict_proba(X)[:,1]))\n",
    "    print(log_loss(actual,pred))"
   ]
  },
  {
   "cell_type": "markdown",
   "id": "2ea5a839",
   "metadata": {},
   "source": [
    "# General Population\n"
   ]
  },
  {
   "cell_type": "code",
   "execution_count": 16,
   "id": "f3e718bf",
   "metadata": {},
   "outputs": [
    {
     "name": "stdout",
     "output_type": "stream",
     "text": [
      "Fitting 5 folds for each of 16 candidates, totalling 80 fits\n",
      "0.9524567711008389\n",
      "0.9508712958867758\n",
      "0.9521988520370556\n",
      "0.9887657002912981\n",
      "1.642091057509346\n",
      "\n",
      "0.9233108842059526\n",
      "0.44509319559847293\n",
      "0.6706021586983829\n",
      "0.8981866386746574\n",
      "2.6487592902851613\n",
      "\n",
      "0.8929497407259673\n",
      "0.2778338378742012\n",
      "0.5924792726122282\n",
      "0.8305470499985593\n",
      "3.6974043041796416\n"
     ]
    }
   ],
   "source": [
    "from imblearn.over_sampling import SMOTE\n",
    "sm = SMOTE(random_state = 42)\n",
    "co_train_gpop_sm,out_train_death_gpop_sm = sm.fit_resample(co_train_gpop,out_train_death_gpop)\n",
    "\n",
    "best_clf = rf(co_train_gpop_sm, out_train_death_gpop_sm)\n",
    "\n",
    "scores(co_train_gpop_sm, out_train_death_gpop_sm)\n",
    "\n",
    "print()\n",
    "\n",
    "scores(co_train_gpop, out_train_death_gpop)\n",
    "\n",
    "print()\n",
    "\n",
    "scores(co_validation_gpop, out_validation_death_gpop)"
   ]
  },
  {
   "cell_type": "markdown",
   "id": "6ea96222",
   "metadata": {},
   "source": [
    "# Low Continuity \n"
   ]
  },
  {
   "cell_type": "code",
   "execution_count": 17,
   "id": "7956686f",
   "metadata": {},
   "outputs": [
    {
     "name": "stdout",
     "output_type": "stream",
     "text": [
      "Fitting 5 folds for each of 16 candidates, totalling 80 fits\n",
      "0.9496506068407503\n",
      "0.9478297320986242\n",
      "0.9493483694213128\n",
      "0.9889388351974262\n",
      "1.7390126075797385\n",
      "\n",
      "0.9182247525393026\n",
      "0.5611111111111111\n",
      "0.7248407300014289\n",
      "0.9235407122334812\n",
      "2.824427850076176\n",
      "\n",
      "0.8655277724756633\n",
      "0.2986560477849677\n",
      "0.5952553201773697\n",
      "0.8135177815440819\n",
      "4.644529091397043\n"
     ]
    }
   ],
   "source": [
    "from imblearn.over_sampling import SMOTE\n",
    "sm = SMOTE(random_state = 42)\n",
    "co_train_low_sm,out_train_death_low_sm = sm.fit_resample(co_train_low,out_train_death_low)\n",
    "\n",
    "best_clf = rf(co_train_low_sm, out_train_death_low_sm)\n",
    "\n",
    "scores(co_train_low_sm, out_train_death_low_sm)\n",
    "\n",
    "print()\n",
    "\n",
    "scores(co_train_low, out_train_death_low)\n",
    "\n",
    "print()\n",
    "\n",
    "scores(co_validation_low, out_validation_death_low)\n",
    "\n"
   ]
  },
  {
   "cell_type": "markdown",
   "id": "1afd9644",
   "metadata": {},
   "source": [
    "# High Continuity "
   ]
  },
  {
   "cell_type": "code",
   "execution_count": 18,
   "id": "e82a801c",
   "metadata": {},
   "outputs": [
    {
     "name": "stdout",
     "output_type": "stream",
     "text": [
      "Fitting 5 folds for each of 16 candidates, totalling 80 fits\n",
      "0.9714606021780909\n",
      "0.9707667574395485\n",
      "0.9713228157680759\n",
      "0.9954749641013476\n",
      "0.985717800694193\n",
      "\n",
      "0.9491768074445239\n",
      "0.4694894146948941\n",
      "0.6791328755820475\n",
      "0.9395523688876501\n",
      "1.7553744606460973\n",
      "\n",
      "0.9260806013781583\n",
      "0.20090293453724606\n",
      "0.5649180895159425\n",
      "0.8375584965575988\n",
      "2.553096516481533\n"
     ]
    }
   ],
   "source": [
    "from imblearn.over_sampling import SMOTE\n",
    "sm = SMOTE(random_state = 42)\n",
    "co_train_high_sm,out_train_death_high_sm = sm.fit_resample(co_train_high,out_train_death_high)\n",
    "\n",
    "best_clf = rf(co_train_high_sm, out_train_death_high_sm)\n",
    "\n",
    "scores(co_train_high_sm, out_train_death_high_sm)\n",
    "\n",
    "print()\n",
    "\n",
    "scores(co_train_high, out_train_death_high)\n",
    "\n",
    "print()\n",
    "\n",
    "scores(co_validation_high, out_validation_death_high)\n"
   ]
  },
  {
   "cell_type": "code",
   "execution_count": null,
   "id": "a4ddffdf",
   "metadata": {},
   "outputs": [],
   "source": []
  },
  {
   "cell_type": "code",
   "execution_count": null,
   "id": "f5c7e872",
   "metadata": {},
   "outputs": [],
   "source": []
  }
 ],
 "metadata": {
  "kernelspec": {
   "display_name": "Python 3",
   "language": "python",
   "name": "python3"
  },
  "language_info": {
   "codemirror_mode": {
    "name": "ipython",
    "version": 3
   },
   "file_extension": ".py",
   "mimetype": "text/x-python",
   "name": "python",
   "nbconvert_exporter": "python",
   "pygments_lexer": "ipython3",
   "version": "3.8.8"
  }
 },
 "nbformat": 4,
 "nbformat_minor": 5
}
