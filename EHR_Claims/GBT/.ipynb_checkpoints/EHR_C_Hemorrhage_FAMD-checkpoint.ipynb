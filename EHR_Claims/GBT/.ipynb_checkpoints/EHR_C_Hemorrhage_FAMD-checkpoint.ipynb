{
 "cells": [
  {
   "cell_type": "code",
   "execution_count": 1,
   "id": "0c727670",
   "metadata": {},
   "outputs": [],
   "source": [
    "import pandas as pd \n",
    "medicare = pd.read_csv(\"/netapp2/home/se197/RPDR/Josh Lin/3_EHR_V2/CMS/final_medicare.csv\")"
   ]
  },
  {
   "cell_type": "code",
   "execution_count": 2,
   "id": "53f97aa4",
   "metadata": {},
   "outputs": [],
   "source": [
    "train_set = medicare[medicare.Hospital != 'BWH'] # MGH; n = 204014\n",
    "validation_set = medicare[medicare.Hospital == 'BWH'] # BWH and Neither; n = 115726\n",
    "import numpy as np\n",
    "\n",
    "fifty_perc_EHR_cont = np.percentile(medicare['Cal_MPEC_R0'],50)\n",
    "train_set_high = train_set[train_set.Cal_MPEC_R0 >= fifty_perc_EHR_cont]\n",
    "train_set_low= train_set[train_set.Cal_MPEC_R0 < fifty_perc_EHR_cont]\n",
    "\n",
    "validation_set_high = validation_set[validation_set.Cal_MPEC_R0 >= fifty_perc_EHR_cont]\n",
    "validation_set_low = validation_set[validation_set.Cal_MPEC_R0 < fifty_perc_EHR_cont]\n"
   ]
  },
  {
   "cell_type": "code",
   "execution_count": 3,
   "id": "244e4150",
   "metadata": {},
   "outputs": [],
   "source": [
    "predictor_variable_claims = [\n",
    "    'Co_CAD_RC0', 'Co_Embolism_RC0', 'Co_DVT_RC0', 'Co_PE_RC0', 'Co_AFib_RC0',\n",
    "        'Co_Hypertension_RC0', 'Co_Hyperlipidemia_RC0', 'Co_Atherosclerosis_RC0',\n",
    "        'Co_HF_RC0', 'Co_HemoStroke_RC0', 'Co_IscheStroke_RC0', 'Co_OthStroke_RC0',\n",
    "        'Co_TIA_RC0', 'Co_COPD_RC0', 'Co_Asthma_RC0', 'Co_Pneumonia_RC0', 'Co_Alcoholabuse_RC0',\n",
    "        'Co_Drugabuse_RC0', 'Co_Epilepsy_RC0', 'Co_Cancer_RC0', 'Co_MorbidObesity_RC0',\n",
    "        'Co_Dementia_RC0', 'Co_Depression_RC0', 'Co_Bipolar_RC0', 'Co_Psychosis_RC0',\n",
    "        'Co_Personalitydisorder_RC0', 'Co_Adjustmentdisorder_RC0', 'Co_Anxiety_RC0',\n",
    "        'Co_Generalizedanxiety_RC0', 'Co_OldMI_RC0', 'Co_AcuteMI_RC0', 'Co_PUD_RC0',\n",
    "        'Co_UpperGIbleed_RC0', 'Co_LowerGIbleed_RC0', 'Co_Urogenitalbleed_RC0',\n",
    "        'Co_Othbleed_RC0', 'Co_PVD_RC0', 'Co_LiverDisease_RC0', 'Co_MRI_RC0',\n",
    "        'Co_ESRD_RC0', 'Co_Obesity_RC0', 'Co_Sepsis_RC0', 'Co_Osteoarthritis_RC0',\n",
    "        'Co_RA_RC0', 'Co_NeuroPain_RC0', 'Co_NeckPain_RC0', 'Co_OthArthritis_RC0',\n",
    "        'Co_Osteoporosis_RC0', 'Co_Fibromyalgia_RC0', 'Co_Migraine_RC0', 'Co_Headache_RC0',\n",
    "        'Co_OthPain_RC0', 'Co_GeneralizedPain_RC0', 'Co_PainDisorder_RC0',\n",
    "        'Co_Falls_RC0', 'Co_CoagulationDisorder_RC0', 'Co_WhiteBloodCell_RC0', 'Co_Parkinson_RC0',\n",
    "        'Co_Anemia_RC0', 'Co_UrinaryIncontinence_RC0', 'Co_DecubitusUlcer_RC0',\n",
    "        'Co_Oxygen_RC0', 'Co_Mammography_RC0', 'Co_PapTest_RC0', 'Co_PSATest_RC0',\n",
    "        'Co_Colonoscopy_RC0', 'Co_FecalOccultTest_RC0', 'Co_FluShot_RC0', 'Co_PneumococcalVaccine_RC0' , 'Co_RenalDysfunction_RC0', 'Co_Valvular_RC0', 'Co_Hosp_Prior30Days_RC0',\n",
    "        'Co_RX_Antibiotic_RC0', 'Co_RX_Corticosteroid_RC0', 'Co_RX_Aspirin_RC0', 'Co_RX_Dipyridamole_RC0',\n",
    "        'Co_RX_Clopidogrel_RC0', 'Co_RX_Prasugrel_RC0', 'Co_RX_Cilostazol_RC0', 'Co_RX_Ticlopidine_RC0',\n",
    "        'Co_RX_Ticagrelor_RC0', 'Co_RX_OthAntiplatelet_RC0', 'Co_RX_NSAIDs_RC0',\n",
    "        'Co_RX_Opioid_RC0', 'Co_RX_Antidepressant_RC0', 'Co_RX_AAntipsychotic_RC0', 'Co_RX_TAntipsychotic_RC0',\n",
    "        'Co_RX_Anticonvulsant_RC0', 'Co_RX_PPI_RC0', 'Co_RX_H2Receptor_RC0', 'Co_RX_OthGastro_RC0',\n",
    "        'Co_RX_ACE_RC0', 'Co_RX_ARB_RC0', 'Co_RX_BBlocker_RC0', 'Co_RX_CCB_RC0', 'Co_RX_Thiazide_RC0',\n",
    "        'Co_RX_Loop_RC0', 'Co_RX_Potassium_RC0', 'Co_RX_Nitrates_RC0', 'Co_RX_Aliskiren_RC0',\n",
    "        'Co_RX_OthAntihypertensive_RC0', 'Co_RX_Antiarrhythmic_RC0', 'Co_RX_OthAnticoagulant_RC0',\n",
    "        'Co_RX_Insulin_RC0', 'Co_RX_Noninsulin_RC0', 'Co_RX_Digoxin_RC0', 'Co_RX_Statin_RC0',\n",
    "        'Co_RX_Lipid_RC0', 'Co_RX_Lithium_RC0', 'Co_RX_Benzo_RC0', 'Co_RX_ZDrugs_RC0',\n",
    "        'Co_RX_OthAnxiolytic_RC0', 'Co_RX_Dementia_RC0', 'Co_RX_Hormone_RC0',\n",
    "        'Co_RX_Osteoporosis_RC0', 'Co_N_Drugs_RC0', 'Co_N_Hosp_RC0', 'Co_Total_HospLOS_RC0',\n",
    "        'Co_N_MDVisit_RC0', 'Co_RX_AnyAspirin_RC0', 'Co_RX_AspirinMono_RC0', 'Co_RX_ClopidogrelMono_RC0',\n",
    "        'Co_RX_AspirinClopidogrel_RC0', 'Co_RX_DM_RC0', 'Co_RX_Antipsychotic_RC0'\n",
    "]\n",
    "\n",
    "\n",
    "co_train_gpop = train_set[predictor_variable_claims]\n",
    "co_train_high = train_set_high[predictor_variable_claims]\n",
    "co_train_low = train_set_low[predictor_variable_claims]\n",
    "\n",
    "co_validation_gpop = validation_set[predictor_variable_claims]\n",
    "co_validation_high = validation_set_high[predictor_variable_claims]\n",
    "co_validation_low = validation_set_low[predictor_variable_claims]"
   ]
  },
  {
   "cell_type": "code",
   "execution_count": 4,
   "id": "8ec004ec",
   "metadata": {},
   "outputs": [],
   "source": [
    "out_train_death_gpop = train_set['ehr_claims_death']\n",
    "out_train_death_high = train_set_high['ehr_claims_death']\n",
    "out_train_death_low = train_set_low['ehr_claims_death']\n",
    "\n",
    "out_validation_death_gpop = validation_set['ehr_claims_death']\n",
    "out_validation_death_high = validation_set_high['ehr_claims_death']\n",
    "out_validation_death_low = validation_set_low['ehr_claims_death']"
   ]
  },
  {
   "cell_type": "code",
   "execution_count": 5,
   "id": "af57366e",
   "metadata": {},
   "outputs": [],
   "source": [
    "def xgBoost(X,y):\n",
    "    from xgboost import XGBClassifier\n",
    "    from sklearn.model_selection import GridSearchCV\n",
    "    model = XGBClassifier()\n",
    "    param_grid = [{\n",
    "        'max_depth': [2,3],\n",
    "        'n_estimators': [60,160],\n",
    "    }]\n",
    "    grid_search = GridSearchCV(\n",
    "    estimator=model,\n",
    "    param_grid=param_grid,\n",
    "    n_jobs = -1,\n",
    "    cv = 5,\n",
    "    verbose=True\n",
    ")\n",
    "    best_clf = grid_search.fit(X,y)\n",
    "    return best_clf"
   ]
  },
  {
   "cell_type": "code",
   "execution_count": 6,
   "id": "dd558d79",
   "metadata": {},
   "outputs": [],
   "source": [
    "def scores(X,y):\n",
    "    from sklearn.metrics import accuracy_score\n",
    "    from sklearn.metrics import f1_score\n",
    "    from sklearn.metrics import fbeta_score\n",
    "    from sklearn.metrics import roc_auc_score \n",
    "    from sklearn.metrics import log_loss\n",
    "\n",
    "    pred = best_clf.predict(X)\n",
    "    actual = y\n",
    "    print(accuracy_score(actual,pred))\n",
    "    print(f1_score(actual,pred))\n",
    "    print(fbeta_score(actual,pred, average = 'macro', beta = 2))\n",
    "    print(roc_auc_score(actual, best_clf.predict_proba(X)[:,1]))\n",
    "    print(log_loss(actual,pred))"
   ]
  },
  {
   "cell_type": "markdown",
   "id": "3d1b054e",
   "metadata": {},
   "source": [
    "# FAMD Transformation"
   ]
  },
  {
   "cell_type": "code",
   "execution_count": 7,
   "id": "e947bc1c",
   "metadata": {},
   "outputs": [
    {
     "name": "stderr",
     "output_type": "stream",
     "text": [
      "/PHShome/se197/anaconda3/lib/python3.8/site-packages/pandas/core/series.py:4509: SettingWithCopyWarning: \n",
      "A value is trying to be set on a copy of a slice from a DataFrame\n",
      "\n",
      "See the caveats in the documentation: https://pandas.pydata.org/pandas-docs/stable/user_guide/indexing.html#returning-a-view-versus-a-copy\n",
      "  return super().replace(\n"
     ]
    }
   ],
   "source": [
    "from prince import FAMD\n",
    "famd = FAMD(n_components = 15, n_iter = 3, random_state = 101)\n",
    "\n",
    "for (colName, colData) in co_train_gpop.iteritems():\n",
    "    if (colName != 'Co_N_Drugs_RC0' and colName!= 'Co_N_Hosp_RC0' and colName != 'Co_Total_HospLOS_RC0' and colName != 'Co_N_MDVisit_RC0'):\n",
    "        co_train_gpop[colName].replace((1,0) ,('yes','no'), inplace = True)\n",
    "        co_train_low[colName].replace((1,0) ,('yes','no'), inplace = True)\n",
    "        co_train_high[colName].replace((1,0) ,('yes','no'), inplace = True)\n",
    "        co_validation_gpop[colName].replace((1,0), ('yes','no'), inplace = True)\n",
    "        co_validation_high[colName].replace((1,0), ('yes','no'), inplace = True)\n",
    "        co_validation_low[colName].replace((1,0), ('yes','no'), inplace = True)\n",
    "\n",
    "\n",
    "\n",
    "\n",
    "famd.fit(co_train_gpop)\n",
    "co_train_gpop_FAMD = famd.transform(co_train_gpop)  \n",
    "\n",
    "famd.fit(co_train_high)\n",
    "co_train_high_FAMD = famd.transform(co_train_high)  \n",
    "\n",
    "famd.fit(co_train_low)\n",
    "co_train_low_FAMD = famd.transform(co_train_low)  \n",
    "\n",
    "famd.fit(co_validation_gpop)\n",
    "co_validation_gpop_FAMD = famd.transform(co_validation_gpop)    \n",
    "\n",
    "famd.fit(co_validation_high)\n",
    "co_validation_high_FAMD = famd.transform(co_validation_high)    \n",
    "\n",
    "famd.fit(co_validation_low)\n",
    "co_validation_low_FAMD = famd.transform(co_validation_low)    \n",
    "\n"
   ]
  },
  {
   "cell_type": "code",
   "execution_count": null,
   "id": "b7d07675",
   "metadata": {},
   "outputs": [],
   "source": []
  },
  {
   "cell_type": "markdown",
   "id": "73fa0496",
   "metadata": {},
   "source": [
    "# General Population"
   ]
  },
  {
   "cell_type": "code",
   "execution_count": 8,
   "id": "a9310544",
   "metadata": {},
   "outputs": [
    {
     "name": "stdout",
     "output_type": "stream",
     "text": [
      "Fitting 5 folds for each of 4 candidates, totalling 20 fits\n"
     ]
    },
    {
     "name": "stderr",
     "output_type": "stream",
     "text": [
      "/PHShome/se197/anaconda3/lib/python3.8/site-packages/xgboost/sklearn.py:1146: UserWarning: The use of label encoder in XGBClassifier is deprecated and will be removed in a future release. To remove this warning, do the following: 1) Pass option use_label_encoder=False when constructing XGBClassifier object; and 2) Encode your labels (y) as integers starting with 0, i.e. 0, 1, 2, ..., [num_class - 1].\n",
      "  warnings.warn(label_encoder_deprecation_msg, UserWarning)\n"
     ]
    },
    {
     "name": "stdout",
     "output_type": "stream",
     "text": [
      "[03:19:22] WARNING: ../src/learner.cc:1095: Starting in XGBoost 1.3.0, the default evaluation metric used with the objective 'binary:logistic' was changed from 'error' to 'logloss'. Explicitly set eval_metric if you'd like to restore the old behavior.\n",
      "0.9084137674187641\n",
      "0.14339622641509434\n",
      "0.5376621423971908\n",
      "0.8424628483731347\n",
      "3.1632809244937694\n",
      "\n",
      "0.8936477861986438\n",
      "0.07220530665506743\n",
      "0.5104147869661625\n",
      "0.7673067756259453\n",
      "3.6732809530106776\n"
     ]
    }
   ],
   "source": [
    "best_clf = xgBoost(co_train_gpop_FAMD, out_train_death_gpop)\n",
    "\n",
    "scores(co_train_gpop_FAMD, out_train_death_gpop)\n",
    "\n",
    "print()\n",
    "\n",
    "scores(co_validation_gpop_FAMD, out_validation_death_gpop)"
   ]
  },
  {
   "cell_type": "markdown",
   "id": "0c28834c",
   "metadata": {},
   "source": [
    "# High Continuity "
   ]
  },
  {
   "cell_type": "code",
   "execution_count": null,
   "id": "fe4ecc98",
   "metadata": {},
   "outputs": [
    {
     "name": "stdout",
     "output_type": "stream",
     "text": [
      "Fitting 5 folds for each of 4 candidates, totalling 20 fits\n"
     ]
    }
   ],
   "source": [
    "best_clf = xgBoost(co_train_high_FAMD, out_train_death_high)\n",
    "\n",
    "scores(co_train_high_FAMD, out_train_death_high)\n",
    "\n",
    "print()\n",
    "\n",
    "scores(co_validation_high_FAMD, out_validation_death_high)"
   ]
  },
  {
   "cell_type": "markdown",
   "id": "2e7cd439",
   "metadata": {},
   "source": [
    "# Low Continuity "
   ]
  },
  {
   "cell_type": "code",
   "execution_count": null,
   "id": "f83f3fa3",
   "metadata": {},
   "outputs": [],
   "source": [
    "best_clf = xgBoost(co_train_low_FAMD, out_train_death_low)\n",
    "\n",
    "scores(co_train_low_FAMD, out_train_death_low)\n",
    "\n",
    "print()\n",
    "\n",
    "scores(co_validation_low_FAMD, out_validation_death_low)"
   ]
  },
  {
   "cell_type": "code",
   "execution_count": null,
   "id": "417e677c",
   "metadata": {},
   "outputs": [],
   "source": []
  },
  {
   "cell_type": "code",
   "execution_count": null,
   "id": "83370c4a",
   "metadata": {},
   "outputs": [],
   "source": []
  },
  {
   "cell_type": "code",
   "execution_count": null,
   "id": "a869b4c5",
   "metadata": {},
   "outputs": [],
   "source": []
  }
 ],
 "metadata": {
  "kernelspec": {
   "display_name": "Python 3",
   "language": "python",
   "name": "python3"
  },
  "language_info": {
   "codemirror_mode": {
    "name": "ipython",
    "version": 3
   },
   "file_extension": ".py",
   "mimetype": "text/x-python",
   "name": "python",
   "nbconvert_exporter": "python",
   "pygments_lexer": "ipython3",
   "version": "3.8.8"
  }
 },
 "nbformat": 4,
 "nbformat_minor": 5
}
